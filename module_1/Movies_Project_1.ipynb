{
 "cells": [
  {
   "cell_type": "code",
   "execution_count": 2,
   "metadata": {
    "_cell_guid": "b1076dfc-b9ad-4769-8c92-a6c4dae69d19",
    "_uuid": "8f2839f25d086af736a60e9eeb907d3b93b6e0e5",
    "colab": {},
    "colab_type": "code",
    "id": "U2D2gTdJVp90"
   },
   "outputs": [],
   "source": [
    "import numpy as np\n",
    "import pandas as pd\n",
    "import seaborn as sns\n",
    "import matplotlib.pyplot as plt\n",
    "from collections import Counter\n",
    "from itertools import combinations\n",
    "from itertools import chain"
   ]
  },
  {
   "cell_type": "code",
   "execution_count": 3,
   "metadata": {
    "_cell_guid": "79c7e3d0-c299-4dcb-8224-4455121ee9b0",
    "_uuid": "d629ff2d2480ee46fbb7e2d37f6b5fab8052498a",
    "colab": {},
    "colab_type": "code",
    "id": "oyGfxL3eVp9-"
   },
   "outputs": [
    {
     "name": "stdout",
     "output_type": "stream",
     "text": [
      "<class 'pandas.core.frame.DataFrame'>\n",
      "RangeIndex: 1889 entries, 0 to 1888\n",
      "Data columns (total 14 columns):\n",
      " #   Column                Non-Null Count  Dtype  \n",
      "---  ------                --------------  -----  \n",
      " 0   imdb_id               1889 non-null   object \n",
      " 1   budget                1889 non-null   int64  \n",
      " 2   revenue               1889 non-null   int64  \n",
      " 3   original_title        1889 non-null   object \n",
      " 4   cast                  1889 non-null   object \n",
      " 5   director              1889 non-null   object \n",
      " 6   tagline               1889 non-null   object \n",
      " 7   overview              1889 non-null   object \n",
      " 8   runtime               1889 non-null   int64  \n",
      " 9   genres                1889 non-null   object \n",
      " 10  production_companies  1889 non-null   object \n",
      " 11  release_date          1889 non-null   object \n",
      " 12  vote_average          1889 non-null   float64\n",
      " 13  release_year          1889 non-null   int64  \n",
      "dtypes: float64(1), int64(4), object(9)\n",
      "memory usage: 206.7+ KB\n"
     ]
    }
   ],
   "source": [
    "data = pd.read_csv('movie_bd_v5.csv', encoding='utf_8')\n",
    "data.sample(5)\n",
    "data.info()"
   ]
  },
  {
   "cell_type": "code",
   "execution_count": 4,
   "metadata": {
    "colab": {},
    "colab_type": "code",
    "id": "CoYUnagMVp-C",
    "scrolled": true
   },
   "outputs": [
    {
     "data": {
      "text/html": [
       "<div>\n",
       "<style scoped>\n",
       "    .dataframe tbody tr th:only-of-type {\n",
       "        vertical-align: middle;\n",
       "    }\n",
       "\n",
       "    .dataframe tbody tr th {\n",
       "        vertical-align: top;\n",
       "    }\n",
       "\n",
       "    .dataframe thead th {\n",
       "        text-align: right;\n",
       "    }\n",
       "</style>\n",
       "<table border=\"1\" class=\"dataframe\">\n",
       "  <thead>\n",
       "    <tr style=\"text-align: right;\">\n",
       "      <th></th>\n",
       "      <th>budget</th>\n",
       "      <th>revenue</th>\n",
       "      <th>runtime</th>\n",
       "      <th>vote_average</th>\n",
       "      <th>release_year</th>\n",
       "    </tr>\n",
       "  </thead>\n",
       "  <tbody>\n",
       "    <tr>\n",
       "      <th>count</th>\n",
       "      <td>1.889000e+03</td>\n",
       "      <td>1.889000e+03</td>\n",
       "      <td>1889.000000</td>\n",
       "      <td>1889.000000</td>\n",
       "      <td>1889.000000</td>\n",
       "    </tr>\n",
       "    <tr>\n",
       "      <th>mean</th>\n",
       "      <td>5.431083e+07</td>\n",
       "      <td>1.553653e+08</td>\n",
       "      <td>109.658549</td>\n",
       "      <td>6.140762</td>\n",
       "      <td>2007.860773</td>\n",
       "    </tr>\n",
       "    <tr>\n",
       "      <th>std</th>\n",
       "      <td>4.858721e+07</td>\n",
       "      <td>2.146698e+08</td>\n",
       "      <td>18.017041</td>\n",
       "      <td>0.764763</td>\n",
       "      <td>4.468841</td>\n",
       "    </tr>\n",
       "    <tr>\n",
       "      <th>min</th>\n",
       "      <td>5.000000e+06</td>\n",
       "      <td>2.033165e+06</td>\n",
       "      <td>63.000000</td>\n",
       "      <td>3.300000</td>\n",
       "      <td>2000.000000</td>\n",
       "    </tr>\n",
       "    <tr>\n",
       "      <th>25%</th>\n",
       "      <td>2.000000e+07</td>\n",
       "      <td>3.456058e+07</td>\n",
       "      <td>97.000000</td>\n",
       "      <td>5.600000</td>\n",
       "      <td>2004.000000</td>\n",
       "    </tr>\n",
       "    <tr>\n",
       "      <th>50%</th>\n",
       "      <td>3.800000e+07</td>\n",
       "      <td>8.361541e+07</td>\n",
       "      <td>107.000000</td>\n",
       "      <td>6.100000</td>\n",
       "      <td>2008.000000</td>\n",
       "    </tr>\n",
       "    <tr>\n",
       "      <th>75%</th>\n",
       "      <td>7.200000e+07</td>\n",
       "      <td>1.782626e+08</td>\n",
       "      <td>120.000000</td>\n",
       "      <td>6.600000</td>\n",
       "      <td>2012.000000</td>\n",
       "    </tr>\n",
       "    <tr>\n",
       "      <th>max</th>\n",
       "      <td>3.800000e+08</td>\n",
       "      <td>2.781506e+09</td>\n",
       "      <td>214.000000</td>\n",
       "      <td>8.100000</td>\n",
       "      <td>2015.000000</td>\n",
       "    </tr>\n",
       "  </tbody>\n",
       "</table>\n",
       "</div>"
      ],
      "text/plain": [
       "             budget       revenue      runtime  vote_average  release_year\n",
       "count  1.889000e+03  1.889000e+03  1889.000000   1889.000000   1889.000000\n",
       "mean   5.431083e+07  1.553653e+08   109.658549      6.140762   2007.860773\n",
       "std    4.858721e+07  2.146698e+08    18.017041      0.764763      4.468841\n",
       "min    5.000000e+06  2.033165e+06    63.000000      3.300000   2000.000000\n",
       "25%    2.000000e+07  3.456058e+07    97.000000      5.600000   2004.000000\n",
       "50%    3.800000e+07  8.361541e+07   107.000000      6.100000   2008.000000\n",
       "75%    7.200000e+07  1.782626e+08   120.000000      6.600000   2012.000000\n",
       "max    3.800000e+08  2.781506e+09   214.000000      8.100000   2015.000000"
      ]
     },
     "execution_count": 4,
     "metadata": {},
     "output_type": "execute_result"
    }
   ],
   "source": [
    "data.describe()"
   ]
  },
  {
   "cell_type": "markdown",
   "metadata": {
    "colab_type": "text",
    "id": "DTIt7ezGVp-G"
   },
   "source": [
    "# Предобработка"
   ]
  },
  {
   "cell_type": "code",
   "execution_count": 5,
   "metadata": {
    "colab": {},
    "colab_type": "code",
    "id": "jNb40DwKVp-H"
   },
   "outputs": [],
   "source": [
    "answers = {}  # создадим словарь для ответов\n",
    "\n",
    "# тут другие ваши предобработки колонок например:\n",
    "\n",
    "# the time given in the dataset is in string format.\n",
    "# So we need to change this in datetime format\n",
    "data['release_date'] = pd.to_datetime(data['release_date'])\n",
    "\n",
    "# создадим столбец с прибылью и поставим его сразу после бюджета и выручки\n",
    "data['profit'] = data['revenue'] - data['budget']\n",
    "data = data[['imdb_id', 'budget', 'revenue', 'profit', 'original_title', 'cast', 'director', 'tagline',\n",
    "             'overview', 'runtime', 'genres', 'production_companies', 'release_date', 'vote_average', 'release_year']]\n",
    "\n",
    "# Создадим датафрейм из столбца \"genre\" разбив его на столбцы, в которых перечислены все жанры относящиеся к каждому фильму\n",
    "allgenres = data['genres'].str.split('|', expand=True)\n",
    "allgenres.columns = ['genre1', 'genre2', 'genre3', 'genre4', 'genre5']\n",
    "\n",
    "# Создадим новый датафрейм, из первоначального 'data', путем присоединения столбцов датафрейма 'allgenres'\n",
    "allmovies = pd.concat([data, allgenres], axis=1)\n",
    "\n",
    "# Уберем первоначальный столбец 'genres'\n",
    "allmovies = allmovies.drop('genres', axis=1)\n",
    "\n",
    "# создадим в исходном датафрейме столбец с месяцем выхода кинофильма\n",
    "data['release_month'] = data.release_date.dt.month"
   ]
  },
  {
   "cell_type": "markdown",
   "metadata": {
    "colab_type": "text",
    "id": "YxZaH-nPVp-L"
   },
   "source": [
    "# 1. У какого фильма из списка самый большой бюджет?"
   ]
  },
  {
   "cell_type": "markdown",
   "metadata": {
    "colab_type": "text",
    "id": "Nd-G5gX6Vp-M"
   },
   "source": [
    "Использовать варианты ответов в коде решения запрещено.    \n",
    "Вы думаете и в жизни у вас будут варианты ответов?)"
   ]
  },
  {
   "cell_type": "code",
   "execution_count": 6,
   "metadata": {
    "colab": {},
    "colab_type": "code",
    "id": "uVnXAY5RVp-O"
   },
   "outputs": [],
   "source": [
    "# в словарь вставляем номер вопроса и ответ на него\n",
    "answers['1'] = '5. Pirates of the Caribbean: On Stranger Tides (tt1298650)'"
   ]
  },
  {
   "cell_type": "code",
   "execution_count": 7,
   "metadata": {
    "colab": {},
    "colab_type": "code",
    "id": "dZwb3m28Vp-S"
   },
   "outputs": [
    {
     "data": {
      "text/plain": [
       "723    Pirates of the Caribbean: On Stranger Tides\n",
       "Name: original_title, dtype: object"
      ]
     },
     "metadata": {},
     "output_type": "display_data"
    }
   ],
   "source": [
    "# тут пишем ваш код для решения данного вопроса:\n",
    "display(data.original_title[data.budget == data.budget.max()])"
   ]
  },
  {
   "cell_type": "code",
   "execution_count": 8,
   "metadata": {
    "colab": {},
    "colab_type": "code",
    "id": "OGaoQI7rVp-X"
   },
   "outputs": [
    {
     "data": {
      "text/html": [
       "<div>\n",
       "<style scoped>\n",
       "    .dataframe tbody tr th:only-of-type {\n",
       "        vertical-align: middle;\n",
       "    }\n",
       "\n",
       "    .dataframe tbody tr th {\n",
       "        vertical-align: top;\n",
       "    }\n",
       "\n",
       "    .dataframe thead th {\n",
       "        text-align: right;\n",
       "    }\n",
       "</style>\n",
       "<table border=\"1\" class=\"dataframe\">\n",
       "  <thead>\n",
       "    <tr style=\"text-align: right;\">\n",
       "      <th></th>\n",
       "      <th>imdb_id</th>\n",
       "      <th>budget</th>\n",
       "      <th>revenue</th>\n",
       "      <th>profit</th>\n",
       "      <th>original_title</th>\n",
       "      <th>cast</th>\n",
       "      <th>director</th>\n",
       "      <th>tagline</th>\n",
       "      <th>overview</th>\n",
       "      <th>runtime</th>\n",
       "      <th>genres</th>\n",
       "      <th>production_companies</th>\n",
       "      <th>release_date</th>\n",
       "      <th>vote_average</th>\n",
       "      <th>release_year</th>\n",
       "      <th>release_month</th>\n",
       "    </tr>\n",
       "  </thead>\n",
       "  <tbody>\n",
       "    <tr>\n",
       "      <th>723</th>\n",
       "      <td>tt1298650</td>\n",
       "      <td>380000000</td>\n",
       "      <td>1021683000</td>\n",
       "      <td>641683000</td>\n",
       "      <td>Pirates of the Caribbean: On Stranger Tides</td>\n",
       "      <td>Johnny Depp|PenÃ©lope Cruz|Geoffrey Rush|Ian M...</td>\n",
       "      <td>Rob Marshall</td>\n",
       "      <td>Live Forever Or Die Trying.</td>\n",
       "      <td>Captain Jack Sparrow crosses paths with a woma...</td>\n",
       "      <td>136</td>\n",
       "      <td>Adventure|Action|Fantasy</td>\n",
       "      <td>Walt Disney Pictures|Jerry Bruckheimer Films|M...</td>\n",
       "      <td>2011-05-11</td>\n",
       "      <td>6.3</td>\n",
       "      <td>2011</td>\n",
       "      <td>5</td>\n",
       "    </tr>\n",
       "    <tr>\n",
       "      <th>1669</th>\n",
       "      <td>tt0449088</td>\n",
       "      <td>300000000</td>\n",
       "      <td>961000000</td>\n",
       "      <td>661000000</td>\n",
       "      <td>Pirates of the Caribbean: At World's End</td>\n",
       "      <td>Johnny Depp|Orlando Bloom|Keira Knightley|Geof...</td>\n",
       "      <td>Gore Verbinski</td>\n",
       "      <td>At the end of the world, the adventure begins.</td>\n",
       "      <td>Captain Barbossa, long believed to be dead, ha...</td>\n",
       "      <td>169</td>\n",
       "      <td>Adventure|Fantasy|Action</td>\n",
       "      <td>Walt Disney Pictures|Jerry Bruckheimer Films|S...</td>\n",
       "      <td>2007-05-19</td>\n",
       "      <td>6.8</td>\n",
       "      <td>2007</td>\n",
       "      <td>5</td>\n",
       "    </tr>\n",
       "    <tr>\n",
       "      <th>14</th>\n",
       "      <td>tt2395427</td>\n",
       "      <td>280000000</td>\n",
       "      <td>1405035767</td>\n",
       "      <td>1125035767</td>\n",
       "      <td>Avengers: Age of Ultron</td>\n",
       "      <td>Robert Downey Jr.|Chris Hemsworth|Mark Ruffalo...</td>\n",
       "      <td>Joss Whedon</td>\n",
       "      <td>A New Age Has Come.</td>\n",
       "      <td>When Tony Stark tries to jumpstart a dormant p...</td>\n",
       "      <td>141</td>\n",
       "      <td>Action|Adventure|Science Fiction</td>\n",
       "      <td>Marvel Studios|Prime Focus|Revolution Sun Studios</td>\n",
       "      <td>2015-04-22</td>\n",
       "      <td>7.4</td>\n",
       "      <td>2015</td>\n",
       "      <td>4</td>\n",
       "    </tr>\n",
       "    <tr>\n",
       "      <th>380</th>\n",
       "      <td>tt0398286</td>\n",
       "      <td>260000000</td>\n",
       "      <td>591794936</td>\n",
       "      <td>331794936</td>\n",
       "      <td>Tangled</td>\n",
       "      <td>Zachary Levi|Mandy Moore|Donna Murphy|Ron Perl...</td>\n",
       "      <td>Nathan Greno|Byron Howard</td>\n",
       "      <td>They're taking adventure to new lengths.</td>\n",
       "      <td>When the kingdom's most wanted-and most charmi...</td>\n",
       "      <td>100</td>\n",
       "      <td>Animation|Family</td>\n",
       "      <td>Walt Disney Pictures|Walt Disney Animation Stu...</td>\n",
       "      <td>2010-11-24</td>\n",
       "      <td>7.3</td>\n",
       "      <td>2010</td>\n",
       "      <td>11</td>\n",
       "    </tr>\n",
       "    <tr>\n",
       "      <th>1014</th>\n",
       "      <td>tt0401729</td>\n",
       "      <td>260000000</td>\n",
       "      <td>284139100</td>\n",
       "      <td>24139100</td>\n",
       "      <td>John Carter</td>\n",
       "      <td>Taylor Kitsch|Lynn Collins|Mark Strong|Willem ...</td>\n",
       "      <td>Andrew Stanton</td>\n",
       "      <td>Lost in Our World. Found in Another.</td>\n",
       "      <td>Civil War vet John Carter is transplanted to M...</td>\n",
       "      <td>132</td>\n",
       "      <td>Action|Adventure|Fantasy|Science Fiction</td>\n",
       "      <td>Walt Disney Pictures</td>\n",
       "      <td>2012-03-07</td>\n",
       "      <td>6.0</td>\n",
       "      <td>2012</td>\n",
       "      <td>3</td>\n",
       "    </tr>\n",
       "  </tbody>\n",
       "</table>\n",
       "</div>"
      ],
      "text/plain": [
       "        imdb_id     budget     revenue      profit  \\\n",
       "723   tt1298650  380000000  1021683000   641683000   \n",
       "1669  tt0449088  300000000   961000000   661000000   \n",
       "14    tt2395427  280000000  1405035767  1125035767   \n",
       "380   tt0398286  260000000   591794936   331794936   \n",
       "1014  tt0401729  260000000   284139100    24139100   \n",
       "\n",
       "                                   original_title  \\\n",
       "723   Pirates of the Caribbean: On Stranger Tides   \n",
       "1669     Pirates of the Caribbean: At World's End   \n",
       "14                        Avengers: Age of Ultron   \n",
       "380                                       Tangled   \n",
       "1014                                  John Carter   \n",
       "\n",
       "                                                   cast  \\\n",
       "723   Johnny Depp|PenÃ©lope Cruz|Geoffrey Rush|Ian M...   \n",
       "1669  Johnny Depp|Orlando Bloom|Keira Knightley|Geof...   \n",
       "14    Robert Downey Jr.|Chris Hemsworth|Mark Ruffalo...   \n",
       "380   Zachary Levi|Mandy Moore|Donna Murphy|Ron Perl...   \n",
       "1014  Taylor Kitsch|Lynn Collins|Mark Strong|Willem ...   \n",
       "\n",
       "                       director  \\\n",
       "723                Rob Marshall   \n",
       "1669             Gore Verbinski   \n",
       "14                  Joss Whedon   \n",
       "380   Nathan Greno|Byron Howard   \n",
       "1014             Andrew Stanton   \n",
       "\n",
       "                                             tagline  \\\n",
       "723                      Live Forever Or Die Trying.   \n",
       "1669  At the end of the world, the adventure begins.   \n",
       "14                               A New Age Has Come.   \n",
       "380         They're taking adventure to new lengths.   \n",
       "1014            Lost in Our World. Found in Another.   \n",
       "\n",
       "                                               overview  runtime  \\\n",
       "723   Captain Jack Sparrow crosses paths with a woma...      136   \n",
       "1669  Captain Barbossa, long believed to be dead, ha...      169   \n",
       "14    When Tony Stark tries to jumpstart a dormant p...      141   \n",
       "380   When the kingdom's most wanted-and most charmi...      100   \n",
       "1014  Civil War vet John Carter is transplanted to M...      132   \n",
       "\n",
       "                                        genres  \\\n",
       "723                   Adventure|Action|Fantasy   \n",
       "1669                  Adventure|Fantasy|Action   \n",
       "14            Action|Adventure|Science Fiction   \n",
       "380                           Animation|Family   \n",
       "1014  Action|Adventure|Fantasy|Science Fiction   \n",
       "\n",
       "                                   production_companies release_date  \\\n",
       "723   Walt Disney Pictures|Jerry Bruckheimer Films|M...   2011-05-11   \n",
       "1669  Walt Disney Pictures|Jerry Bruckheimer Films|S...   2007-05-19   \n",
       "14    Marvel Studios|Prime Focus|Revolution Sun Studios   2015-04-22   \n",
       "380   Walt Disney Pictures|Walt Disney Animation Stu...   2010-11-24   \n",
       "1014                               Walt Disney Pictures   2012-03-07   \n",
       "\n",
       "      vote_average  release_year  release_month  \n",
       "723            6.3          2011              5  \n",
       "1669           6.8          2007              5  \n",
       "14             7.4          2015              4  \n",
       "380            7.3          2010             11  \n",
       "1014           6.0          2012              3  "
      ]
     },
     "metadata": {},
     "output_type": "display_data"
    }
   ],
   "source": [
    "# ВАРИАНТ 2\n",
    "display(data.sort_values(\n",
    "    by=['budget', 'original_title'], ascending=False).head())"
   ]
  },
  {
   "cell_type": "code",
   "execution_count": 9,
   "metadata": {},
   "outputs": [
    {
     "data": {
      "text/plain": [
       "Text(0, 0.5, 'Budget')"
      ]
     },
     "execution_count": 9,
     "metadata": {},
     "output_type": "execute_result"
    },
    {
     "data": {
      "image/png": "[encoded data removed]",
      "text/plain": [
       "<Figure size 432x288 with 1 Axes>"
      ]
     },
     "metadata": {
      "needs_background": "light"
     },
     "output_type": "display_data"
    }
   ],
   "source": [
    "# Визуализация\n",
    "data_plot = data.sort_values(by=['budget', 'original_title'], ascending=False)[\n",
    "    ['budget', 'original_title']][:10].copy()\n",
    "data_plot.set_index('original_title', inplace=True)\n",
    "plot = data_plot.plot(kind='bar')\n",
    "plot.set_title('TOP 10 movies by Budget')\n",
    "plot.set_xlabel('Movie title')\n",
    "plot.set_ylabel('Budget')"
   ]
  },
  {
   "cell_type": "markdown",
   "metadata": {
    "colab_type": "text",
    "id": "FNRbbI3vVp-c"
   },
   "source": [
    "# 2. Какой из фильмов самый длительный (в минутах)?"
   ]
  },
  {
   "cell_type": "code",
   "execution_count": 10,
   "metadata": {
    "colab": {},
    "colab_type": "code",
    "id": "vHAoEXNTVp-d"
   },
   "outputs": [],
   "source": [
    "answers['2'] = '2. Gods and Generals (tt0279111)'"
   ]
  },
  {
   "cell_type": "code",
   "execution_count": 11,
   "metadata": {
    "colab": {},
    "colab_type": "code",
    "id": "ot-VX2XrVp-g"
   },
   "outputs": [
    {
     "data": {
      "text/plain": [
       "1157    Gods and Generals\n",
       "Name: original_title, dtype: object"
      ]
     },
     "metadata": {},
     "output_type": "display_data"
    }
   ],
   "source": [
    "display(data.original_title[data.runtime == data.runtime.max()])"
   ]
  },
  {
   "cell_type": "code",
   "execution_count": 12,
   "metadata": {
    "scrolled": true
   },
   "outputs": [
    {
     "data": {
      "text/html": [
       "<div>\n",
       "<style scoped>\n",
       "    .dataframe tbody tr th:only-of-type {\n",
       "        vertical-align: middle;\n",
       "    }\n",
       "\n",
       "    .dataframe tbody tr th {\n",
       "        vertical-align: top;\n",
       "    }\n",
       "\n",
       "    .dataframe thead th {\n",
       "        text-align: right;\n",
       "    }\n",
       "</style>\n",
       "<table border=\"1\" class=\"dataframe\">\n",
       "  <thead>\n",
       "    <tr style=\"text-align: right;\">\n",
       "      <th></th>\n",
       "      <th>imdb_id</th>\n",
       "      <th>budget</th>\n",
       "      <th>revenue</th>\n",
       "      <th>profit</th>\n",
       "      <th>original_title</th>\n",
       "      <th>cast</th>\n",
       "      <th>director</th>\n",
       "      <th>tagline</th>\n",
       "      <th>overview</th>\n",
       "      <th>runtime</th>\n",
       "      <th>genres</th>\n",
       "      <th>production_companies</th>\n",
       "      <th>release_date</th>\n",
       "      <th>vote_average</th>\n",
       "      <th>release_year</th>\n",
       "      <th>release_month</th>\n",
       "    </tr>\n",
       "  </thead>\n",
       "  <tbody>\n",
       "    <tr>\n",
       "      <th>1157</th>\n",
       "      <td>tt0279111</td>\n",
       "      <td>56000000</td>\n",
       "      <td>12923936</td>\n",
       "      <td>-43076064</td>\n",
       "      <td>Gods and Generals</td>\n",
       "      <td>Stephen Lang|Jeff Daniels|Robert Duvall|Kevin ...</td>\n",
       "      <td>Ronald F. Maxwell</td>\n",
       "      <td>The nations heart was touched by...</td>\n",
       "      <td>The film centers mostly around the personal an...</td>\n",
       "      <td>214</td>\n",
       "      <td>Drama|History|War</td>\n",
       "      <td>Turner Pictures|Antietam Filmworks</td>\n",
       "      <td>2003-02-21</td>\n",
       "      <td>5.8</td>\n",
       "      <td>2003</td>\n",
       "      <td>2</td>\n",
       "    </tr>\n",
       "    <tr>\n",
       "      <th>1081</th>\n",
       "      <td>tt0167260</td>\n",
       "      <td>94000000</td>\n",
       "      <td>1118888979</td>\n",
       "      <td>1024888979</td>\n",
       "      <td>The Lord of the Rings: The Return of the King</td>\n",
       "      <td>Elijah Wood|Ian McKellen|Viggo Mortensen|Liv T...</td>\n",
       "      <td>Peter Jackson</td>\n",
       "      <td>The eye of the enemy is moving.</td>\n",
       "      <td>Aragorn is revealed as the heir to the ancient...</td>\n",
       "      <td>201</td>\n",
       "      <td>Adventure|Fantasy|Action</td>\n",
       "      <td>WingNut Films|New Line Cinema</td>\n",
       "      <td>2003-12-01</td>\n",
       "      <td>7.9</td>\n",
       "      <td>2003</td>\n",
       "      <td>12</td>\n",
       "    </tr>\n",
       "    <tr>\n",
       "      <th>1736</th>\n",
       "      <td>tt0462322</td>\n",
       "      <td>67000000</td>\n",
       "      <td>25037897</td>\n",
       "      <td>-41962103</td>\n",
       "      <td>Grindhouse</td>\n",
       "      <td>Kurt Russell|ZoÃ« Bell|Rosario Dawson|Vanessa ...</td>\n",
       "      <td>Robert Rodriguez|Eli Roth|Quentin Tarantino|Ed...</td>\n",
       "      <td>A double feature that'll tear you in two!</td>\n",
       "      <td>Two full length feature horror movies written ...</td>\n",
       "      <td>191</td>\n",
       "      <td>Thriller|Action|Horror</td>\n",
       "      <td>Big Talk Productions|Yer Dead Productions|Wein...</td>\n",
       "      <td>2007-04-06</td>\n",
       "      <td>6.5</td>\n",
       "      <td>2007</td>\n",
       "      <td>4</td>\n",
       "    </tr>\n",
       "    <tr>\n",
       "      <th>1336</th>\n",
       "      <td>tt0360717</td>\n",
       "      <td>207000000</td>\n",
       "      <td>550000000</td>\n",
       "      <td>343000000</td>\n",
       "      <td>King Kong</td>\n",
       "      <td>Naomi Watts|Jack Black|Adrien Brody|Thomas Kre...</td>\n",
       "      <td>Peter Jackson</td>\n",
       "      <td>The eighth wonder of the world.</td>\n",
       "      <td>In 1933 New York, an overly ambitious movie pr...</td>\n",
       "      <td>187</td>\n",
       "      <td>Adventure|Drama|Action</td>\n",
       "      <td>WingNut Films|Universal Pictures|Big Primate P...</td>\n",
       "      <td>2005-12-14</td>\n",
       "      <td>6.4</td>\n",
       "      <td>2005</td>\n",
       "      <td>12</td>\n",
       "    </tr>\n",
       "    <tr>\n",
       "      <th>504</th>\n",
       "      <td>tt0213149</td>\n",
       "      <td>140000000</td>\n",
       "      <td>449220945</td>\n",
       "      <td>309220945</td>\n",
       "      <td>Pearl Harbor</td>\n",
       "      <td>Ben Affleck|Josh Hartnett|Kate Beckinsale|Cuba...</td>\n",
       "      <td>Michael Bay</td>\n",
       "      <td>December 7, 1941 - A day that shall live in in...</td>\n",
       "      <td>The lifelong friendship between Rafe McCawley ...</td>\n",
       "      <td>183</td>\n",
       "      <td>History|Romance|War</td>\n",
       "      <td>Jerry Bruckheimer Films|Touchstone Pictures</td>\n",
       "      <td>2001-05-21</td>\n",
       "      <td>6.6</td>\n",
       "      <td>2001</td>\n",
       "      <td>5</td>\n",
       "    </tr>\n",
       "  </tbody>\n",
       "</table>\n",
       "</div>"
      ],
      "text/plain": [
       "        imdb_id     budget     revenue      profit  \\\n",
       "1157  tt0279111   56000000    12923936   -43076064   \n",
       "1081  tt0167260   94000000  1118888979  1024888979   \n",
       "1736  tt0462322   67000000    25037897   -41962103   \n",
       "1336  tt0360717  207000000   550000000   343000000   \n",
       "504   tt0213149  140000000   449220945   309220945   \n",
       "\n",
       "                                     original_title  \\\n",
       "1157                              Gods and Generals   \n",
       "1081  The Lord of the Rings: The Return of the King   \n",
       "1736                                     Grindhouse   \n",
       "1336                                      King Kong   \n",
       "504                                    Pearl Harbor   \n",
       "\n",
       "                                                   cast  \\\n",
       "1157  Stephen Lang|Jeff Daniels|Robert Duvall|Kevin ...   \n",
       "1081  Elijah Wood|Ian McKellen|Viggo Mortensen|Liv T...   \n",
       "1736  Kurt Russell|ZoÃ« Bell|Rosario Dawson|Vanessa ...   \n",
       "1336  Naomi Watts|Jack Black|Adrien Brody|Thomas Kre...   \n",
       "504   Ben Affleck|Josh Hartnett|Kate Beckinsale|Cuba...   \n",
       "\n",
       "                                               director  \\\n",
       "1157                                  Ronald F. Maxwell   \n",
       "1081                                      Peter Jackson   \n",
       "1736  Robert Rodriguez|Eli Roth|Quentin Tarantino|Ed...   \n",
       "1336                                      Peter Jackson   \n",
       "504                                         Michael Bay   \n",
       "\n",
       "                                                tagline  \\\n",
       "1157                The nations heart was touched by...   \n",
       "1081                    The eye of the enemy is moving.   \n",
       "1736          A double feature that'll tear you in two!   \n",
       "1336                    The eighth wonder of the world.   \n",
       "504   December 7, 1941 - A day that shall live in in...   \n",
       "\n",
       "                                               overview  runtime  \\\n",
       "1157  The film centers mostly around the personal an...      214   \n",
       "1081  Aragorn is revealed as the heir to the ancient...      201   \n",
       "1736  Two full length feature horror movies written ...      191   \n",
       "1336  In 1933 New York, an overly ambitious movie pr...      187   \n",
       "504   The lifelong friendship between Rafe McCawley ...      183   \n",
       "\n",
       "                        genres  \\\n",
       "1157         Drama|History|War   \n",
       "1081  Adventure|Fantasy|Action   \n",
       "1736    Thriller|Action|Horror   \n",
       "1336    Adventure|Drama|Action   \n",
       "504        History|Romance|War   \n",
       "\n",
       "                                   production_companies release_date  \\\n",
       "1157                 Turner Pictures|Antietam Filmworks   2003-02-21   \n",
       "1081                      WingNut Films|New Line Cinema   2003-12-01   \n",
       "1736  Big Talk Productions|Yer Dead Productions|Wein...   2007-04-06   \n",
       "1336  WingNut Films|Universal Pictures|Big Primate P...   2005-12-14   \n",
       "504         Jerry Bruckheimer Films|Touchstone Pictures   2001-05-21   \n",
       "\n",
       "      vote_average  release_year  release_month  \n",
       "1157           5.8          2003              2  \n",
       "1081           7.9          2003             12  \n",
       "1736           6.5          2007              4  \n",
       "1336           6.4          2005             12  \n",
       "504            6.6          2001              5  "
      ]
     },
     "metadata": {},
     "output_type": "display_data"
    }
   ],
   "source": [
    "# ВАРИАНТ 2\n",
    "display(data.sort_values('runtime', ascending=False).head())"
   ]
  },
  {
   "cell_type": "code",
   "execution_count": 13,
   "metadata": {},
   "outputs": [
    {
     "data": {
      "text/plain": [
       "Text(0, 0.5, 'Runtime, min')"
      ]
     },
     "execution_count": 13,
     "metadata": {},
     "output_type": "execute_result"
    },
    {
     "data": {
      "image/png": "[encoded data removed]",
      "text/plain": [
       "<Figure size 432x288 with 1 Axes>"
      ]
     },
     "metadata": {
      "needs_background": "light"
     },
     "output_type": "display_data"
    }
   ],
   "source": [
    "# Визуализация\n",
    "data_plot = data.sort_values('runtime', ascending=False)[\n",
    "    ['runtime', 'original_title']][:10].copy()\n",
    "data_plot.set_index('original_title', inplace=True)\n",
    "plot = data_plot.plot(kind='bar')\n",
    "plot.set_title('Длительность кинофильмов, максимальная')\n",
    "plot.set_xlabel('Movie title')\n",
    "plot.set_ylabel('Runtime, min')"
   ]
  },
  {
   "cell_type": "markdown",
   "metadata": {
    "colab_type": "text",
    "id": "bapLlpW8Vp-k"
   },
   "source": [
    "# 3. Какой из фильмов самый короткий (в минутах)?\n",
    "\n",
    "\n",
    "\n"
   ]
  },
  {
   "cell_type": "code",
   "execution_count": 14,
   "metadata": {},
   "outputs": [],
   "source": [
    "answers['3'] = '3. Winnie the Pooh (tt1449283)'"
   ]
  },
  {
   "cell_type": "code",
   "execution_count": 15,
   "metadata": {
    "colab": {},
    "colab_type": "code",
    "id": "YBxaSHuAVp-l"
   },
   "outputs": [
    {
     "data": {
      "text/html": [
       "<div>\n",
       "<style scoped>\n",
       "    .dataframe tbody tr th:only-of-type {\n",
       "        vertical-align: middle;\n",
       "    }\n",
       "\n",
       "    .dataframe tbody tr th {\n",
       "        vertical-align: top;\n",
       "    }\n",
       "\n",
       "    .dataframe thead th {\n",
       "        text-align: right;\n",
       "    }\n",
       "</style>\n",
       "<table border=\"1\" class=\"dataframe\">\n",
       "  <thead>\n",
       "    <tr style=\"text-align: right;\">\n",
       "      <th></th>\n",
       "      <th>imdb_id</th>\n",
       "      <th>budget</th>\n",
       "      <th>revenue</th>\n",
       "      <th>profit</th>\n",
       "      <th>original_title</th>\n",
       "      <th>cast</th>\n",
       "      <th>director</th>\n",
       "      <th>tagline</th>\n",
       "      <th>overview</th>\n",
       "      <th>runtime</th>\n",
       "      <th>genres</th>\n",
       "      <th>production_companies</th>\n",
       "      <th>release_date</th>\n",
       "      <th>vote_average</th>\n",
       "      <th>release_year</th>\n",
       "      <th>release_month</th>\n",
       "    </tr>\n",
       "  </thead>\n",
       "  <tbody>\n",
       "    <tr>\n",
       "      <th>768</th>\n",
       "      <td>tt1449283</td>\n",
       "      <td>30000000</td>\n",
       "      <td>14460000</td>\n",
       "      <td>-15540000</td>\n",
       "      <td>Winnie the Pooh</td>\n",
       "      <td>Jim Cummings|Travis Oates|Jim Cummings|Bud Luc...</td>\n",
       "      <td>Stephen Anderson|Don Hall</td>\n",
       "      <td>Oh Pooh.</td>\n",
       "      <td>During an ordinary day in Hundred Acre Wood, W...</td>\n",
       "      <td>63</td>\n",
       "      <td>Animation|Family</td>\n",
       "      <td>Walt Disney Pictures|Walt Disney Animation Stu...</td>\n",
       "      <td>2011-04-13</td>\n",
       "      <td>6.8</td>\n",
       "      <td>2011</td>\n",
       "      <td>4</td>\n",
       "    </tr>\n",
       "    <tr>\n",
       "      <th>930</th>\n",
       "      <td>tt0280030</td>\n",
       "      <td>20000000</td>\n",
       "      <td>109862682</td>\n",
       "      <td>89862682</td>\n",
       "      <td>Return to Never Land</td>\n",
       "      <td>Harriet Owen|Blayne Weaver|Jeff Bennett|Kath S...</td>\n",
       "      <td>Robin Budd|Donovan Cook</td>\n",
       "      <td>The Classic Continues</td>\n",
       "      <td>The classic tale of 'Peter Pan' continues in D...</td>\n",
       "      <td>72</td>\n",
       "      <td>Adventure|Fantasy|Animation|Family</td>\n",
       "      <td>Walt Disney Pictures|Walt Disney Television An...</td>\n",
       "      <td>2002-02-14</td>\n",
       "      <td>6.2</td>\n",
       "      <td>2002</td>\n",
       "      <td>2</td>\n",
       "    </tr>\n",
       "    <tr>\n",
       "      <th>1097</th>\n",
       "      <td>tt0283426</td>\n",
       "      <td>20000000</td>\n",
       "      <td>135680000</td>\n",
       "      <td>115680000</td>\n",
       "      <td>The Jungle Book 2</td>\n",
       "      <td>John Goodman|Haley Joel Osment|Mae Whitman|Phi...</td>\n",
       "      <td>Steve Trenbirth</td>\n",
       "      <td>Feel the jungle beat</td>\n",
       "      <td>Mowgli, missing the jungle and his old friends...</td>\n",
       "      <td>72</td>\n",
       "      <td>Family|Animation|Adventure</td>\n",
       "      <td>Walt Disney Pictures|Walt Disney Television An...</td>\n",
       "      <td>2003-02-07</td>\n",
       "      <td>5.6</td>\n",
       "      <td>2003</td>\n",
       "      <td>2</td>\n",
       "    </tr>\n",
       "    <tr>\n",
       "      <th>1408</th>\n",
       "      <td>tt0361089</td>\n",
       "      <td>35000000</td>\n",
       "      <td>19478106</td>\n",
       "      <td>-15521894</td>\n",
       "      <td>Valiant</td>\n",
       "      <td>Ewan McGregor|Ricky Gervais|Tim Curry|Jim Broa...</td>\n",
       "      <td>Gary Chapman</td>\n",
       "      <td>Some pigeons eat crumbs, others make history.</td>\n",
       "      <td>The animated comedy tells the story of a lowly...</td>\n",
       "      <td>76</td>\n",
       "      <td>Animation|Family|Adventure</td>\n",
       "      <td>Vanguard Films|Scanbox</td>\n",
       "      <td>2005-03-25</td>\n",
       "      <td>5.3</td>\n",
       "      <td>2005</td>\n",
       "      <td>3</td>\n",
       "    </tr>\n",
       "    <tr>\n",
       "      <th>1626</th>\n",
       "      <td>tt0299172</td>\n",
       "      <td>110000000</td>\n",
       "      <td>103951461</td>\n",
       "      <td>-6048539</td>\n",
       "      <td>Home on the Range</td>\n",
       "      <td>Randy Quaid|Steve Buscemi|Judi Dench|Cuba Good...</td>\n",
       "      <td>Will Finn|John Sanford</td>\n",
       "      <td>Bust a Moo.</td>\n",
       "      <td>The Little Piece of Heaven family farm is abou...</td>\n",
       "      <td>76</td>\n",
       "      <td>Western|Animation|Family|Comedy|Music</td>\n",
       "      <td>Walt Disney Pictures|Walt Disney Feature Anima...</td>\n",
       "      <td>2004-04-02</td>\n",
       "      <td>5.8</td>\n",
       "      <td>2004</td>\n",
       "      <td>4</td>\n",
       "    </tr>\n",
       "  </tbody>\n",
       "</table>\n",
       "</div>"
      ],
      "text/plain": [
       "        imdb_id     budget    revenue     profit        original_title  \\\n",
       "768   tt1449283   30000000   14460000  -15540000       Winnie the Pooh   \n",
       "930   tt0280030   20000000  109862682   89862682  Return to Never Land   \n",
       "1097  tt0283426   20000000  135680000  115680000     The Jungle Book 2   \n",
       "1408  tt0361089   35000000   19478106  -15521894               Valiant   \n",
       "1626  tt0299172  110000000  103951461   -6048539     Home on the Range   \n",
       "\n",
       "                                                   cast  \\\n",
       "768   Jim Cummings|Travis Oates|Jim Cummings|Bud Luc...   \n",
       "930   Harriet Owen|Blayne Weaver|Jeff Bennett|Kath S...   \n",
       "1097  John Goodman|Haley Joel Osment|Mae Whitman|Phi...   \n",
       "1408  Ewan McGregor|Ricky Gervais|Tim Curry|Jim Broa...   \n",
       "1626  Randy Quaid|Steve Buscemi|Judi Dench|Cuba Good...   \n",
       "\n",
       "                       director  \\\n",
       "768   Stephen Anderson|Don Hall   \n",
       "930     Robin Budd|Donovan Cook   \n",
       "1097            Steve Trenbirth   \n",
       "1408               Gary Chapman   \n",
       "1626     Will Finn|John Sanford   \n",
       "\n",
       "                                            tagline  \\\n",
       "768                                        Oh Pooh.   \n",
       "930                           The Classic Continues   \n",
       "1097                           Feel the jungle beat   \n",
       "1408  Some pigeons eat crumbs, others make history.   \n",
       "1626                                    Bust a Moo.   \n",
       "\n",
       "                                               overview  runtime  \\\n",
       "768   During an ordinary day in Hundred Acre Wood, W...       63   \n",
       "930   The classic tale of 'Peter Pan' continues in D...       72   \n",
       "1097  Mowgli, missing the jungle and his old friends...       72   \n",
       "1408  The animated comedy tells the story of a lowly...       76   \n",
       "1626  The Little Piece of Heaven family farm is abou...       76   \n",
       "\n",
       "                                     genres  \\\n",
       "768                        Animation|Family   \n",
       "930      Adventure|Fantasy|Animation|Family   \n",
       "1097             Family|Animation|Adventure   \n",
       "1408             Animation|Family|Adventure   \n",
       "1626  Western|Animation|Family|Comedy|Music   \n",
       "\n",
       "                                   production_companies release_date  \\\n",
       "768   Walt Disney Pictures|Walt Disney Animation Stu...   2011-04-13   \n",
       "930   Walt Disney Pictures|Walt Disney Television An...   2002-02-14   \n",
       "1097  Walt Disney Pictures|Walt Disney Television An...   2003-02-07   \n",
       "1408                             Vanguard Films|Scanbox   2005-03-25   \n",
       "1626  Walt Disney Pictures|Walt Disney Feature Anima...   2004-04-02   \n",
       "\n",
       "      vote_average  release_year  release_month  \n",
       "768            6.8          2011              4  \n",
       "930            6.2          2002              2  \n",
       "1097           5.6          2003              2  \n",
       "1408           5.3          2005              3  \n",
       "1626           5.8          2004              4  "
      ]
     },
     "metadata": {},
     "output_type": "display_data"
    }
   ],
   "source": [
    "display(data.sort_values('runtime').head())"
   ]
  },
  {
   "cell_type": "code",
   "execution_count": 16,
   "metadata": {},
   "outputs": [
    {
     "data": {
      "text/plain": [
       "Text(0, 0.5, 'Runtime, min')"
      ]
     },
     "execution_count": 16,
     "metadata": {},
     "output_type": "execute_result"
    },
    {
     "data": {
      "image/png": "[encoded data removed]",
      "text/plain": [
       "<Figure size 432x288 with 1 Axes>"
      ]
     },
     "metadata": {
      "needs_background": "light"
     },
     "output_type": "display_data"
    }
   ],
   "source": [
    "# Визуализация\n",
    "data_plot = data.sort_values(\n",
    "    'runtime')[['runtime', 'original_title']][:10].copy()\n",
    "data_plot.set_index('original_title', inplace=True)\n",
    "plot = data_plot.plot(kind='bar')\n",
    "plot.set_title('Длительность кинофильмов, минимальная')\n",
    "plot.set_xlabel('Movie title')\n",
    "plot.set_ylabel('Runtime, min')"
   ]
  },
  {
   "cell_type": "markdown",
   "metadata": {
    "colab_type": "text",
    "id": "TfQbxbfNVp-p"
   },
   "source": [
    "# 4. Какова средняя длительность фильмов?\n"
   ]
  },
  {
   "cell_type": "code",
   "execution_count": 17,
   "metadata": {},
   "outputs": [],
   "source": [
    "answers['4'] = '2. 110'"
   ]
  },
  {
   "cell_type": "code",
   "execution_count": 18,
   "metadata": {
    "colab": {},
    "colab_type": "code",
    "id": "5K6dKZYVVp-q"
   },
   "outputs": [
    {
     "data": {
      "text/plain": [
       "109.6585494970884"
      ]
     },
     "metadata": {},
     "output_type": "display_data"
    }
   ],
   "source": [
    "display(data.runtime.mean())"
   ]
  },
  {
   "cell_type": "markdown",
   "metadata": {
    "colab_type": "text",
    "id": "r5TvbnT_Vp-u"
   },
   "source": [
    "# 5. Каково медианное значение длительности фильмов? "
   ]
  },
  {
   "cell_type": "code",
   "execution_count": 19,
   "metadata": {},
   "outputs": [],
   "source": [
    "answers['5'] = '1. 107'"
   ]
  },
  {
   "cell_type": "code",
   "execution_count": 20,
   "metadata": {
    "colab": {},
    "colab_type": "code",
    "id": "iBROplKnVp-v",
    "scrolled": true
   },
   "outputs": [
    {
     "data": {
      "text/plain": [
       "107.0"
      ]
     },
     "metadata": {},
     "output_type": "display_data"
    }
   ],
   "source": [
    "display(data.runtime.median())"
   ]
  },
  {
   "cell_type": "markdown",
   "metadata": {
    "colab_type": "text",
    "id": "39P-deDSVp-y"
   },
   "source": [
    "# 6. Какой самый прибыльный фильм?\n",
    "#### Внимание! Здесь и далее под «прибылью» или «убытками» понимается разность между сборами и бюджетом фильма. (прибыль = сборы - бюджет) в нашем датасете это будет (profit = revenue - budget) "
   ]
  },
  {
   "cell_type": "code",
   "execution_count": 21,
   "metadata": {},
   "outputs": [],
   "source": [
    "answers['6'] = '5. Avatar (tt0499549)'"
   ]
  },
  {
   "cell_type": "code",
   "execution_count": 22,
   "metadata": {
    "colab": {},
    "colab_type": "code",
    "id": "UYZh4T9WVp-y"
   },
   "outputs": [
    {
     "data": {
      "text/html": [
       "<div>\n",
       "<style scoped>\n",
       "    .dataframe tbody tr th:only-of-type {\n",
       "        vertical-align: middle;\n",
       "    }\n",
       "\n",
       "    .dataframe tbody tr th {\n",
       "        vertical-align: top;\n",
       "    }\n",
       "\n",
       "    .dataframe thead th {\n",
       "        text-align: right;\n",
       "    }\n",
       "</style>\n",
       "<table border=\"1\" class=\"dataframe\">\n",
       "  <thead>\n",
       "    <tr style=\"text-align: right;\">\n",
       "      <th></th>\n",
       "      <th>imdb_id</th>\n",
       "      <th>budget</th>\n",
       "      <th>revenue</th>\n",
       "      <th>profit</th>\n",
       "      <th>original_title</th>\n",
       "      <th>cast</th>\n",
       "      <th>director</th>\n",
       "      <th>tagline</th>\n",
       "      <th>overview</th>\n",
       "      <th>runtime</th>\n",
       "      <th>genres</th>\n",
       "      <th>production_companies</th>\n",
       "      <th>release_date</th>\n",
       "      <th>vote_average</th>\n",
       "      <th>release_year</th>\n",
       "      <th>release_month</th>\n",
       "    </tr>\n",
       "  </thead>\n",
       "  <tbody>\n",
       "    <tr>\n",
       "      <th>239</th>\n",
       "      <td>tt0499549</td>\n",
       "      <td>237000000</td>\n",
       "      <td>2781505847</td>\n",
       "      <td>2544505847</td>\n",
       "      <td>Avatar</td>\n",
       "      <td>Sam Worthington|Zoe Saldana|Sigourney Weaver|S...</td>\n",
       "      <td>James Cameron</td>\n",
       "      <td>Enter the World of Pandora.</td>\n",
       "      <td>In the 22nd century, a paraplegic Marine is di...</td>\n",
       "      <td>162</td>\n",
       "      <td>Action|Adventure|Fantasy|Science Fiction</td>\n",
       "      <td>Ingenious Film Partners|Twentieth Century Fox ...</td>\n",
       "      <td>2009-12-10</td>\n",
       "      <td>7.1</td>\n",
       "      <td>2009</td>\n",
       "      <td>12</td>\n",
       "    </tr>\n",
       "    <tr>\n",
       "      <th>3</th>\n",
       "      <td>tt2488496</td>\n",
       "      <td>200000000</td>\n",
       "      <td>2068178225</td>\n",
       "      <td>1868178225</td>\n",
       "      <td>Star Wars: The Force Awakens</td>\n",
       "      <td>Harrison Ford|Mark Hamill|Carrie Fisher|Adam D...</td>\n",
       "      <td>J.J. Abrams</td>\n",
       "      <td>Every generation has a story.</td>\n",
       "      <td>Thirty years after defeating the Galactic Empi...</td>\n",
       "      <td>136</td>\n",
       "      <td>Action|Adventure|Science Fiction|Fantasy</td>\n",
       "      <td>Lucasfilm|Truenorth Productions|Bad Robot</td>\n",
       "      <td>2015-12-15</td>\n",
       "      <td>7.5</td>\n",
       "      <td>2015</td>\n",
       "      <td>12</td>\n",
       "    </tr>\n",
       "    <tr>\n",
       "      <th>0</th>\n",
       "      <td>tt0369610</td>\n",
       "      <td>150000000</td>\n",
       "      <td>1513528810</td>\n",
       "      <td>1363528810</td>\n",
       "      <td>Jurassic World</td>\n",
       "      <td>Chris Pratt|Bryce Dallas Howard|Irrfan Khan|Vi...</td>\n",
       "      <td>Colin Trevorrow</td>\n",
       "      <td>The park is open.</td>\n",
       "      <td>Twenty-two years after the events of Jurassic ...</td>\n",
       "      <td>124</td>\n",
       "      <td>Action|Adventure|Science Fiction|Thriller</td>\n",
       "      <td>Universal Studios|Amblin Entertainment|Legenda...</td>\n",
       "      <td>2015-06-09</td>\n",
       "      <td>6.5</td>\n",
       "      <td>2015</td>\n",
       "      <td>6</td>\n",
       "    </tr>\n",
       "    <tr>\n",
       "      <th>4</th>\n",
       "      <td>tt2820852</td>\n",
       "      <td>190000000</td>\n",
       "      <td>1506249360</td>\n",
       "      <td>1316249360</td>\n",
       "      <td>Furious 7</td>\n",
       "      <td>Vin Diesel|Paul Walker|Jason Statham|Michelle ...</td>\n",
       "      <td>James Wan</td>\n",
       "      <td>Vengeance Hits Home</td>\n",
       "      <td>Deckard Shaw seeks revenge against Dominic Tor...</td>\n",
       "      <td>137</td>\n",
       "      <td>Action|Crime|Thriller</td>\n",
       "      <td>Universal Pictures|Original Film|Media Rights ...</td>\n",
       "      <td>2015-04-01</td>\n",
       "      <td>7.3</td>\n",
       "      <td>2015</td>\n",
       "      <td>4</td>\n",
       "    </tr>\n",
       "    <tr>\n",
       "      <th>970</th>\n",
       "      <td>tt0848228</td>\n",
       "      <td>220000000</td>\n",
       "      <td>1519557910</td>\n",
       "      <td>1299557910</td>\n",
       "      <td>The Avengers</td>\n",
       "      <td>Robert Downey Jr.|Chris Evans|Mark Ruffalo|Chr...</td>\n",
       "      <td>Joss Whedon</td>\n",
       "      <td>Some assembly required.</td>\n",
       "      <td>When an unexpected enemy emerges and threatens...</td>\n",
       "      <td>143</td>\n",
       "      <td>Science Fiction|Action|Adventure</td>\n",
       "      <td>Marvel Studios</td>\n",
       "      <td>2012-04-25</td>\n",
       "      <td>7.3</td>\n",
       "      <td>2012</td>\n",
       "      <td>4</td>\n",
       "    </tr>\n",
       "  </tbody>\n",
       "</table>\n",
       "</div>"
      ],
      "text/plain": [
       "       imdb_id     budget     revenue      profit  \\\n",
       "239  tt0499549  237000000  2781505847  2544505847   \n",
       "3    tt2488496  200000000  2068178225  1868178225   \n",
       "0    tt0369610  150000000  1513528810  1363528810   \n",
       "4    tt2820852  190000000  1506249360  1316249360   \n",
       "970  tt0848228  220000000  1519557910  1299557910   \n",
       "\n",
       "                   original_title  \\\n",
       "239                        Avatar   \n",
       "3    Star Wars: The Force Awakens   \n",
       "0                  Jurassic World   \n",
       "4                       Furious 7   \n",
       "970                  The Avengers   \n",
       "\n",
       "                                                  cast         director  \\\n",
       "239  Sam Worthington|Zoe Saldana|Sigourney Weaver|S...    James Cameron   \n",
       "3    Harrison Ford|Mark Hamill|Carrie Fisher|Adam D...      J.J. Abrams   \n",
       "0    Chris Pratt|Bryce Dallas Howard|Irrfan Khan|Vi...  Colin Trevorrow   \n",
       "4    Vin Diesel|Paul Walker|Jason Statham|Michelle ...        James Wan   \n",
       "970  Robert Downey Jr.|Chris Evans|Mark Ruffalo|Chr...      Joss Whedon   \n",
       "\n",
       "                           tagline  \\\n",
       "239    Enter the World of Pandora.   \n",
       "3    Every generation has a story.   \n",
       "0                The park is open.   \n",
       "4              Vengeance Hits Home   \n",
       "970        Some assembly required.   \n",
       "\n",
       "                                              overview  runtime  \\\n",
       "239  In the 22nd century, a paraplegic Marine is di...      162   \n",
       "3    Thirty years after defeating the Galactic Empi...      136   \n",
       "0    Twenty-two years after the events of Jurassic ...      124   \n",
       "4    Deckard Shaw seeks revenge against Dominic Tor...      137   \n",
       "970  When an unexpected enemy emerges and threatens...      143   \n",
       "\n",
       "                                        genres  \\\n",
       "239   Action|Adventure|Fantasy|Science Fiction   \n",
       "3     Action|Adventure|Science Fiction|Fantasy   \n",
       "0    Action|Adventure|Science Fiction|Thriller   \n",
       "4                        Action|Crime|Thriller   \n",
       "970           Science Fiction|Action|Adventure   \n",
       "\n",
       "                                  production_companies release_date  \\\n",
       "239  Ingenious Film Partners|Twentieth Century Fox ...   2009-12-10   \n",
       "3            Lucasfilm|Truenorth Productions|Bad Robot   2015-12-15   \n",
       "0    Universal Studios|Amblin Entertainment|Legenda...   2015-06-09   \n",
       "4    Universal Pictures|Original Film|Media Rights ...   2015-04-01   \n",
       "970                                     Marvel Studios   2012-04-25   \n",
       "\n",
       "     vote_average  release_year  release_month  \n",
       "239           7.1          2009             12  \n",
       "3             7.5          2015             12  \n",
       "0             6.5          2015              6  \n",
       "4             7.3          2015              4  \n",
       "970           7.3          2012              4  "
      ]
     },
     "metadata": {},
     "output_type": "display_data"
    }
   ],
   "source": [
    "# ВАРИАНТ 1\n",
    "display(data.sort_values('profit', ascending=False).head())"
   ]
  },
  {
   "cell_type": "code",
   "execution_count": 23,
   "metadata": {},
   "outputs": [
    {
     "data": {
      "text/html": [
       "<div>\n",
       "<style scoped>\n",
       "    .dataframe tbody tr th:only-of-type {\n",
       "        vertical-align: middle;\n",
       "    }\n",
       "\n",
       "    .dataframe tbody tr th {\n",
       "        vertical-align: top;\n",
       "    }\n",
       "\n",
       "    .dataframe thead th {\n",
       "        text-align: right;\n",
       "    }\n",
       "</style>\n",
       "<table border=\"1\" class=\"dataframe\">\n",
       "  <thead>\n",
       "    <tr style=\"text-align: right;\">\n",
       "      <th></th>\n",
       "      <th>imdb_id</th>\n",
       "      <th>budget</th>\n",
       "      <th>revenue</th>\n",
       "      <th>profit</th>\n",
       "      <th>original_title</th>\n",
       "      <th>cast</th>\n",
       "      <th>director</th>\n",
       "      <th>tagline</th>\n",
       "      <th>overview</th>\n",
       "      <th>runtime</th>\n",
       "      <th>genres</th>\n",
       "      <th>production_companies</th>\n",
       "      <th>release_date</th>\n",
       "      <th>vote_average</th>\n",
       "      <th>release_year</th>\n",
       "      <th>release_month</th>\n",
       "    </tr>\n",
       "  </thead>\n",
       "  <tbody>\n",
       "    <tr>\n",
       "      <th>239</th>\n",
       "      <td>tt0499549</td>\n",
       "      <td>237000000</td>\n",
       "      <td>2781505847</td>\n",
       "      <td>2544505847</td>\n",
       "      <td>Avatar</td>\n",
       "      <td>Sam Worthington|Zoe Saldana|Sigourney Weaver|S...</td>\n",
       "      <td>James Cameron</td>\n",
       "      <td>Enter the World of Pandora.</td>\n",
       "      <td>In the 22nd century, a paraplegic Marine is di...</td>\n",
       "      <td>162</td>\n",
       "      <td>Action|Adventure|Fantasy|Science Fiction</td>\n",
       "      <td>Ingenious Film Partners|Twentieth Century Fox ...</td>\n",
       "      <td>2009-12-10</td>\n",
       "      <td>7.1</td>\n",
       "      <td>2009</td>\n",
       "      <td>12</td>\n",
       "    </tr>\n",
       "  </tbody>\n",
       "</table>\n",
       "</div>"
      ],
      "text/plain": [
       "       imdb_id     budget     revenue      profit original_title  \\\n",
       "239  tt0499549  237000000  2781505847  2544505847         Avatar   \n",
       "\n",
       "                                                  cast       director  \\\n",
       "239  Sam Worthington|Zoe Saldana|Sigourney Weaver|S...  James Cameron   \n",
       "\n",
       "                         tagline  \\\n",
       "239  Enter the World of Pandora.   \n",
       "\n",
       "                                              overview  runtime  \\\n",
       "239  In the 22nd century, a paraplegic Marine is di...      162   \n",
       "\n",
       "                                       genres  \\\n",
       "239  Action|Adventure|Fantasy|Science Fiction   \n",
       "\n",
       "                                  production_companies release_date  \\\n",
       "239  Ingenious Film Partners|Twentieth Century Fox ...   2009-12-10   \n",
       "\n",
       "     vote_average  release_year  release_month  \n",
       "239           7.1          2009             12  "
      ]
     },
     "metadata": {},
     "output_type": "display_data"
    }
   ],
   "source": [
    "# ВАРИАНТ 2\n",
    "display(data[data.profit == data.profit.max()])"
   ]
  },
  {
   "cell_type": "code",
   "execution_count": 24,
   "metadata": {},
   "outputs": [
    {
     "data": {
      "text/plain": [
       "Text(0, 0.5, 'Profit')"
      ]
     },
     "execution_count": 24,
     "metadata": {},
     "output_type": "execute_result"
    },
    {
     "data": {
      "image/png": "[encoded data removed]",
      "text/plain": [
       "<Figure size 432x288 with 1 Axes>"
      ]
     },
     "metadata": {
      "needs_background": "light"
     },
     "output_type": "display_data"
    }
   ],
   "source": [
    "# Визуализация\n",
    "data_plot = data.sort_values('profit', ascending=False)[\n",
    "    ['profit', 'original_title']][:10].copy()\n",
    "data_plot.set_index('original_title', inplace=True)\n",
    "plot = data_plot.plot(kind='bar')\n",
    "plot.set_title('TOP 10 profitable movies')\n",
    "plot.set_xlabel('Movie title')\n",
    "plot.set_ylabel('Profit')"
   ]
  },
  {
   "cell_type": "markdown",
   "metadata": {
    "colab_type": "text",
    "id": "M99JmIX4Vp-2"
   },
   "source": [
    "# 7. Какой фильм самый убыточный? "
   ]
  },
  {
   "cell_type": "code",
   "execution_count": 25,
   "metadata": {},
   "outputs": [],
   "source": [
    "answers['7'] = '5. The Lone Ranger (tt1210819)'"
   ]
  },
  {
   "cell_type": "code",
   "execution_count": 26,
   "metadata": {
    "colab": {},
    "colab_type": "code",
    "id": "w-D2m4XPVp-3",
    "scrolled": true
   },
   "outputs": [
    {
     "data": {
      "text/html": [
       "<div>\n",
       "<style scoped>\n",
       "    .dataframe tbody tr th:only-of-type {\n",
       "        vertical-align: middle;\n",
       "    }\n",
       "\n",
       "    .dataframe tbody tr th {\n",
       "        vertical-align: top;\n",
       "    }\n",
       "\n",
       "    .dataframe thead th {\n",
       "        text-align: right;\n",
       "    }\n",
       "</style>\n",
       "<table border=\"1\" class=\"dataframe\">\n",
       "  <thead>\n",
       "    <tr style=\"text-align: right;\">\n",
       "      <th></th>\n",
       "      <th>imdb_id</th>\n",
       "      <th>budget</th>\n",
       "      <th>revenue</th>\n",
       "      <th>profit</th>\n",
       "      <th>original_title</th>\n",
       "      <th>cast</th>\n",
       "      <th>director</th>\n",
       "      <th>tagline</th>\n",
       "      <th>overview</th>\n",
       "      <th>runtime</th>\n",
       "      <th>genres</th>\n",
       "      <th>production_companies</th>\n",
       "      <th>release_date</th>\n",
       "      <th>vote_average</th>\n",
       "      <th>release_year</th>\n",
       "      <th>release_month</th>\n",
       "    </tr>\n",
       "  </thead>\n",
       "  <tbody>\n",
       "    <tr>\n",
       "      <th>1245</th>\n",
       "      <td>tt1210819</td>\n",
       "      <td>255000000</td>\n",
       "      <td>89289910</td>\n",
       "      <td>-165710090</td>\n",
       "      <td>The Lone Ranger</td>\n",
       "      <td>Johnny Depp|Armie Hammer|William Fichtner|Hele...</td>\n",
       "      <td>Gore Verbinski</td>\n",
       "      <td>Never Take Off the Mask</td>\n",
       "      <td>The Texas Rangers chase down a gang of outlaws...</td>\n",
       "      <td>149</td>\n",
       "      <td>Action|Adventure|Western</td>\n",
       "      <td>Walt Disney Pictures|Jerry Bruckheimer Films|I...</td>\n",
       "      <td>2013-07-03</td>\n",
       "      <td>6.0</td>\n",
       "      <td>2013</td>\n",
       "      <td>7</td>\n",
       "    </tr>\n",
       "    <tr>\n",
       "      <th>1616</th>\n",
       "      <td>tt0318974</td>\n",
       "      <td>145000000</td>\n",
       "      <td>25819961</td>\n",
       "      <td>-119180039</td>\n",
       "      <td>The Alamo</td>\n",
       "      <td>Dennis Quaid|Billy Bob Thornton|Jason Patric|P...</td>\n",
       "      <td>John Lee Hancock</td>\n",
       "      <td>You will never forget</td>\n",
       "      <td>Based on the 1836 standoff between a group of ...</td>\n",
       "      <td>137</td>\n",
       "      <td>Western|History|War</td>\n",
       "      <td>Imagine Entertainment|Touchstone Pictures</td>\n",
       "      <td>2004-04-07</td>\n",
       "      <td>5.9</td>\n",
       "      <td>2004</td>\n",
       "      <td>4</td>\n",
       "    </tr>\n",
       "    <tr>\n",
       "      <th>809</th>\n",
       "      <td>tt1305591</td>\n",
       "      <td>150000000</td>\n",
       "      <td>38992758</td>\n",
       "      <td>-111007242</td>\n",
       "      <td>Mars Needs Moms</td>\n",
       "      <td>Seth Green|Joan Cusack|Dan Fogler|Breckin Meye...</td>\n",
       "      <td>Simon Wells</td>\n",
       "      <td>Mom needs a little space.</td>\n",
       "      <td>When Martians suddenly abduct his mom, mischie...</td>\n",
       "      <td>88</td>\n",
       "      <td>Adventure|Animation|Family</td>\n",
       "      <td>Walt Disney Animation Studios</td>\n",
       "      <td>2011-03-09</td>\n",
       "      <td>5.5</td>\n",
       "      <td>2011</td>\n",
       "      <td>3</td>\n",
       "    </tr>\n",
       "    <tr>\n",
       "      <th>958</th>\n",
       "      <td>tt0180052</td>\n",
       "      <td>100000000</td>\n",
       "      <td>7103973</td>\n",
       "      <td>-92896027</td>\n",
       "      <td>The Adventures of Pluto Nash</td>\n",
       "      <td>Eddie Murphy|Randy Quaid|Rosario Dawson|Joe Pa...</td>\n",
       "      <td>Ron Underwood</td>\n",
       "      <td>Action's future has arrived...</td>\n",
       "      <td>The year is 2087, the setting is the moon. Edd...</td>\n",
       "      <td>95</td>\n",
       "      <td>Action|Comedy|Science Fiction</td>\n",
       "      <td>Village Roadshow Pictures|Castle Rock Entertai...</td>\n",
       "      <td>2002-08-15</td>\n",
       "      <td>4.6</td>\n",
       "      <td>2002</td>\n",
       "      <td>8</td>\n",
       "    </tr>\n",
       "    <tr>\n",
       "      <th>1464</th>\n",
       "      <td>tt0424095</td>\n",
       "      <td>149000000</td>\n",
       "      <td>64459316</td>\n",
       "      <td>-84540684</td>\n",
       "      <td>Flushed Away</td>\n",
       "      <td>Hugh Jackman|Kate Winslet|Ian McKellen|Jean Re...</td>\n",
       "      <td>David Bowers|Sam Fell</td>\n",
       "      <td>Someone's Going Down</td>\n",
       "      <td>London high-society mouse, Roddy is flushed do...</td>\n",
       "      <td>85</td>\n",
       "      <td>Adventure|Animation|Comedy|Family</td>\n",
       "      <td>Aardman Animations|DreamWorks Animation</td>\n",
       "      <td>2006-10-22</td>\n",
       "      <td>6.0</td>\n",
       "      <td>2006</td>\n",
       "      <td>10</td>\n",
       "    </tr>\n",
       "  </tbody>\n",
       "</table>\n",
       "</div>"
      ],
      "text/plain": [
       "        imdb_id     budget   revenue     profit                original_title  \\\n",
       "1245  tt1210819  255000000  89289910 -165710090               The Lone Ranger   \n",
       "1616  tt0318974  145000000  25819961 -119180039                     The Alamo   \n",
       "809   tt1305591  150000000  38992758 -111007242               Mars Needs Moms   \n",
       "958   tt0180052  100000000   7103973  -92896027  The Adventures of Pluto Nash   \n",
       "1464  tt0424095  149000000  64459316  -84540684                  Flushed Away   \n",
       "\n",
       "                                                   cast  \\\n",
       "1245  Johnny Depp|Armie Hammer|William Fichtner|Hele...   \n",
       "1616  Dennis Quaid|Billy Bob Thornton|Jason Patric|P...   \n",
       "809   Seth Green|Joan Cusack|Dan Fogler|Breckin Meye...   \n",
       "958   Eddie Murphy|Randy Quaid|Rosario Dawson|Joe Pa...   \n",
       "1464  Hugh Jackman|Kate Winslet|Ian McKellen|Jean Re...   \n",
       "\n",
       "                   director                         tagline  \\\n",
       "1245         Gore Verbinski         Never Take Off the Mask   \n",
       "1616       John Lee Hancock           You will never forget   \n",
       "809             Simon Wells       Mom needs a little space.   \n",
       "958           Ron Underwood  Action's future has arrived...   \n",
       "1464  David Bowers|Sam Fell            Someone's Going Down   \n",
       "\n",
       "                                               overview  runtime  \\\n",
       "1245  The Texas Rangers chase down a gang of outlaws...      149   \n",
       "1616  Based on the 1836 standoff between a group of ...      137   \n",
       "809   When Martians suddenly abduct his mom, mischie...       88   \n",
       "958   The year is 2087, the setting is the moon. Edd...       95   \n",
       "1464  London high-society mouse, Roddy is flushed do...       85   \n",
       "\n",
       "                                 genres  \\\n",
       "1245           Action|Adventure|Western   \n",
       "1616                Western|History|War   \n",
       "809          Adventure|Animation|Family   \n",
       "958       Action|Comedy|Science Fiction   \n",
       "1464  Adventure|Animation|Comedy|Family   \n",
       "\n",
       "                                   production_companies release_date  \\\n",
       "1245  Walt Disney Pictures|Jerry Bruckheimer Films|I...   2013-07-03   \n",
       "1616          Imagine Entertainment|Touchstone Pictures   2004-04-07   \n",
       "809                       Walt Disney Animation Studios   2011-03-09   \n",
       "958   Village Roadshow Pictures|Castle Rock Entertai...   2002-08-15   \n",
       "1464            Aardman Animations|DreamWorks Animation   2006-10-22   \n",
       "\n",
       "      vote_average  release_year  release_month  \n",
       "1245           6.0          2013              7  \n",
       "1616           5.9          2004              4  \n",
       "809            5.5          2011              3  \n",
       "958            4.6          2002              8  \n",
       "1464           6.0          2006             10  "
      ]
     },
     "metadata": {},
     "output_type": "display_data"
    }
   ],
   "source": [
    "# ВАРИАНТ 1\n",
    "display(data.sort_values('profit').head())"
   ]
  },
  {
   "cell_type": "code",
   "execution_count": 27,
   "metadata": {
    "scrolled": true
   },
   "outputs": [
    {
     "data": {
      "text/html": [
       "<div>\n",
       "<style scoped>\n",
       "    .dataframe tbody tr th:only-of-type {\n",
       "        vertical-align: middle;\n",
       "    }\n",
       "\n",
       "    .dataframe tbody tr th {\n",
       "        vertical-align: top;\n",
       "    }\n",
       "\n",
       "    .dataframe thead th {\n",
       "        text-align: right;\n",
       "    }\n",
       "</style>\n",
       "<table border=\"1\" class=\"dataframe\">\n",
       "  <thead>\n",
       "    <tr style=\"text-align: right;\">\n",
       "      <th></th>\n",
       "      <th>imdb_id</th>\n",
       "      <th>budget</th>\n",
       "      <th>revenue</th>\n",
       "      <th>profit</th>\n",
       "      <th>original_title</th>\n",
       "      <th>cast</th>\n",
       "      <th>director</th>\n",
       "      <th>tagline</th>\n",
       "      <th>overview</th>\n",
       "      <th>runtime</th>\n",
       "      <th>genres</th>\n",
       "      <th>production_companies</th>\n",
       "      <th>release_date</th>\n",
       "      <th>vote_average</th>\n",
       "      <th>release_year</th>\n",
       "      <th>release_month</th>\n",
       "    </tr>\n",
       "  </thead>\n",
       "  <tbody>\n",
       "    <tr>\n",
       "      <th>1245</th>\n",
       "      <td>tt1210819</td>\n",
       "      <td>255000000</td>\n",
       "      <td>89289910</td>\n",
       "      <td>-165710090</td>\n",
       "      <td>The Lone Ranger</td>\n",
       "      <td>Johnny Depp|Armie Hammer|William Fichtner|Hele...</td>\n",
       "      <td>Gore Verbinski</td>\n",
       "      <td>Never Take Off the Mask</td>\n",
       "      <td>The Texas Rangers chase down a gang of outlaws...</td>\n",
       "      <td>149</td>\n",
       "      <td>Action|Adventure|Western</td>\n",
       "      <td>Walt Disney Pictures|Jerry Bruckheimer Films|I...</td>\n",
       "      <td>2013-07-03</td>\n",
       "      <td>6.0</td>\n",
       "      <td>2013</td>\n",
       "      <td>7</td>\n",
       "    </tr>\n",
       "  </tbody>\n",
       "</table>\n",
       "</div>"
      ],
      "text/plain": [
       "        imdb_id     budget   revenue     profit   original_title  \\\n",
       "1245  tt1210819  255000000  89289910 -165710090  The Lone Ranger   \n",
       "\n",
       "                                                   cast        director  \\\n",
       "1245  Johnny Depp|Armie Hammer|William Fichtner|Hele...  Gore Verbinski   \n",
       "\n",
       "                      tagline  \\\n",
       "1245  Never Take Off the Mask   \n",
       "\n",
       "                                               overview  runtime  \\\n",
       "1245  The Texas Rangers chase down a gang of outlaws...      149   \n",
       "\n",
       "                        genres  \\\n",
       "1245  Action|Adventure|Western   \n",
       "\n",
       "                                   production_companies release_date  \\\n",
       "1245  Walt Disney Pictures|Jerry Bruckheimer Films|I...   2013-07-03   \n",
       "\n",
       "      vote_average  release_year  release_month  \n",
       "1245           6.0          2013              7  "
      ]
     },
     "metadata": {},
     "output_type": "display_data"
    }
   ],
   "source": [
    "# ВАРИАНТ 2\n",
    "display(data[data.profit == data.profit.min()])"
   ]
  },
  {
   "cell_type": "code",
   "execution_count": 28,
   "metadata": {},
   "outputs": [
    {
     "data": {
      "text/plain": [
       "Text(0, 0.5, 'Profit')"
      ]
     },
     "execution_count": 28,
     "metadata": {},
     "output_type": "execute_result"
    },
    {
     "data": {
      "image/png": "[encoded data removed]",
      "text/plain": [
       "<Figure size 432x288 with 1 Axes>"
      ]
     },
     "metadata": {
      "needs_background": "light"
     },
     "output_type": "display_data"
    }
   ],
   "source": [
    "# Визуализация\n",
    "data_plot = data.sort_values(\n",
    "    'profit')[['profit', 'original_title']][:10].copy()\n",
    "data_plot.set_index('original_title', inplace=True)\n",
    "plot = data_plot.plot(kind='bar')\n",
    "plot.set_title('TOP 10 unprofitable movies')\n",
    "plot.set_xlabel('Movie title')\n",
    "plot.set_ylabel('Profit')"
   ]
  },
  {
   "cell_type": "markdown",
   "metadata": {
    "colab_type": "text",
    "id": "wEOM5ERVVp-6"
   },
   "source": [
    "# 8. У скольких фильмов из датасета объем сборов оказался выше бюджета?"
   ]
  },
  {
   "cell_type": "code",
   "execution_count": 29,
   "metadata": {},
   "outputs": [],
   "source": [
    "answers['8'] = '1. 1478'"
   ]
  },
  {
   "cell_type": "code",
   "execution_count": 30,
   "metadata": {
    "colab": {},
    "colab_type": "code",
    "id": "y00_7HD6Vp-7"
   },
   "outputs": [
    {
     "name": "stdout",
     "output_type": "stream",
     "text": [
      "1478\n"
     ]
    }
   ],
   "source": [
    "print(len(data[data.profit > 0]))"
   ]
  },
  {
   "cell_type": "markdown",
   "metadata": {
    "colab_type": "text",
    "id": "xhpspA9KVp_A"
   },
   "source": [
    "# 9. Какой фильм оказался самым кассовым в 2008 году?"
   ]
  },
  {
   "cell_type": "code",
   "execution_count": 31,
   "metadata": {},
   "outputs": [],
   "source": [
    "answers['9'] = '4. The Dark Knight (tt0468569)'"
   ]
  },
  {
   "cell_type": "code",
   "execution_count": 32,
   "metadata": {
    "colab": {},
    "colab_type": "code",
    "id": "MoUyQr9RVp_B",
    "scrolled": false
   },
   "outputs": [
    {
     "data": {
      "text/html": [
       "<div>\n",
       "<style scoped>\n",
       "    .dataframe tbody tr th:only-of-type {\n",
       "        vertical-align: middle;\n",
       "    }\n",
       "\n",
       "    .dataframe tbody tr th {\n",
       "        vertical-align: top;\n",
       "    }\n",
       "\n",
       "    .dataframe thead th {\n",
       "        text-align: right;\n",
       "    }\n",
       "</style>\n",
       "<table border=\"1\" class=\"dataframe\">\n",
       "  <thead>\n",
       "    <tr style=\"text-align: right;\">\n",
       "      <th></th>\n",
       "      <th>imdb_id</th>\n",
       "      <th>original_title</th>\n",
       "    </tr>\n",
       "  </thead>\n",
       "  <tbody>\n",
       "    <tr>\n",
       "      <th>599</th>\n",
       "      <td>tt0468569</td>\n",
       "      <td>The Dark Knight</td>\n",
       "    </tr>\n",
       "  </tbody>\n",
       "</table>\n",
       "</div>"
      ],
      "text/plain": [
       "       imdb_id   original_title\n",
       "599  tt0468569  The Dark Knight"
      ]
     },
     "metadata": {},
     "output_type": "display_data"
    }
   ],
   "source": [
    "# ВАРИАНТ 1\n",
    "movies_2008 = data[data.release_year == 2008]\n",
    "display(movies_2008[['imdb_id', 'original_title']]\n",
    "        [movies_2008.revenue == movies_2008.revenue.max()])"
   ]
  },
  {
   "cell_type": "code",
   "execution_count": 33,
   "metadata": {
    "scrolled": true
   },
   "outputs": [
    {
     "data": {
      "text/plain": [
       "imdb_id                                                         tt0468569\n",
       "budget                                                          185000000\n",
       "revenue                                                        1001921825\n",
       "profit                                                          816921825\n",
       "original_title                                            The Dark Knight\n",
       "cast                    Christian Bale|Michael Caine|Heath Ledger|Aaro...\n",
       "director                                                Christopher Nolan\n",
       "tagline                                                   Why So Serious?\n",
       "overview                Batman raises the stakes in his war on crime. ...\n",
       "runtime                                                               152\n",
       "genres                                        Drama|Action|Crime|Thriller\n",
       "production_companies    DC Comics|Legendary Pictures|Warner Bros.|Syncopy\n",
       "release_date                                          2008-07-16 00:00:00\n",
       "vote_average                                                          8.1\n",
       "release_year                                                         2008\n",
       "release_month                                                           7\n",
       "Name: 599, dtype: object"
      ]
     },
     "execution_count": 33,
     "metadata": {},
     "output_type": "execute_result"
    }
   ],
   "source": [
    "# ВАРИАНТ 2\n",
    "data.query('release_year == 2008').sort_values('revenue', ascending=False).iloc[0]"
   ]
  },
  {
   "cell_type": "code",
   "execution_count": 34,
   "metadata": {},
   "outputs": [
    {
     "data": {
      "text/plain": [
       "Text(0, 0.5, 'Revenue')"
      ]
     },
     "execution_count": 34,
     "metadata": {},
     "output_type": "execute_result"
    },
    {
     "data": {
      "image/png": "[encoded data removed]",
      "text/plain": [
       "<Figure size 432x288 with 1 Axes>"
      ]
     },
     "metadata": {
      "needs_background": "light"
     },
     "output_type": "display_data"
    }
   ],
   "source": [
    "# Визуализация\n",
    "data_plot = data.query('release_year == 2008').sort_values(\n",
    "    'revenue', ascending=False)[['revenue', 'original_title']][:10].copy()\n",
    "data_plot.set_index('original_title', inplace=True)\n",
    "plot = data_plot.plot(kind='bar')\n",
    "plot.set_title('TOP 10 revenue in 2008')\n",
    "plot.set_xlabel('Movie title')\n",
    "plot.set_ylabel('Revenue')"
   ]
  },
  {
   "cell_type": "markdown",
   "metadata": {
    "colab_type": "text",
    "id": "Zi4hDKidVp_F"
   },
   "source": [
    "# 10. Самый убыточный фильм за период с 2012 по 2014 г. (включительно)?\n"
   ]
  },
  {
   "cell_type": "code",
   "execution_count": 35,
   "metadata": {},
   "outputs": [],
   "source": [
    "answers['10'] = '5. The Lone Ranger (tt1210819)'"
   ]
  },
  {
   "cell_type": "code",
   "execution_count": 36,
   "metadata": {
    "colab": {},
    "colab_type": "code",
    "id": "XqyRmufJVp_F",
    "scrolled": true
   },
   "outputs": [
    {
     "data": {
      "text/plain": [
       "imdb_id                                                         tt1210819\n",
       "budget                                                          255000000\n",
       "revenue                                                          89289910\n",
       "profit                                                         -165710090\n",
       "original_title                                            The Lone Ranger\n",
       "cast                    Johnny Depp|Armie Hammer|William Fichtner|Hele...\n",
       "director                                                   Gore Verbinski\n",
       "tagline                                           Never Take Off the Mask\n",
       "overview                The Texas Rangers chase down a gang of outlaws...\n",
       "runtime                                                               149\n",
       "genres                                           Action|Adventure|Western\n",
       "production_companies    Walt Disney Pictures|Jerry Bruckheimer Films|I...\n",
       "release_date                                          2013-07-03 00:00:00\n",
       "vote_average                                                            6\n",
       "release_year                                                         2013\n",
       "release_month                                                           7\n",
       "Name: 1245, dtype: object"
      ]
     },
     "execution_count": 36,
     "metadata": {},
     "output_type": "execute_result"
    }
   ],
   "source": [
    "data.query('2012 <= release_year <= 2014').sort_values('profit').iloc[0]"
   ]
  },
  {
   "cell_type": "code",
   "execution_count": 37,
   "metadata": {},
   "outputs": [
    {
     "data": {
      "text/plain": [
       "Text(0, 0.5, 'Profit')"
      ]
     },
     "execution_count": 37,
     "metadata": {},
     "output_type": "execute_result"
    },
    {
     "data": {
      "image/png": "[encoded data removed]",
      "text/plain": [
       "<Figure size 432x288 with 1 Axes>"
      ]
     },
     "metadata": {
      "needs_background": "light"
     },
     "output_type": "display_data"
    }
   ],
   "source": [
    "# Визуализация\n",
    "data_plot = data.query('2012 <= release_year <= 2014').sort_values(\n",
    "    'profit')[['profit', 'original_title']][:10].copy()\n",
    "data_plot.set_index('original_title', inplace=True)\n",
    "plot = data_plot.plot(kind='bar')\n",
    "plot.set_title('TOP 10 loss in 2012-2014')\n",
    "plot.set_xlabel('Movie title')\n",
    "plot.set_ylabel('Profit')"
   ]
  },
  {
   "cell_type": "markdown",
   "metadata": {
    "colab_type": "text",
    "id": "EA7Sa9dkVp_I"
   },
   "source": [
    "# 11. Какого жанра фильмов больше всего?"
   ]
  },
  {
   "cell_type": "code",
   "execution_count": 38,
   "metadata": {},
   "outputs": [],
   "source": [
    "answers['11'] = '3. Drama'"
   ]
  },
  {
   "cell_type": "code",
   "execution_count": 39,
   "metadata": {
    "colab": {},
    "colab_type": "code",
    "id": "zsJAwJ8QVp_J"
   },
   "outputs": [
    {
     "data": {
      "text/plain": [
       "Drama    782.0\n",
       "dtype: float64"
      ]
     },
     "execution_count": 39,
     "metadata": {},
     "output_type": "execute_result"
    }
   ],
   "source": [
    "# ВАРИАНТ 1\n",
    "\n",
    "# Создадим датафрейм из столбца \"genre\" разбив его на столбцы, в которых перечислены все жанры относящиеся к каждому фильму\n",
    "allgenres = data['genres'].str.split('|', expand=True)\n",
    "\n",
    "# Применим value_counts к каждому столбцу, транспонируем с целью суммирования, затем просуммируем и отсортируем,\n",
    "# затем отобразим слайс из первого элемента\n",
    "allgenres.apply(lambda x: x.value_counts()).T.sum().sort_values(ascending=False)[:1]"
   ]
  },
  {
   "cell_type": "code",
   "execution_count": 40,
   "metadata": {
    "colab": {},
    "colab_type": "code",
    "id": "otO3SbrSVp_N"
   },
   "outputs": [
    {
     "data": {
      "text/plain": [
       "('Drama', 782)"
      ]
     },
     "execution_count": 40,
     "metadata": {},
     "output_type": "execute_result"
    }
   ],
   "source": [
    "# ВАРИАНТ 2\n",
    "\n",
    "# Создадим список из всех перечисленных в записях жанров путем разбиения записей столбца 'genres' в списки\n",
    "# и последующего суммирования Series\n",
    "# посчитаем упоминания жанров в списке Counter'ом и отсортируем наиболее упоминаемые, возьмем первый элемент\n",
    "Counter(data.genres.apply(lambda x: x.split('|')).sum()).most_common()[0]"
   ]
  },
  {
   "cell_type": "markdown",
   "metadata": {
    "colab_type": "text",
    "id": "T9_bPWpkVp_Q"
   },
   "source": [
    "# 12. Фильмы какого жанра чаще всего становятся прибыльными? "
   ]
  },
  {
   "cell_type": "code",
   "execution_count": 41,
   "metadata": {},
   "outputs": [],
   "source": [
    "answers['12'] = '1. Drama'"
   ]
  },
  {
   "cell_type": "code",
   "execution_count": 42,
   "metadata": {
    "colab": {},
    "colab_type": "code",
    "id": "Tmt8MaK1Vp_R"
   },
   "outputs": [
    {
     "data": {
      "text/plain": [
       "Drama              560.0\n",
       "Comedy             551.0\n",
       "Thriller           446.0\n",
       "Action             444.0\n",
       "Adventure          337.0\n",
       "Romance            242.0\n",
       "Crime              231.0\n",
       "Family             226.0\n",
       "Science Fiction    195.0\n",
       "Fantasy            188.0\n",
       "Horror             150.0\n",
       "Animation          120.0\n",
       "Mystery            119.0\n",
       "Music               47.0\n",
       "History             46.0\n",
       "War                 41.0\n",
       "Western             12.0\n",
       "Documentary          7.0\n",
       "dtype: float64"
      ]
     },
     "execution_count": 42,
     "metadata": {},
     "output_type": "execute_result"
    }
   ],
   "source": [
    "allmovies[allmovies.profit > 0][['genre1', 'genre2', 'genre3', 'genre4', 'genre5']].apply(\n",
    "    lambda x: x.value_counts()).T.sum().sort_values(ascending=False)"
   ]
  },
  {
   "cell_type": "code",
   "execution_count": 43,
   "metadata": {},
   "outputs": [
    {
     "data": {
      "text/plain": [
       "Text(0, 0.5, '')"
      ]
     },
     "execution_count": 43,
     "metadata": {},
     "output_type": "execute_result"
    },
    {
     "data": {
      "image/png": "[encoded data removed]",
      "text/plain": [
       "<Figure size 432x288 with 1 Axes>"
      ]
     },
     "metadata": {},
     "output_type": "display_data"
    }
   ],
   "source": [
    "# ВИЗУАЛИЗАЦИЯ\n",
    "plot = allmovies[allmovies.profit > 0][['genre1', 'genre2', 'genre3', 'genre4', 'genre5']].apply(\n",
    "    lambda x: x.value_counts()).T.sum().sort_values(ascending=False)[:10].plot(kind='pie', autopct='%.1f')\n",
    "plot.set_title('TOP 10 Genres by %')\n",
    "plot.set_xlabel('')\n",
    "plot.set_ylabel('')"
   ]
  },
  {
   "cell_type": "markdown",
   "metadata": {
    "colab_type": "text",
    "id": "0F23bgsDVp_U"
   },
   "source": [
    "# 13. У какого режиссера самые большие суммарные кассовые сборы?"
   ]
  },
  {
   "cell_type": "code",
   "execution_count": 44,
   "metadata": {},
   "outputs": [],
   "source": [
    "answers['13'] = '5. Peter Jackson'"
   ]
  },
  {
   "cell_type": "code",
   "execution_count": 45,
   "metadata": {},
   "outputs": [
    {
     "data": {
      "text/plain": [
       "director\n",
       "Peter Jackson    6490593685\n",
       "Name: revenue, dtype: int64"
      ]
     },
     "execution_count": 45,
     "metadata": {},
     "output_type": "execute_result"
    }
   ],
   "source": [
    "# Конвертируем значения столбца 'director' в списки, разбив множественные значения\n",
    "allmovies['director'] = allmovies['director'].str.split('|')\n",
    "\n",
    "# Применим метод explode, продублируем строки, где есть более одного режиссера\n",
    "# Затем сгруппируем по режиссерам и просуммируем выручку\n",
    "allmovies.explode('director').groupby('director').revenue.sum().sort_values(ascending=False)[:1]"
   ]
  },
  {
   "cell_type": "code",
   "execution_count": 46,
   "metadata": {},
   "outputs": [
    {
     "data": {
      "text/plain": [
       "{'Peter Jackson': 6490593685,\n",
       " 'Christopher Nolan': 4167548502,\n",
       " 'David Yates': 4154295625,\n",
       " 'Michael Bay': 3886938960,\n",
       " 'J.J. Abrams': 3579169916,\n",
       " 'Gore Verbinski': 3426362290,\n",
       " 'Steven Spielberg': 3386700791,\n",
       " 'McG': 3323121992,\n",
       " 'Ridley Scott': 3264035909,\n",
       " 'Francis Lawrence': 3179979588,\n",
       " 'Sam Raimi': 3091066354,\n",
       " 'Joss Whedon': 2924593677,\n",
       " 'James Cameron': 2798546718,\n",
       " 'Pierre Coffin': 2671006832,\n",
       " 'Tim Burton': 2610663457,\n",
       " 'Andrew Adamson': 2572706346,\n",
       " 'Lee Unkrich': 2490614145,\n",
       " 'Chris Columbus': 2354968952,\n",
       " 'Sam Mendes': 2342352791,\n",
       " 'Carlos Saldanha': 2289719105,\n",
       " 'Eric Darnell': 2257054393,\n",
       " 'Shawn Levy': 2218587063,\n",
       " 'Tom McGrath': 2205388064,\n",
       " 'Brad Bird': 2158913958,\n",
       " 'Pete Docter': 2147867609,\n",
       " 'Ron Howard': 2133257991,\n",
       " 'Steven Soderbergh': 2074928588,\n",
       " 'Conrad Vernon': 2048269902,\n",
       " 'Roland Emmerich': 2000587076,\n",
       " 'Justin Lin': 1953947074,\n",
       " 'Clint Eastwood': 1900566334,\n",
       " 'James Wan': 1863441367,\n",
       " 'Chris Renaud': 1863116186,\n",
       " 'M. Night Shyamalan': 1779548638,\n",
       " 'Bill Condon': 1704664544,\n",
       " 'Rob Marshall': 1703605066,\n",
       " 'Todd Phillips': 1682393447,\n",
       " 'Andrew Stanton': 1670076938,\n",
       " 'Jon Favreau': 1603296331,\n",
       " 'Zack Snyder': 1602937193,\n",
       " 'Brett Ratner': 1602419041,\n",
       " 'Raja Gosnell': 1582104000,\n",
       " 'Alfonso CuarÃ³n': 1576157010,\n",
       " 'Lana Wachowski': 1572004269,\n",
       " 'Lilly Wachowski': 1572004269,\n",
       " 'Marc Webb': 1518656023,\n",
       " 'Bryan Singer': 1516212100,\n",
       " 'Colin Trevorrow': 1513528810,\n",
       " 'Kyle Balda': 1505571278,\n",
       " 'George Lucas': 1499398328,\n",
       " 'Robert Zemeckis': 1473123904,\n",
       " 'Martin Scorsese': 1458194907,\n",
       " 'David Fincher': 1441983520,\n",
       " 'Chris Buck': 1423263522,\n",
       " 'Steve Martino': 1420615909,\n",
       " 'Quentin Tarantino': 1417139583,\n",
       " 'Marc Forster': 1372521590,\n",
       " 'Chris Miller': 1353945642,\n",
       " 'Doug Liman': 1309203108,\n",
       " 'Peter Berg': 1305181428,\n",
       " 'Dennis Dugan': 1290026753,\n",
       " 'Jennifer Lee': 1274219009,\n",
       " 'Martin Campbell': 1251862395,\n",
       " 'Dean DeBlois': 1249773334,\n",
       " 'Nancy Meyers': 1248677472,\n",
       " 'Jay Roach': 1238344409,\n",
       " 'Mike Newell': 1235683287,\n",
       " 'Kelly Asbury': 1232114729,\n",
       " 'Chris Sanders': 1225829214,\n",
       " 'Jon Turteltaub': 1224201254,\n",
       " 'Shane Black': 1215439994,\n",
       " 'Chris Weitz': 1211062326,\n",
       " 'Mike Mitchell': 1181666117,\n",
       " 'Barry Sonnenfeld': 1161867642,\n",
       " 'Rob Letterman': 1136338428,\n",
       " 'Paul W.S. Anderson': 1133874490,\n",
       " 'Phil Lord': 1102176100,\n",
       " 'Christopher Miller': 1102176100,\n",
       " 'David Silverman': 1089885107,\n",
       " 'Guy Ritchie': 1076085675,\n",
       " 'Peyton Reed': 1060340963,\n",
       " 'Kenneth Branagh': 1037015467,\n",
       " 'Stephen Sommers': 1035739766,\n",
       " 'Ang Lee': 1032420806,\n",
       " 'Rob Cohen': 1028154301,\n",
       " 'James Mangold': 1024085743,\n",
       " 'John Lasseter': 1021835545,\n",
       " 'Wolfgang Petersen': 1004841306,\n",
       " 'Paul Greengrass': 997493340,\n",
       " 'Tim Story': 982087416,\n",
       " 'Peter Segal': 981449931,\n",
       " 'Jonathan Liebesman': 980666756,\n",
       " 'Matthew Vaughn': 979971176,\n",
       " 'Antoine Fuqua': 964376048,\n",
       " 'Chris Williams': 962085437,\n",
       " 'Brad Peyton': 938667356,\n",
       " 'Robert Rodriguez': 930768969,\n",
       " 'Alan Taylor': 920368537,\n",
       " 'Tom Hooper': 920212842,\n",
       " 'George Miller': 913178428,\n",
       " 'Chris Wedge': 912380764,\n",
       " 'Matt Reeves': 903109639,\n",
       " 'Byron Howard': 901774930,\n",
       " 'Christopher McQuarrie': 900670734,\n",
       " 'Guillermo del Toro': 896999810,\n",
       " 'Mike Thurmeier': 877244782,\n",
       " 'Adam Shankman': 873562773,\n",
       " 'Olivier Megaton': 871858133,\n",
       " 'Adam McKay': 859076455,\n",
       " 'Vicky Jenson': 858089482,\n",
       " 'Peter Farrelly': 856240078,\n",
       " 'Joe Johnston': 847454033,\n",
       " 'Anthony Russo': 845197940,\n",
       " 'Joe Russo': 845197940,\n",
       " 'Gary Ross': 839547137,\n",
       " 'Alejandro GonzÃ¡lez IÃ±Ã¡rritu': 831923618,\n",
       " 'Genndy Tartakovsky': 824559147,\n",
       " 'Bobby Farrelly': 823801090,\n",
       " 'Joel Coen': 809968145,\n",
       " 'James Gunn': 805751387,\n",
       " 'Raman Hui': 798958165,\n",
       " 'Andy Tennant': 795953885,\n",
       " 'Tony Scott': 794816918,\n",
       " 'Len Wiseman': 789382796,\n",
       " 'Edward Zwick': 781612124,\n",
       " 'David Slade': 773997320,\n",
       " 'Seth MacFarlane': 765231921,\n",
       " 'Robert Stromberg': 758410378,\n",
       " 'Rob Minkoff': 753066126,\n",
       " 'Darren Aronofsky': 750450089,\n",
       " 'Dan Scanlon': 743559607,\n",
       " 'Mel Gibson': 732074710,\n",
       " 'Bob Peterson': 731342744,\n",
       " 'Mark Osborne': 729315810,\n",
       " 'Phyllida Lloyd': 724798336,\n",
       " 'John Woo': 720286182,\n",
       " 'Tom Shadyac': 709895235,\n",
       " 'Simon West': 707421114,\n",
       " 'Michael Patrick King': 703600478,\n",
       " 'Michael Mann': 701130185,\n",
       " 'Danny Boyle': 696659594,\n",
       " 'Louis Leterrier': 694091791,\n",
       " 'David Frankel': 692362906,\n",
       " 'Joseph Kosinski': 686231335,\n",
       " 'Jonathan Mostow': 685111187,\n",
       " 'Robert Luketic': 683591681,\n",
       " 'Paul Feig': 682723922,\n",
       " 'Don Hall': 666565443,\n",
       " 'Jennifer Yuh': 665692281,\n",
       " 'Simon J. Smith': 661146671,\n",
       " 'Wes Ball': 659576787,\n",
       " 'Robert Schwentke': 651938962,\n",
       " 'Kirk De Micco': 648979273,\n",
       " 'F. Gary Gray': 643972930,\n",
       " 'Anne Fletcher': 643509398,\n",
       " 'Keenen Ivory Wayans': 633922045,\n",
       " 'Steve Carr': 632906672,\n",
       " 'Lee Tamahori': 632162835,\n",
       " 'John Stevenson': 631744560,\n",
       " 'David Dobkin': 630508402,\n",
       " 'Jan Pinkava': 623722818,\n",
       " 'John Moore': 622021803,\n",
       " 'Ethan Coen': 619027330,\n",
       " 'Garry Marshall': 619014880,\n",
       " 'Judd Apatow': 618839316,\n",
       " 'Frank Coraci': 603207563,\n",
       " 'Neill Blomkamp': 599029579,\n",
       " 'Nathan Greno': 591794936,\n",
       " 'Baz Luhrmann': 579807855,\n",
       " 'Sam Taylor-Johnson': 569651467,\n",
       " 'Tim Hill': 562612737,\n",
       " 'Brad Lewis': 559852396,\n",
       " 'Andy Fickman': 547448412,\n",
       " 'John Singleton': 547390637,\n",
       " 'Tarsem Singh': 544601608,\n",
       " 'Sylvester Stallone': 543435816,\n",
       " 'Oliver Stone': 541498571,\n",
       " 'Mark Andrews': 538983207,\n",
       " 'Steve Purcell': 538983207,\n",
       " 'Brenda Chapman': 538983207,\n",
       " 'Neil Burger': 537512367,\n",
       " 'D.J. Caruso': 536316571,\n",
       " 'Jaume Collet-Serra': 535520013,\n",
       " 'Lasse HallstrÃ¶m': 532144542,\n",
       " 'Gareth Edwards': 529076069,\n",
       " 'Gavin Hood': 524265839,\n",
       " 'Kevin Lima': 524099423,\n",
       " 'Tim Johnson': 523890347,\n",
       " 'John Lee Hancock': 523169892,\n",
       " 'Rupert Wyatt': 522031315,\n",
       " 'Betty Thomas': 517710811,\n",
       " 'Nicholas Stoller': 517269922,\n",
       " 'Mark Waters': 515391771,\n",
       " 'Nick Cassavetes': 510344067,\n",
       " 'Harald Zwart': 507213630,\n",
       " 'Alex Proyas': 502681278,\n",
       " 'Luc Besson': 500254288,\n",
       " 'Catherine Hardwicke': 495190744,\n",
       " 'Paul Weitz': 493134283,\n",
       " 'Dominic Sena': 484588740,\n",
       " 'Mark Dindal': 483760352,\n",
       " 'Gabriele Muccino': 475244986,\n",
       " 'Joe Wright': 474304564,\n",
       " 'Rich Moore': 471222889,\n",
       " 'Michael Apted': 467487404,\n",
       " 'David O. Russell': 466101390,\n",
       " 'Joe Ranft': 461983149,\n",
       " 'Seth Gordon': 454698707,\n",
       " 'Cameron Crowe': 449138780,\n",
       " 'Donald Petrie': 447986622,\n",
       " 'Bibo Bergeron': 443707746,\n",
       " 'Jason Reitman': 442814120,\n",
       " 'Larry Charles': 440952277,\n",
       " 'Ben Stiller': 436986952,\n",
       " 'Tony Gilroy': 429564773,\n",
       " 'Ben Affleck': 420969963,\n",
       " 'Jimmy Hayward': 417677014,\n",
       " 'Nick Park': 417287396,\n",
       " 'Jon M. Chu': 410884147,\n",
       " 'Alexander Payne': 410234956,\n",
       " 'Mark Steven Johnson': 407918111,\n",
       " 'Joel Schumacher': 405642604,\n",
       " 'David R. Ellis': 405164703,\n",
       " 'Sean Anders': 405064116,\n",
       " 'Peter Chelsom': 403190043,\n",
       " 'David Zucker': 398935837,\n",
       " 'Baltasar KormÃ¡kur': 398467995,\n",
       " 'Rupert Sanders': 396600000,\n",
       " 'Wes Anderson': 395584160,\n",
       " 'Loveleen Tandan': 377910544,\n",
       " 'Scott Derrickson': 377310327,\n",
       " 'Ron Clements': 376623880,\n",
       " 'John Musker': 376623880,\n",
       " 'Mikael HÃ¥fstrÃ¶m': 371121418,\n",
       " 'Timur Bekmambetov': 370535147,\n",
       " 'Joel Zwick': 368744044,\n",
       " 'Jake Kasdan': 360584152,\n",
       " 'Phillip Noyce': 360309529,\n",
       " 'Will Gluck': 359257886,\n",
       " 'Wes Craven': 355989623,\n",
       " 'Ralph Zondag': 354248063,\n",
       " 'Eric Leighton': 354248063,\n",
       " 'Henry Joost': 348521810,\n",
       " 'Ariel Schulman': 348521810,\n",
       " 'Noam Murro': 348150015,\n",
       " 'Ken Kwapis': 346330028,\n",
       " 'Peter Lord': 343172925,\n",
       " 'David Ayer': 343022677,\n",
       " 'Peter Sohn': 331926147,\n",
       " 'Marc Lawrence': 324531590,\n",
       " 'Thor Freudenthal': 323313709,\n",
       " 'Tom Tykwer': 322824582,\n",
       " 'Elizabeth Banks': 319945182,\n",
       " 'Jesse Dylan': 318675071,\n",
       " 'George Clooney': 318590901,\n",
       " 'Steven Quale': 318489837,\n",
       " 'Aaron Seltzer': 314717971,\n",
       " 'Jason Friedberg': 314717971,\n",
       " 'Breck Eisner': 314622276,\n",
       " 'Josh Trank': 312977596,\n",
       " 'Luke Greenfield': 311707109,\n",
       " 'Joe Carnahan': 311621022,\n",
       " 'Paul Tibbitt': 311594032,\n",
       " 'Glenn Ficarra': 307466195,\n",
       " 'John Requa': 307466195,\n",
       " 'Peter Ramsey': 306941670,\n",
       " 'Anthony Stacchi': 305564797,\n",
       " 'Josh Boone': 305151265,\n",
       " 'Eric Brevig': 303286201,\n",
       " 'Darren Lynn Bousman': 303229448,\n",
       " 'Michel Gondry': 300075374,\n",
       " 'Michael Lembeck': 296658589,\n",
       " 'Andrzej Bartkowiak': 296236439,\n",
       " 'Hoyt Yeatman': 292817841,\n",
       " 'David Twohy': 290150325,\n",
       " 'Jeff Tremaine': 288892561,\n",
       " 'Steve Hickner': 287594577,\n",
       " 'J.B. Rogers': 287553595,\n",
       " 'Greg Mottola': 284577082,\n",
       " 'Scott Waugh': 284550402,\n",
       " 'David Soren': 282570682,\n",
       " 'Brian Robbins': 282076018,\n",
       " 'Sharon Maguire': 281929795,\n",
       " 'Richard Curtis': 281280550,\n",
       " 'Rob Reiner': 279674961,\n",
       " 'Woody Allen': 279220507,\n",
       " 'Jon Hurwitz': 278482707,\n",
       " 'Hayden Schlossberg': 278482707,\n",
       " 'Florian Henckel von Donnersmarck': 278346189,\n",
       " 'Marcus Nispel': 278068588,\n",
       " 'Brad Silberling': 277762476,\n",
       " 'Randall Wallace': 276245117,\n",
       " 'Stephen Daldry': 274093953,\n",
       " 'Steven Brill': 273339641,\n",
       " 'Stephen Frears': 270640295,\n",
       " 'Brian Taylor': 267537513,\n",
       " 'Mark Neveldine': 267537513,\n",
       " 'Brian Helgeland': 267041486,\n",
       " 'Brian A Miller': 266586800,\n",
       " 'John Hamburg': 263600372,\n",
       " 'Andrew Niccol': 261385692,\n",
       " 'Nora Ephron': 260966668,\n",
       " 'Paul King': 259207227,\n",
       " 'Boaz Yakin': 258115781,\n",
       " 'David Bowers': 258079953,\n",
       " 'John R. Leonetti': 255273813,\n",
       " 'Gil Kenan': 253482048,\n",
       " 'Allen Hughes': 251367034,\n",
       " 'Tom Dey': 250218768,\n",
       " 'Stefen Fangmeier': 249288105,\n",
       " 'Alejandro AmenÃ¡bar': 248988542,\n",
       " 'Cody Cameron': 248384621,\n",
       " 'Kris Pearn': 248384621,\n",
       " 'Ruben Fleischer': 248139725,\n",
       " 'Pierre Morel': 247079448,\n",
       " 'Ivan Reitman': 246156732,\n",
       " 'James Bobin': 245567350,\n",
       " 'JosÃ© Padilha': 239379423,\n",
       " 'James McTeigue': 237702647,\n",
       " 'Frank Miller': 237172773,\n",
       " 'Malcolm D. Lee': 235259197,\n",
       " 'Mike Nichols': 234505437,\n",
       " 'Morten Tyldum': 233555708,\n",
       " 'Gary Fleder': 233026626,\n",
       " 'Peter Weir': 232359360,\n",
       " 'David S. Goyer': 232229529,\n",
       " 'Albert Hughes': 231665870,\n",
       " 'P.J. Hogan': 230307754,\n",
       " 'Steve Bendelack': 229736344,\n",
       " 'Wayne Wang': 225952200,\n",
       " 'Alexandre Aja': 225248317,\n",
       " 'Tommy Wirkola': 224803475,\n",
       " 'Takashi Shimizu': 222618441,\n",
       " 'Sam Fell': 222475860,\n",
       " 'John Whitesell': 221874476,\n",
       " 'Jason Moore': 220361479,\n",
       " 'Klay Hall': 219788712,\n",
       " 'Gary Shore': 215529201,\n",
       " 'Curtis Hanson': 215000000,\n",
       " 'Mathieu Kassovitz': 213699932,\n",
       " 'Peter Hewitt': 213310722,\n",
       " 'Daniel Espinosa': 211400535,\n",
       " 'Gary Winick': 211119158,\n",
       " 'Kathryn Bigelow': 209989682,\n",
       " 'Jonathan Levine': 208564441,\n",
       " 'Roman Polanski': 207897944,\n",
       " 'Patrick Hughes': 206172544,\n",
       " 'Denis Villeneuve': 206152503,\n",
       " 'Ryan Murphy': 204594016,\n",
       " 'Kevin Greutert': 204384063,\n",
       " 'Brian Levant': 202623481,\n",
       " 'Kirk Jones': 202189822,\n",
       " 'Dean Parisot': 202026112,\n",
       " 'Iain Softley': 199780332,\n",
       " 'Richard LaGravenese': 198006123,\n",
       " 'Thomas Carter': 197836045,\n",
       " 'Roger Allers': 197309027,\n",
       " 'Jill Culton': 197309027,\n",
       " 'Michael Sucsy': 196114570,\n",
       " 'Clark Johnson': 194563692,\n",
       " 'NimrÃ³d Antal': 192464646,\n",
       " 'Steve Box': 192452832,\n",
       " 'Pete Travis': 192199233,\n",
       " 'Renny Harlin': 192050816,\n",
       " 'Paul Verhoeven': 190213455,\n",
       " 'John Madden': 190007855,\n",
       " 'Spike Lee': 189237276,\n",
       " 'Burr Steers': 189235645,\n",
       " 'Steve McQueen': 187000000,\n",
       " 'Gary Trousdale': 186053725,\n",
       " 'Kirk Wise': 186053725,\n",
       " 'Tom Vaughan': 185134293,\n",
       " 'Juan Antonio Bayona': 180274123,\n",
       " 'Lee Daniels': 179570008,\n",
       " 'Stephen Norrington': 179265204,\n",
       " 'Paul Haggis': 179100502,\n",
       " 'Peter Howitt': 178416018,\n",
       " 'Jay Russell': 177613150,\n",
       " 'Richard Linklater': 173352964,\n",
       " 'Frank Oz': 173069884,\n",
       " 'Anthony Minghella': 173013509,\n",
       " 'Peter Billingsley': 171844840,\n",
       " 'Bennett Miller': 171387346,\n",
       " 'James Wong': 171021472,\n",
       " 'Taylor Hackford': 170948175,\n",
       " 'David Gordon Green': 169690930,\n",
       " 'Stephen J. Anderson': 169332978,\n",
       " 'John Erick Dowdle': 168957466,\n",
       " 'Rawson Marshall Thurber': 167722310,\n",
       " 'Chuck Russell': 165333180,\n",
       " 'Angelina Jolie': 163442937,\n",
       " 'Sydney Pollack': 162944923,\n",
       " 'Kevin Macdonald': 162934204,\n",
       " 'Simon Wells': 162721934,\n",
       " 'Patrick Lussier': 162666456,\n",
       " 'Rob Zombie': 161542817,\n",
       " 'Michael Moore': 161089539,\n",
       " 'Oliver Parker': 160078586,\n",
       " 'Jean-Jacques Annaud': 159148320,\n",
       " 'Kevin Smith': 158365452,\n",
       " 'Duncan Jones': 157092801,\n",
       " 'Jan de Bont': 156505388,\n",
       " 'Karey Kirkpatrick': 155019340,\n",
       " 'Scott Cooper': 154638116,\n",
       " 'David Koepp': 154415330,\n",
       " 'Roger Michell': 153720944,\n",
       " 'Harold Ramis': 152741108,\n",
       " 'Steve Pink': 152079955,\n",
       " 'Roberts Gannaway': 151165787,\n",
       " 'Carl Rinsch': 150962475,\n",
       " 'David Cronenberg': 149378780,\n",
       " 'Ash Brannon': 149044513,\n",
       " 'Paul McGuigan': 149002735,\n",
       " 'Brad Furman': 148029544,\n",
       " 'Charles Martin Smith': 147828930,\n",
       " 'Russell Mulcahy': 147717833,\n",
       " 'Tyler Perry': 146866560,\n",
       " 'Andy Muschietti': 146497771,\n",
       " 'Scott Stewart': 146227789,\n",
       " 'GÃ¡bor CsupÃ³': 144657393,\n",
       " 'Gus Van Sant': 142775136,\n",
       " 'Camille Delamarre': 141526499,\n",
       " 'Scott Speer': 140470746,\n",
       " 'Stephen Hillenburg': 140161792,\n",
       " 'Nigel Cole': 139428778,\n",
       " 'Ryan Coogler': 137935567,\n",
       " 'Jonathan Demme': 137431292,\n",
       " 'Evan Goldberg': 137346497,\n",
       " 'Seth Rogen': 137346497,\n",
       " 'John A. Davis': 136117361,\n",
       " 'Steve Trenbirth': 135680000,\n",
       " 'Kevin Rodney Sullivan': 133986300,\n",
       " 'Ericson Core': 133718711,\n",
       " 'Michel Hazanavicius': 133432856,\n",
       " 'Andrew Davis': 133394165,\n",
       " 'Gregory Hoblit': 132876699,\n",
       " 'MÃ¥ns MÃ¥rlind': 132400000,\n",
       " 'BjÃ¶rn Stein': 132400000,\n",
       " 'Walt Becker': 130494793,\n",
       " 'Henry Selick': 130005915,\n",
       " 'Alexander Witt': 129394835,\n",
       " 'Jim Sheridan': 128263217,\n",
       " 'George Nolfi': 127869379,\n",
       " 'James Watkins': 127730736,\n",
       " 'Neil Nightingale': 126546518,\n",
       " 'Barry Cook': 126546518,\n",
       " 'Charles Herman-Wurmfeld': 124914842,\n",
       " 'Richard Loncraine': 124312007,\n",
       " 'Tate Taylor': 124272124,\n",
       " 'John Polson': 122644820,\n",
       " 'Lorna Cook': 122563539,\n",
       " 'Gregory Jacobs': 122413057,\n",
       " 'Victor Salva': 122320455,\n",
       " 'James Marsh': 121201940,\n",
       " 'Frank Marshall': 120455994,\n",
       " 'Carl Franklin': 119277373,\n",
       " 'Adrian Lyne': 119137784,\n",
       " 'Barry Levinson': 118563637,\n",
       " 'Jeff Newitt': 118338361,\n",
       " 'Robert Redford': 118154099,\n",
       " 'Joseph Ruben': 117575636,\n",
       " 'Miguel Arteta': 117510273,\n",
       " 'Mike Johnson': 117195061,\n",
       " 'Scott Hicks': 116786831,\n",
       " 'David Wain': 116540861,\n",
       " 'John Luessenhop': 116297640,\n",
       " 'Jay Chandrasekhar': 115805331,\n",
       " 'John Wells': 115678257,\n",
       " 'Samuel Bayer': 115664037,\n",
       " 'Paul Thomas Anderson': 115550580,\n",
       " 'Geoffrey Sax': 115134289,\n",
       " 'Ronny Yu': 114908830,\n",
       " 'Alejandro Agresti': 114830111,\n",
       " 'Sergey Bodrov': 114178613,\n",
       " 'David McNally': 113916474,\n",
       " 'David Hackl': 113857533,\n",
       " 'John Stockwell': 113206241,\n",
       " 'George Tillman, Jr.': 111828190,\n",
       " 'Robin Budd': 109862682,\n",
       " 'Donovan Cook': 109862682,\n",
       " 'Jonathan Lynn': 109824694,\n",
       " 'Alastair Fothergill': 109000000,\n",
       " 'Mark Linfield': 109000000,\n",
       " 'William Friedkin': 108899077,\n",
       " 'James DeMonaco': 108782847,\n",
       " 'Alister Grierson': 108609310,\n",
       " 'Graham Annable': 108255770,\n",
       " 'Andrew Douglas': 108047131,\n",
       " 'Roger Kumble': 108036947,\n",
       " 'Chris Butler': 107139399,\n",
       " 'Etan Cohen': 106511453,\n",
       " 'Greg Berlanti': 105610124,\n",
       " 'Terry Gilliam': 105316267,\n",
       " 'Jorge Blanco': 104945765,\n",
       " 'Javier Abad': 104945765,\n",
       " 'Marcos MartÃ\\xadnez': 104945765,\n",
       " 'Stephen Gaghan': 104719357,\n",
       " 'Garth Jennings': 104478416,\n",
       " 'John Francis Daley': 104384188,\n",
       " 'Jonathan M. Goldstein': 104384188,\n",
       " 'Leigh Whannell': 104303851,\n",
       " 'Shekhar Kapur': 104120208,\n",
       " 'Will Finn': 103951461,\n",
       " 'John Sanford': 103951461,\n",
       " 'James L. Brooks': 103710274,\n",
       " 'Wally Pfister': 103039258,\n",
       " 'Stiles White': 102529779,\n",
       " 'Ben Falcone': 100525432,\n",
       " 'Jonathan Dayton': 100523181,\n",
       " 'Valerie Faris': 100523181,\n",
       " 'Kevin Munroe': 100243057,\n",
       " 'Jennifer Flackett': 100076342,\n",
       " 'Mark Levin': 100076342,\n",
       " 'Nima Nourizadeh': 100000000,\n",
       " 'Xavier Gens': 99965753,\n",
       " 'Rob Bowman': 99743548,\n",
       " 'Bille Woodruff': 98998113,\n",
       " 'Christophe Gans': 97607453,\n",
       " 'Fede Alvarez': 97542952,\n",
       " 'Danny Leiner': 97117631,\n",
       " 'Simon Curtis': 96677469,\n",
       " 'Craig Brewer': 96648810,\n",
       " 'Roger Spottiswoode': 96085477,\n",
       " 'Eric Bress': 96060858,\n",
       " 'J. Mackye Gruber': 96060858,\n",
       " 'Frank Darabont': 94413748,\n",
       " 'Frederik Du Chau': 93772522,\n",
       " 'Lawrence Guterman': 93375151,\n",
       " 'Susanna White': 93246388,\n",
       " 'Patrick Tatopoulos': 91327197,\n",
       " 'Jon Avnet': 90105450,\n",
       " 'Steve Antin': 89519773,\n",
       " 'Tom McCarthy': 88346473,\n",
       " 'Robert Altman': 87754044,\n",
       " 'Stuart Beattie': 87659528,\n",
       " 'Neil LaBute': 86804647,\n",
       " 'Christopher B. Landon': 86362372,\n",
       " 'Trish Sie': 86165646,\n",
       " 'Jake Schreier': 85512300,\n",
       " 'Jerry Zucker': 85498534,\n",
       " 'Lone Scherfig': 85486285,\n",
       " 'Ole Bornedal': 85446075,\n",
       " 'Richard Donner': 85145460,\n",
       " 'Hironobu Sakaguchi': 85131830,\n",
       " 'Motonori Sakakibara': 85131830,\n",
       " 'Paul Weiland': 84601681,\n",
       " 'Mennan Yapo': 84146832,\n",
       " 'Karyn Kusama': 83860062,\n",
       " 'Ted Demme': 83282296,\n",
       " 'Brad Anderson': 82702023,\n",
       " 'Jean-Marc VallÃ©e': 82608174,\n",
       " 'Fernando Meirelles': 82466670,\n",
       " 'Kimberly Peirce': 82394288,\n",
       " 'Bryan Bertino': 82391145,\n",
       " 'Aleksander Bach': 82347656,\n",
       " 'Peter Webber': 82169884,\n",
       " 'Pitof': 82102379,\n",
       " 'John Hillcoat': 81311885,\n",
       " 'Mike McCoy': 81272766,\n",
       " 'Jared Hess': 80197993,\n",
       " 'Spike Jonze': 80152424,\n",
       " 'Jeremy Garelick': 79799880,\n",
       " 'Sofia Coppola': 79620072,\n",
       " 'Roger Donaldson': 79478663,\n",
       " 'Charles Stone III': 79388787,\n",
       " 'R.J. Cutler': 78874843,\n",
       " 'Chad Stahelski': 78739897,\n",
       " 'David Leitch': 78739897,\n",
       " 'Gregory Plotkin': 78099553,\n",
       " 'Florent-Emilio Siri': 77944725,\n",
       " 'Brian De Palma': 77713525,\n",
       " 'Alan Poul': 77477008,\n",
       " 'Terry Zwigoff': 76488889,\n",
       " 'Don Michael Paul': 76432727,\n",
       " 'Nicolas Winding Refn': 76175166,\n",
       " 'Lawrence Kasdan': 75715436,\n",
       " 'Sylvain White': 75511123,\n",
       " 'Callan Brunker': 74597643,\n",
       " 'Jon Amiel': 74208267,\n",
       " 'Steve Shill': 73830340,\n",
       " 'Todd Haynes': 73301170,\n",
       " 'James Foley': 73090611,\n",
       " 'Steve Oedekerk': 72779000,\n",
       " 'Edgar Wright': 72702456,\n",
       " 'Mike Tollin': 71971376,\n",
       " 'Fred Wolf': 70442940,\n",
       " 'Mark Rosman': 70067909,\n",
       " 'Rajkumar Hirani': 70000000,\n",
       " \"Matthew O'Callaghan\": 69834815,\n",
       " 'Grant Heslov': 68729358,\n",
       " 'Joe Dante': 68514844,\n",
       " 'Peter Hedges': 68377859,\n",
       " 'Chris Carter': 68369434,\n",
       " 'Steve Beck': 68349884,\n",
       " 'Kevin Costner': 68296293,\n",
       " 'Fyodor Bondarchuk': 68129518,\n",
       " 'Christopher Spencer': 67800064,\n",
       " 'Stuart Baird': 67312826,\n",
       " 'Stephen Kay': 67192859,\n",
       " 'Colin Strause': 66821036,\n",
       " 'Greg Strause': 66821036,\n",
       " 'Ava DuVernay': 66787908,\n",
       " 'Drew Goddard': 66486080,\n",
       " 'Joel Gallen': 66468332,\n",
       " 'Kirsten Sheridan': 66122026,\n",
       " 'Angela Robinson': 66002004,\n",
       " 'Gina Prince-Bythewood': 65833513,\n",
       " \"Pat O'Connor\": 65754228,\n",
       " 'Ken Scott': 65595359,\n",
       " 'Chris Gorak': 64626786,\n",
       " \"Gavin O'Connor\": 64445708,\n",
       " 'Chris Nahon': 64437847,\n",
       " 'Jessie Nelson': 64270895,\n",
       " 'Juan Carlos Fresnadillo': 64238440,\n",
       " 'Michael McCullers': 63833449,\n",
       " 'John Carney': 63464861,\n",
       " 'Craig Gillespie': 63229864,\n",
       " 'Howard Deutch': 62776289,\n",
       " 'Stephen Hopkins': 62771059,\n",
       " 'Salim Akil': 62348079,\n",
       " 'John Crowley': 62076141,\n",
       " 'Mark Romanek': 61678538,\n",
       " 'Michael Dougherty': 61548707,\n",
       " 'Tamra Davis': 61141030,\n",
       " 'Michael Caton-Jones': 61063393,\n",
       " 'Eli Roth': 60657418,\n",
       " 'Patty Jenkins': 60378584,\n",
       " 'David M. Rosenthal': 60273173,\n",
       " 'Michael J. Bassett': 60112796,\n",
       " 'Robert De Niro': 59908565,\n",
       " 'Dustin Hoffman': 59520298,\n",
       " 'Mark Helfrich': 59192128,\n",
       " 'Joel Edgerton': 58978653,\n",
       " 'Scott Frank': 58548630,\n",
       " 'Kerry Conran': 57958696,\n",
       " 'John Schultz': 57881056,\n",
       " 'Gary McKendry': 57777106,\n",
       " 'Barbet Schroeder': 56714147,\n",
       " 'John Herzfeld': 56359980,\n",
       " 'David Moreau': 56309766,\n",
       " 'Xavier Palud': 56309766,\n",
       " 'Julie Taymor': 56298474,\n",
       " 'Sean Penn': 56255142,\n",
       " 'Mimi Leder': 55707411,\n",
       " 'Jim Fall': 55534455,\n",
       " 'Mark Pellington': 55157539,\n",
       " 'James Gray': 54926886,\n",
       " 'Theodore Melfi': 54837234,\n",
       " 'Jonathan Hensleigh': 54700105,\n",
       " 'Terrence Malick': 54674226,\n",
       " 'Shana Feste': 54607114,\n",
       " 'Michael Spierig': 54416464,\n",
       " 'Peter Spierig': 54416464,\n",
       " 'Harold Becker': 54249294,\n",
       " 'Sam Miller': 53830415,\n",
       " 'Denzel Washington': 53593730,\n",
       " 'Joshua Michael Stern': 53531410,\n",
       " 'Ciaran Foy': 52882018,\n",
       " 'Andrew Dominik': 52642258,\n",
       " 'Rian Johnson': 52572764,\n",
       " 'Martin McDonagh': 51424799,\n",
       " 'Cory Edwards': 51053787,\n",
       " 'Todd Edwards': 51053787,\n",
       " 'Tony Leech': 51053787,\n",
       " 'Trey Parker': 50907422,\n",
       " 'John Patrick Shanley': 50907234,\n",
       " 'Robert Stevenhagen': 50877145,\n",
       " 'Julian Jarrold': 50515963,\n",
       " 'Anthony Hemingway': 50365377,\n",
       " 'Josh Gordon': 49830607,\n",
       " 'Will Speck': 49830607,\n",
       " 'Jim Field Smith': 49779728,\n",
       " 'Christian Alvart': 49645327,\n",
       " 'Richard Eyre': 49469904,\n",
       " 'Doug Ellin': 49263404,\n",
       " 'Peter Landesman': 48623572,\n",
       " 'Shane Acker': 48428063,\n",
       " 'Scott Moore': 48065672,\n",
       " 'Jon Lucas': 48065672,\n",
       " 'Shari Springer Berman': 47738099,\n",
       " 'Robert Pulcini': 47738099,\n",
       " 'Clare Kilner': 47175038,\n",
       " 'Sean McNamara': 47088990,\n",
       " 'John Dahl': 46809340,\n",
       " 'George A. Romero': 46770602,\n",
       " 'Joseph Kahn': 46546197,\n",
       " 'Sanjay Gadhvi': 46396427,\n",
       " 'Asger Leth': 46221189,\n",
       " 'Rupert Wainwright': 46201432,\n",
       " 'Jim Jarmusch': 45742101,\n",
       " 'Jason Winer': 45735397,\n",
       " 'Daniel Barnz': 45525852,\n",
       " 'Michael Rymer': 45479110,\n",
       " 'Dave Green': 45300000,\n",
       " 'Dan Bradley': 44806783,\n",
       " 'Mike Flanagan': 44030246,\n",
       " 'Corey Yuen Kwai': 43928932,\n",
       " 'Mike Binder': 43793497,\n",
       " 'Ari Sandel': 43528634,\n",
       " 'Ric Roman Waugh': 42930462,\n",
       " 'John McTiernan': 42792561,\n",
       " 'Lee Toland Krieger': 42629776,\n",
       " 'Oxide Pang Chun': 42487390,\n",
       " 'Danny Pang': 42487390,\n",
       " 'Olatunde Osunsanmi': 42333295,\n",
       " 'Nanette Burstein': 42045846,\n",
       " 'Marco Schnabel': 41819064,\n",
       " 'Bruce A. Evans': 41637263,\n",
       " 'Jeff Wadlow': 41627431,\n",
       " 'Phil Joanou': 41480851,\n",
       " 'Nicholas Hytner': 41387687,\n",
       " 'Christian E. Christiansen': 40492759,\n",
       " 'Philip G. Atwell': 40452643,\n",
       " 'Beeban Kidron': 40203020,\n",
       " 'Phil Traill': 40105542,\n",
       " 'Lars von Trier': 40031879,\n",
       " 'Simon Wincer': 39438674,\n",
       " 'Anthony Bell': 39300000,\n",
       " 'Ben Gluck': 39300000,\n",
       " 'Troy Miller': 39267515,\n",
       " 'Alan Parker': 38955598,\n",
       " 'Jonathan Frakes': 38793283,\n",
       " 'Dan Gilroy': 38697217,\n",
       " 'Toby Wilkins': 38610009,\n",
       " 'Greg Coolidge': 38368909,\n",
       " 'Terry George': 38000000,\n",
       " 'Rod Lurie': 37967148,\n",
       " 'Rick Rosenthal': 37664855,\n",
       " \"Steve 'Spaz' Williams\": 37384046,\n",
       " 'Edward Norton': 37036004,\n",
       " 'Troy Nixey': 36993168,\n",
       " 'Julie Anne Robinson': 36893721,\n",
       " 'Alex Garland': 36869414,\n",
       " 'Oliver Hirschbiegel': 36837785,\n",
       " 'Don Bluth': 36754634,\n",
       " 'Gary Goldman': 36754634,\n",
       " 'Walter Hill': 36716538,\n",
       " 'Luis Mandoki': 36616869,\n",
       " 'Bonnie Hunt': 36609995,\n",
       " 'Matt Bettinelli-Olpin': 36433975,\n",
       " 'Tyler Gillett': 36433975,\n",
       " 'Mira Nair': 36262687,\n",
       " 'Tom Hanks': 36160375,\n",
       " 'Brandon Camp': 36133014,\n",
       " 'Diane Keaton': 36037909,\n",
       " 'Michael Hoffman': 35926213,\n",
       " 'Penny Marshall': 35743308,\n",
       " 'Derek Cianfrance': 35485608,\n",
       " 'Nicholas Jarecki': 35485056,\n",
       " 'Michael Cristofer': 35402320,\n",
       " 'Lenny Abrahamson': 35401758,\n",
       " 'Todd Strauss-Schulson': 35387212,\n",
       " 'Jean-FranÃ§ois Richet': 35294470,\n",
       " 'Des McAnuff': 35134820,\n",
       " 'Chris Noonan': 35078241,\n",
       " 'Feng Xiaogang': 34786960,\n",
       " 'Liz Friedlander': 34742066,\n",
       " 'Mary Harron': 34266564,\n",
       " 'Walter Salles': 34257411,\n",
       " 'Benny Chan': 33662874,\n",
       " 'Marcus Raboy': 33526835,\n",
       " 'Antony Hoffman': 33463969,\n",
       " 'Stephen Chbosky': 33400000,\n",
       " 'Richard Kelly': 33333531,\n",
       " 'Peter Hyams': 33043455,\n",
       " 'David Schwimmer': 33000000,\n",
       " 'Peter Sollett': 32973937,\n",
       " 'Dan Cutforth': 32726956,\n",
       " 'Jane Lipsitz': 32726956,\n",
       " 'Stewart Hendler': 32491317,\n",
       " 'Rusty Cundieff': 32438988,\n",
       " 'James Duffy': 32438988,\n",
       " 'Griffin Dunne': 32438988,\n",
       " 'Patrik Forsberg': 32438988,\n",
       " 'Will Graham': 32438988,\n",
       " 'Jonathan van Tulleken': 32438988,\n",
       " 'Philip Kaufman': 32255876,\n",
       " 'Dean Israelite': 32248241,\n",
       " 'Stephen St. Leger': 32204030,\n",
       " 'James Mather': 32204030,\n",
       " 'Billy Ray': 32189727,\n",
       " 'John Frankenheimer': 32168970,\n",
       " 'Ricky Gervais': 31912793,\n",
       " 'Matthew Robinson': 31912793,\n",
       " 'Harmony Korine': 31724284,\n",
       " 'Ethan Maniquis': 31327899,\n",
       " 'Christopher Erskin': 31179516,\n",
       " 'Dennie Gordon': 30987695,\n",
       " 'Akiva Goldsman': 30800231,\n",
       " 'Reginald Hudlin': 30630185,\n",
       " 'Douglas McGrath': 30551495,\n",
       " 'Mark Mylod': 30426096,\n",
       " 'Christian Duguay': 30199105,\n",
       " 'Nick Hamm': 30114487,\n",
       " 'Anthony Leondis': 30000000,\n",
       " 'Anand Tucker': 29922472,\n",
       " 'Jim Sonzero': 29907685,\n",
       " 'Harold Cronk': 29789000,\n",
       " 'Nick Hurran': 29420266,\n",
       " 'Sara Sugarman': 29331068,\n",
       " 'Neil Marshall': 29026215,\n",
       " 'Jonas Elmer': 29010817,\n",
       " 'Kevin Allen': 28818995,\n",
       " 'Ben Younger': 28780255,\n",
       " 'Rob Schmidt': 28650575,\n",
       " 'Bill Paxton': 28541625,\n",
       " 'Matthijs van Heijningen Jr.': 28128670,\n",
       " 'John Boorman': 28008462,\n",
       " 'Kevin Reynolds': 28000000,\n",
       " 'Guy Ferland': 27685016,\n",
       " 'Danny Cannon': 27610873,\n",
       " 'Don Scardino': 27437881,\n",
       " \"Tommy O'Haver\": 27388767,\n",
       " 'Justin Chadwick': 27330000,\n",
       " 'Anthony Silverston': 27187375,\n",
       " 'William Brent Bell': 27105095,\n",
       " 'Michael Davis': 26820641,\n",
       " 'Uwe Boll': 26666409,\n",
       " 'Bruce Beresford': 26268651,\n",
       " 'Tom Gormican': 26049082,\n",
       " 'Craig Mazin': 25871834,\n",
       " 'Courtney Solomon': 25687179,\n",
       " 'Gonzalo LÃ³pez-Gallego': 25562924,\n",
       " 'Robert Iscove': 25549538,\n",
       " 'Kevin Bray': 25482931,\n",
       " 'Dave Meyers': 25399945,\n",
       " 'Doug Lefler': 25303038,\n",
       " 'Niki Caro': 25224242,\n",
       " 'Jason Eisener': 25037897,\n",
       " 'Sidney Lumet': 25005257,\n",
       " 'Don Mancini': 24829644,\n",
       " 'Bruce Robinson': 24000000,\n",
       " 'Rob Pritts': 23978402,\n",
       " 'Joe Nussbaum': 23750075,\n",
       " 'Daniel Sackheim': 23619609,\n",
       " 'Gregory Poirier': 23430766,\n",
       " 'Elizabeth Allen Rosenbaum': 23006849,\n",
       " 'Rachid Bouchareb': 22963701,\n",
       " 'David E. Talbert': 22456509,\n",
       " 'FranÃ§ois Ozon': 22441323,\n",
       " 'Jonathan Teplitzky': 22309223,\n",
       " 'John Bonito': 22165608,\n",
       " 'Justin Zackham': 21819348,\n",
       " 'Wong Kar-wai': 21786738,\n",
       " 'Jeff Nichols': 21587700,\n",
       " 'Glen Morgan': 21510851,\n",
       " 'John Maybury': 21126225,\n",
       " 'Jeff Schaffer': 20796847,\n",
       " 'Mark Herman': 20416563,\n",
       " 'Ben Garant': 20342161,\n",
       " 'David Lynch': 20117339,\n",
       " 'Vic Armstrong': 19682924,\n",
       " 'John Michael McDonagh': 19560274,\n",
       " 'Gary Chapman': 19478106,\n",
       " 'Stephen T. Kay': 19412993,\n",
       " 'Giuseppe Tornatore': 19255873,\n",
       " 'Doug Atchison': 18948425,\n",
       " 'Michael Winterbottom': 18928871,\n",
       " 'William Malone': 18902015,\n",
       " 'Christopher Guest': 18750246,\n",
       " 'Demian Lichtenstein': 18720175,\n",
       " 'Dan St. Pierre': 18662027,\n",
       " 'Miguel Sapochnik': 18409891,\n",
       " 'Jocelyn Moorhouse': 18340000,\n",
       " 'Fred Savage': 18197398,\n",
       " 'J.C. Chandor': 18115790,\n",
       " 'Tony Bill': 17800000,\n",
       " 'Werner Herzog': 17766245,\n",
       " 'Marcel Langenegger': 17741298,\n",
       " 'Jon Kasdan': 17500000,\n",
       " 'Chris Koch': 17432163,\n",
       " 'Thomas Bezucha': 17425000,\n",
       " 'Richard Shepard': 17297244,\n",
       " 'Robert B. Weide': 17286299,\n",
       " 'Jesse Peretz': 17273593,\n",
       " 'Brian Koppelman': 17024782,\n",
       " 'David Levien': 17024782,\n",
       " 'Stephen Herek': 16991902,\n",
       " 'Mabrouk El Mechri': 16863583,\n",
       " 'Paul Abascal': 16605763,\n",
       " 'Benson Lee': 16549477,\n",
       " 'Amma Asante': 16505460,\n",
       " 'Susannah Grant': 16158487,\n",
       " 'Sarah Gavron': 16002420,\n",
       " 'James Isaac': 16000000,\n",
       " 'Douglas Aarniokoski': 15843608,\n",
       " 'Russell Crowe': 15520023,\n",
       " 'Ed Gass-Donnelly': 15179302,\n",
       " 'Bruce Hunt': 15007991,\n",
       " 'Jack Sholder': 14828081,\n",
       " 'Brendan Malloy': 14782676,\n",
       " 'Emmett Malloy': 14782676,\n",
       " 'Michael Dowse': 14775068,\n",
       " 'Joe Roth': 14655628,\n",
       " 'Stephen Anderson': 14460000,\n",
       " 'Joby Harold': 14373825,\n",
       " 'Ilya Naishuller': 14333790,\n",
       " 'John Carpenter': 14010832,\n",
       " 'GrÃ©gory Levasseur': 13865435,\n",
       " 'Les Mayfield': 13678913,\n",
       " 'Uli Edel': 13555988,\n",
       " 'Mike Disa': 13521829,\n",
       " 'Liam Lynch': 13405595,\n",
       " 'Charles Shyer': 13395939,\n",
       " 'Francine McDougall': 13276953,\n",
       " 'Brian Klugman': 13231461,\n",
       " 'Lee Sternthal': 13231461,\n",
       " 'Chris Rock': 13196245,\n",
       " 'E. Elias Merhige': 13000000,\n",
       " 'Ronald F. Maxwell': 12923936,\n",
       " 'Alex Kurtzman': 12434778,\n",
       " 'Tommy Lee Jones': 12036149,\n",
       " 'Asif Kapadia': 11992014,\n",
       " 'Paolo Sorrentino': 11790979,\n",
       " 'Josh Schwartz': 11417362,\n",
       " 'Max Joseph': 11122090,\n",
       " 'Mike Judge': 10848783,\n",
       " 'Troy Duffy': 10629321,\n",
       " 'Andrew Erwin': 10429707,\n",
       " 'Jon Erwin': 10429707,\n",
       " 'Daniel Barber': 10329747,\n",
       " 'DJ Pooh': 10229331,\n",
       " 'Lexi Alexander': 10089373,\n",
       " 'Christine Jeffs': 10000000,\n",
       " 'David Raynr': 9902115,\n",
       " 'Todd Lincoln ': 9627492,\n",
       " 'Dean Wright': 9622846,\n",
       " 'Chris Sivertson': 9620399,\n",
       " 'Amy Heckerling': 9576495,\n",
       " 'Wayne Kramer': 9500000,\n",
       " 'John Curran': 9479718,\n",
       " 'Steven Zaillian': 9450897,\n",
       " 'Ron Shelton': 9237470,\n",
       " 'Saul Dibb': 9104716,\n",
       " 'Peter Cattaneo': 8762890,\n",
       " 'Mort Nathan': 8586376,\n",
       " 'John Gulager': 8493728,\n",
       " 'Atom Egoyan': 8459458,\n",
       " 'Richard J. Lewis': 8454301,\n",
       " 'Steven Knight': 8352885,\n",
       " 'David Mamet': 8112712,\n",
       " 'Juan Diego Solanas': 8106475,\n",
       " 'Michael Haneke': 7938872,\n",
       " 'Noah Baumbach': 7587485,\n",
       " 'Ernest R. Dickerson': 7316658,\n",
       " 'Martin Brest': 7266209,\n",
       " 'Ron Underwood': 7103973,\n",
       " 'Howard McCain': 7033683,\n",
       " 'Derrick Borte': 7022728,\n",
       " 'Kasi Lemmons': 7018189,\n",
       " 'George Armitage': 6808550,\n",
       " 'Tony Goldwyn': 6732980,\n",
       " 'Alejandro Monteverde': 6420319,\n",
       " 'Jim Gillespie': 6416302,\n",
       " 'Dewey Nicks': 6413915,\n",
       " 'Jorma Taccone': 6110000,\n",
       " 'Rodrigo GarcÃ\\xada': 5634828,\n",
       " 'Scott Walker': 5496951,\n",
       " 'David Leland': 5410749,\n",
       " 'Jonathan Glazer': 5380251,\n",
       " 'Kurt Wimmer': 5359645,\n",
       " 'Mary Lambert': 5217498,\n",
       " 'Todd Graff': 5210988,\n",
       " 'Davis Guggenheim': 5108820,\n",
       " 'Vipul Amrutlal Shah': 5000000,\n",
       " 'William Monahan': 4644108,\n",
       " 'David Barrett': 4636169,\n",
       " 'Paul Johansson': 4627375,\n",
       " 'Jane Campion': 4440055,\n",
       " 'Mark Duplass': 4417580,\n",
       " 'Jay Duplass': 4417580,\n",
       " 'John Landis': 4349187,\n",
       " 'Joe Cornish': 3964682,\n",
       " 'William Dear': 3878993,\n",
       " 'Peter Bogdanovich': 3646994,\n",
       " 'Dito Montiel': 3639345,\n",
       " 'Jaco Van Dormael': 3547209,\n",
       " 'RyÃ»hei Kitamura': 3533227,\n",
       " 'Rob Thomas': 3485127,\n",
       " 'Don McKellar': 3430018,\n",
       " 'Henry Alex Rubin': 3428048,\n",
       " 'Floria Sigismondi': 2995811,\n",
       " 'Susanne Bier': 2849142,\n",
       " 'Liev Schreiber': 2697930,\n",
       " 'Roland JoffÃ©': 2626800,\n",
       " 'Dan Rush': 2614773,\n",
       " 'David Mackenzie': 2500000,\n",
       " 'James Cox': 2466444,\n",
       " 'Michael Cuesta': 2450846,\n",
       " 'Guillaume Canet': 2415472,\n",
       " 'Zal Batmanglij': 2401510,\n",
       " 'Adam Wingard': 2367161,\n",
       " 'David MichÃ´d': 2295423,\n",
       " 'Steven Shainberg': 2281089,\n",
       " 'Paul Schrader': 2062066,\n",
       " 'Keanu Reeves': 2054941,\n",
       " 'Simon Hunter': 2033165}"
      ]
     },
     "execution_count": 46,
     "metadata": {},
     "output_type": "execute_result"
    }
   ],
   "source": [
    "# ВАРИАНТ 2\n",
    "\n",
    "# Создадим список уникальных значений столбца 'director'\n",
    "\n",
    "dirs = np.unique(data.director.str.split('|')).sum()\n",
    "\n",
    "# Словарь в который будем добавлять сумму сборов по режиссеру\n",
    "revenues = {}\n",
    "\n",
    "# Пройдемся по списку режиссеров, суммируя соотвествующую выручку в исходном датафреймем\n",
    "for person in dirs:\n",
    "    revenues[person] = data[data.director.str.contains(person)].revenue.sum()\n",
    "\n",
    "# Отсортируем получившийся словарь\n",
    "dict(sorted(revenues.items(), key=lambda x: x[1],  reverse=True))"
   ]
  },
  {
   "cell_type": "code",
   "execution_count": 47,
   "metadata": {},
   "outputs": [
    {
     "data": {
      "text/plain": [
       "Text(0, 0.5, 'Revenue')"
      ]
     },
     "execution_count": 47,
     "metadata": {},
     "output_type": "execute_result"
    },
    {
     "data": {
      "image/png": "[encoded data removed]",
      "text/plain": [
       "<Figure size 432x288 with 1 Axes>"
      ]
     },
     "metadata": {
      "needs_background": "light"
     },
     "output_type": "display_data"
    }
   ],
   "source": [
    "# Визуализация\n",
    "data_plot = allmovies.explode('director').groupby('director').revenue.sum().sort_values(ascending=False)[:10].copy()\n",
    "plot = data_plot.plot(kind='bar')\n",
    "plot.set_title('TOP 10 directors by Revenue')\n",
    "plot.set_xlabel('Director')\n",
    "plot.set_ylabel('Revenue')"
   ]
  },
  {
   "cell_type": "markdown",
   "metadata": {
    "colab_type": "text",
    "id": "PsYC9FgRVp_a"
   },
   "source": [
    "# 14. Какой режисер снял больше всего фильмов в стиле Action?"
   ]
  },
  {
   "cell_type": "code",
   "execution_count": 48,
   "metadata": {},
   "outputs": [],
   "source": [
    "answers['14'] = '3. Robert Rodriguez'"
   ]
  },
  {
   "cell_type": "code",
   "execution_count": 49,
   "metadata": {
    "colab": {},
    "colab_type": "code",
    "id": "wd2M-wHeVp_b"
   },
   "outputs": [
    {
     "data": {
      "text/plain": [
       "Robert Rodriguez      9\n",
       "Michael Bay           7\n",
       "Paul W.S. Anderson    7\n",
       "Ridley Scott          6\n",
       "Antoine Fuqua         6\n",
       "                     ..\n",
       "Dean DeBlois          1\n",
       "Tony Bill             1\n",
       "Joe Cornish           1\n",
       "Alfonso CuarÃ³n       1\n",
       "Robert Stromberg      1\n",
       "Name: director, Length: 364, dtype: int64"
      ]
     },
     "execution_count": 49,
     "metadata": {},
     "output_type": "execute_result"
    }
   ],
   "source": [
    "# Соберем отдельно кино в жанре Action\n",
    "action_movies = data[data.genres.str.contains('Action')].copy()\n",
    "\n",
    "# Разобъем множественные записи в столбце 'director' и применим метод explode для корректного подсчета\n",
    "action_movies.director = action_movies.director.str.split('|')\n",
    "action_movies.explode('director').director.value_counts()"
   ]
  },
  {
   "cell_type": "code",
   "execution_count": 50,
   "metadata": {},
   "outputs": [
    {
     "data": {
      "text/plain": [
       "Text(0, 0.5, 'Movies')"
      ]
     },
     "execution_count": 50,
     "metadata": {},
     "output_type": "execute_result"
    },
    {
     "data": {
      "image/png": "[encoded data removed]",
      "text/plain": [
       "<Figure size 432x288 with 1 Axes>"
      ]
     },
     "metadata": {
      "needs_background": "light"
     },
     "output_type": "display_data"
    }
   ],
   "source": [
    "# Визуализация\n",
    "data_plot = action_movies.explode('director').director.value_counts()[:10].copy()\n",
    "plot = data_plot.plot(kind='bar')\n",
    "plot.set_title('TOP 10 Action movies directors ')\n",
    "plot.set_xlabel('Director')\n",
    "plot.set_ylabel('Movies')"
   ]
  },
  {
   "cell_type": "markdown",
   "metadata": {
    "colab_type": "text",
    "id": "PQ0KciD7Vp_f"
   },
   "source": [
    "# 15. Фильмы с каким актером принесли самые высокие кассовые сборы в 2012 году? "
   ]
  },
  {
   "cell_type": "code",
   "execution_count": 51,
   "metadata": {},
   "outputs": [],
   "source": [
    "answers['15'] = '3. Chris Hemsworth'"
   ]
  },
  {
   "cell_type": "code",
   "execution_count": 52,
   "metadata": {
    "colab": {},
    "colab_type": "code",
    "id": "aga62oeKVp_g"
   },
   "outputs": [
    {
     "data": {
      "text/plain": [
       "cast\n",
       "Chris Hemsworth    2027450773\n",
       "Name: revenue, dtype: int64"
      ]
     },
     "execution_count": 52,
     "metadata": {},
     "output_type": "execute_result"
    }
   ],
   "source": [
    "# Соберем отдельно кинофильмы вышедшие в 2012 году\n",
    "movies_2012 = data[data.release_year == 2012].copy()\n",
    "\n",
    "# Разобъем записи с актерским составом, применим метод explode и сгруппируем по актерам для подсчета выручки\n",
    "movies_2012.cast = movies_2012.cast.str.split('|')\n",
    "movies_2012.explode('cast').groupby('cast').revenue.sum().sort_values(ascending=False)[:1]"
   ]
  },
  {
   "cell_type": "code",
   "execution_count": 53,
   "metadata": {},
   "outputs": [
    {
     "data": {
      "text/plain": [
       "Text(0, 0.5, 'Revenue')"
      ]
     },
     "execution_count": 53,
     "metadata": {},
     "output_type": "execute_result"
    },
    {
     "data": {
      "image/png": "[encoded data removed]",
      "text/plain": [
       "<Figure size 432x288 with 1 Axes>"
      ]
     },
     "metadata": {
      "needs_background": "light"
     },
     "output_type": "display_data"
    }
   ],
   "source": [
    "# Визуализация\n",
    "data_plot = movies_2012.explode('cast').groupby('cast').revenue.sum().sort_values(ascending=False)[:10].copy()\n",
    "plot = data_plot.plot(kind='bar')\n",
    "plot.set_title('TOP 10 2012 Revenue by Actor')\n",
    "plot.set_xlabel('Actor')\n",
    "plot.set_ylabel('Revenue')"
   ]
  },
  {
   "cell_type": "markdown",
   "metadata": {
    "colab_type": "text",
    "id": "mWHyyL7QVp_j"
   },
   "source": [
    "# 16. Какой актер снялся в большем количестве высокобюджетных фильмов?"
   ]
  },
  {
   "cell_type": "code",
   "execution_count": 54,
   "metadata": {},
   "outputs": [],
   "source": [
    "answers['16'] = '3. Matt Damon'"
   ]
  },
  {
   "cell_type": "code",
   "execution_count": 55,
   "metadata": {
    "colab": {},
    "colab_type": "code",
    "id": "qQtmHKTFVp_k"
   },
   "outputs": [
    {
     "data": {
      "text/plain": [
       "Matt Damon    18\n",
       "Name: cast, dtype: int64"
      ]
     },
     "execution_count": 55,
     "metadata": {},
     "output_type": "execute_result"
    }
   ],
   "source": [
    "# высокобюджетный фильм = бюджет больше среднего по датафрейму\n",
    "high_budget_movies = data[data.budget > data.budget.mean()].copy()\n",
    "\n",
    "high_budget_movies.cast = high_budget_movies.cast.str.split('|')\n",
    "high_budget_movies.explode('cast').cast.value_counts()[:1]"
   ]
  },
  {
   "cell_type": "code",
   "execution_count": 56,
   "metadata": {},
   "outputs": [
    {
     "data": {
      "text/plain": [
       "Text(0, 0.5, 'Number of movies')"
      ]
     },
     "execution_count": 56,
     "metadata": {},
     "output_type": "execute_result"
    },
    {
     "data": {
      "image/png": "[encoded data removed]",
      "text/plain": [
       "<Figure size 432x288 with 1 Axes>"
      ]
     },
     "metadata": {
      "needs_background": "light"
     },
     "output_type": "display_data"
    }
   ],
   "source": [
    "# Визуализация\n",
    "data_plot = high_budget_movies.explode('cast').cast.value_counts()[:10].copy()\n",
    "plot = data_plot.plot(kind='bar')\n",
    "plot.set_title('TOP 10 Actors in Hi-Budget movies')\n",
    "plot.set_xlabel('Actor')\n",
    "plot.set_ylabel('Number of movies')"
   ]
  },
  {
   "cell_type": "markdown",
   "metadata": {
    "colab_type": "text",
    "id": "NIh6AaW5Vp_n"
   },
   "source": [
    "# 17. В фильмах какого жанра больше всего снимался Nicolas Cage? "
   ]
  },
  {
   "cell_type": "code",
   "execution_count": 57,
   "metadata": {},
   "outputs": [],
   "source": [
    "answers['17'] = '2. Action'"
   ]
  },
  {
   "cell_type": "code",
   "execution_count": 58,
   "metadata": {
    "colab": {},
    "colab_type": "code",
    "id": "H74SJDIBVp_n"
   },
   "outputs": [
    {
     "data": {
      "text/plain": [
       "Action             17\n",
       "Thriller           15\n",
       "Drama              12\n",
       "Crime              10\n",
       "Fantasy             8\n",
       "Adventure           7\n",
       "Comedy              6\n",
       "Science Fiction     4\n",
       "Family              3\n",
       "Mystery             3\n",
       "Animation           3\n",
       "History             2\n",
       "War                 1\n",
       "Romance             1\n",
       "Horror              1\n",
       "Name: genres, dtype: int64"
      ]
     },
     "execution_count": 58,
     "metadata": {},
     "output_type": "execute_result"
    }
   ],
   "source": [
    "cage_movies = data[data.cast.str.contains('Nicolas Cage')].copy()\n",
    "\n",
    "cage_movies.genres = cage_movies.genres.str.split('|')\n",
    "cage_movies.explode('genres').genres.value_counts()"
   ]
  },
  {
   "cell_type": "code",
   "execution_count": 59,
   "metadata": {},
   "outputs": [
    {
     "data": {
      "text/plain": [
       "Text(0, 0.5, '')"
      ]
     },
     "execution_count": 59,
     "metadata": {},
     "output_type": "execute_result"
    },
    {
     "data": {
      "image/png": "[encoded data removed]",
      "text/plain": [
       "<Figure size 432x288 with 1 Axes>"
      ]
     },
     "metadata": {},
     "output_type": "display_data"
    }
   ],
   "source": [
    "# Визуализация\n",
    "plot = cage_movies.explode('genres').genres.value_counts()[:10].plot(kind='pie', autopct='%.1f')\n",
    "plot.set_title('Nicolas Cage TOP 10 Genres by %')\n",
    "plot.set_xlabel('')\n",
    "plot.set_ylabel('')"
   ]
  },
  {
   "cell_type": "markdown",
   "metadata": {
    "colab_type": "text",
    "id": "RqOmPRfWVp_q"
   },
   "source": [
    "# 18. Самый убыточный фильм от Paramount Pictures"
   ]
  },
  {
   "cell_type": "code",
   "execution_count": 60,
   "metadata": {},
   "outputs": [],
   "source": [
    "answers['18'] = '1. K-19: The Widowmaker (tt0267626)'"
   ]
  },
  {
   "cell_type": "code",
   "execution_count": 61,
   "metadata": {
    "colab": {},
    "colab_type": "code",
    "id": "9E_B0Y96Vp_r",
    "scrolled": true
   },
   "outputs": [
    {
     "data": {
      "text/html": [
       "<div>\n",
       "<style scoped>\n",
       "    .dataframe tbody tr th:only-of-type {\n",
       "        vertical-align: middle;\n",
       "    }\n",
       "\n",
       "    .dataframe tbody tr th {\n",
       "        vertical-align: top;\n",
       "    }\n",
       "\n",
       "    .dataframe thead th {\n",
       "        text-align: right;\n",
       "    }\n",
       "</style>\n",
       "<table border=\"1\" class=\"dataframe\">\n",
       "  <thead>\n",
       "    <tr style=\"text-align: right;\">\n",
       "      <th></th>\n",
       "      <th>imdb_id</th>\n",
       "      <th>budget</th>\n",
       "      <th>revenue</th>\n",
       "      <th>profit</th>\n",
       "      <th>original_title</th>\n",
       "      <th>cast</th>\n",
       "      <th>director</th>\n",
       "      <th>tagline</th>\n",
       "      <th>overview</th>\n",
       "      <th>runtime</th>\n",
       "      <th>genres</th>\n",
       "      <th>production_companies</th>\n",
       "      <th>release_date</th>\n",
       "      <th>vote_average</th>\n",
       "      <th>release_year</th>\n",
       "      <th>release_month</th>\n",
       "    </tr>\n",
       "  </thead>\n",
       "  <tbody>\n",
       "    <tr>\n",
       "      <th>925</th>\n",
       "      <td>tt0267626</td>\n",
       "      <td>100000000</td>\n",
       "      <td>35168966</td>\n",
       "      <td>-64831034</td>\n",
       "      <td>K-19: The Widowmaker</td>\n",
       "      <td>Harrison Ford|Liam Neeson|Peter Sarsgaard|Joss...</td>\n",
       "      <td>Kathryn Bigelow</td>\n",
       "      <td>Fate has found its hero.</td>\n",
       "      <td>When Russia's first nuclear submarine malfunct...</td>\n",
       "      <td>138</td>\n",
       "      <td>Thriller|Drama|History</td>\n",
       "      <td>Paramount Pictures|Intermedia Films|National G...</td>\n",
       "      <td>2002-07-19</td>\n",
       "      <td>6.0</td>\n",
       "      <td>2002</td>\n",
       "      <td>7</td>\n",
       "    </tr>\n",
       "  </tbody>\n",
       "</table>\n",
       "</div>"
      ],
      "text/plain": [
       "       imdb_id     budget   revenue    profit        original_title  \\\n",
       "925  tt0267626  100000000  35168966 -64831034  K-19: The Widowmaker   \n",
       "\n",
       "                                                  cast         director  \\\n",
       "925  Harrison Ford|Liam Neeson|Peter Sarsgaard|Joss...  Kathryn Bigelow   \n",
       "\n",
       "                      tagline  \\\n",
       "925  Fate has found its hero.   \n",
       "\n",
       "                                              overview  runtime  \\\n",
       "925  When Russia's first nuclear submarine malfunct...      138   \n",
       "\n",
       "                     genres  \\\n",
       "925  Thriller|Drama|History   \n",
       "\n",
       "                                  production_companies release_date  \\\n",
       "925  Paramount Pictures|Intermedia Films|National G...   2002-07-19   \n",
       "\n",
       "     vote_average  release_year  release_month  \n",
       "925           6.0          2002              7  "
      ]
     },
     "execution_count": 61,
     "metadata": {},
     "output_type": "execute_result"
    }
   ],
   "source": [
    "# ВАРИАНТ 1\n",
    "Paramount_movies = data[data.production_companies.str.contains('Paramount')].copy()\n",
    "Paramount_movies[Paramount_movies.profit == Paramount_movies.profit.min()]"
   ]
  },
  {
   "cell_type": "code",
   "execution_count": 62,
   "metadata": {},
   "outputs": [
    {
     "data": {
      "text/html": [
       "<div>\n",
       "<style scoped>\n",
       "    .dataframe tbody tr th:only-of-type {\n",
       "        vertical-align: middle;\n",
       "    }\n",
       "\n",
       "    .dataframe tbody tr th {\n",
       "        vertical-align: top;\n",
       "    }\n",
       "\n",
       "    .dataframe thead th {\n",
       "        text-align: right;\n",
       "    }\n",
       "</style>\n",
       "<table border=\"1\" class=\"dataframe\">\n",
       "  <thead>\n",
       "    <tr style=\"text-align: right;\">\n",
       "      <th></th>\n",
       "      <th>profit</th>\n",
       "    </tr>\n",
       "    <tr>\n",
       "      <th>original_title</th>\n",
       "      <th></th>\n",
       "    </tr>\n",
       "  </thead>\n",
       "  <tbody>\n",
       "    <tr>\n",
       "      <th>K-19: The Widowmaker</th>\n",
       "      <td>-64831034</td>\n",
       "    </tr>\n",
       "    <tr>\n",
       "      <th>Timeline</th>\n",
       "      <td>-60519261</td>\n",
       "    </tr>\n",
       "    <tr>\n",
       "      <th>Next</th>\n",
       "      <td>-51788987</td>\n",
       "    </tr>\n",
       "    <tr>\n",
       "      <th>Alfie</th>\n",
       "      <td>-46604061</td>\n",
       "    </tr>\n",
       "    <tr>\n",
       "      <th>Twisted</th>\n",
       "      <td>-24805000</td>\n",
       "    </tr>\n",
       "  </tbody>\n",
       "</table>\n",
       "</div>"
      ],
      "text/plain": [
       "                        profit\n",
       "original_title                \n",
       "K-19: The Widowmaker -64831034\n",
       "Timeline             -60519261\n",
       "Next                 -51788987\n",
       "Alfie                -46604061\n",
       "Twisted              -24805000"
      ]
     },
     "execution_count": 62,
     "metadata": {},
     "output_type": "execute_result"
    }
   ],
   "source": [
    "# ВАРИАНТ 2\n",
    "data[data.production_companies.str.contains('Paramount')].pivot_table(\n",
    "    values='profit', index='original_title', aggfunc='sum').sort_values(by='profit').head()"
   ]
  },
  {
   "cell_type": "markdown",
   "metadata": {
    "colab_type": "text",
    "id": "vS8Ur6ddVp_u"
   },
   "source": [
    "# 19. Какой год стал самым успешным по суммарным кассовым сборам?"
   ]
  },
  {
   "cell_type": "code",
   "execution_count": 63,
   "metadata": {},
   "outputs": [],
   "source": [
    "answers['19'] = '5. 2015'"
   ]
  },
  {
   "cell_type": "code",
   "execution_count": 64,
   "metadata": {
    "colab": {},
    "colab_type": "code",
    "id": "Dnbt4GdIVp_v"
   },
   "outputs": [
    {
     "data": {
      "text/plain": [
       "release_year\n",
       "2015    25449202382\n",
       "2014    23405862953\n",
       "2013    23213799791\n",
       "2012    23079001687\n",
       "2011    22676791872\n",
       "2010    21071204961\n",
       "2009    20261791024\n",
       "2008    18252781990\n",
       "2007    18162406801\n",
       "2004    15663430720\n",
       "2005    15309425558\n",
       "2006    14775042320\n",
       "2003    14346123312\n",
       "2002    14136361487\n",
       "2001    13017764865\n",
       "2000    10664099805\n",
       "Name: revenue, dtype: int64"
      ]
     },
     "execution_count": 64,
     "metadata": {},
     "output_type": "execute_result"
    }
   ],
   "source": [
    "# Вариант 1\n",
    "data.groupby('release_year').revenue.sum().sort_values(ascending=False)"
   ]
  },
  {
   "cell_type": "code",
   "execution_count": 65,
   "metadata": {
    "scrolled": true
   },
   "outputs": [
    {
     "data": {
      "text/html": [
       "<div>\n",
       "<style scoped>\n",
       "    .dataframe tbody tr th:only-of-type {\n",
       "        vertical-align: middle;\n",
       "    }\n",
       "\n",
       "    .dataframe tbody tr th {\n",
       "        vertical-align: top;\n",
       "    }\n",
       "\n",
       "    .dataframe thead th {\n",
       "        text-align: right;\n",
       "    }\n",
       "</style>\n",
       "<table border=\"1\" class=\"dataframe\">\n",
       "  <thead>\n",
       "    <tr style=\"text-align: right;\">\n",
       "      <th></th>\n",
       "      <th>revenue</th>\n",
       "    </tr>\n",
       "    <tr>\n",
       "      <th>release_year</th>\n",
       "      <th></th>\n",
       "    </tr>\n",
       "  </thead>\n",
       "  <tbody>\n",
       "    <tr>\n",
       "      <th>2015</th>\n",
       "      <td>25449202382</td>\n",
       "    </tr>\n",
       "    <tr>\n",
       "      <th>2014</th>\n",
       "      <td>23405862953</td>\n",
       "    </tr>\n",
       "    <tr>\n",
       "      <th>2013</th>\n",
       "      <td>23213799791</td>\n",
       "    </tr>\n",
       "    <tr>\n",
       "      <th>2012</th>\n",
       "      <td>23079001687</td>\n",
       "    </tr>\n",
       "    <tr>\n",
       "      <th>2011</th>\n",
       "      <td>22676791872</td>\n",
       "    </tr>\n",
       "    <tr>\n",
       "      <th>2010</th>\n",
       "      <td>21071204961</td>\n",
       "    </tr>\n",
       "    <tr>\n",
       "      <th>2009</th>\n",
       "      <td>20261791024</td>\n",
       "    </tr>\n",
       "    <tr>\n",
       "      <th>2008</th>\n",
       "      <td>18252781990</td>\n",
       "    </tr>\n",
       "    <tr>\n",
       "      <th>2007</th>\n",
       "      <td>18162406801</td>\n",
       "    </tr>\n",
       "    <tr>\n",
       "      <th>2004</th>\n",
       "      <td>15663430720</td>\n",
       "    </tr>\n",
       "    <tr>\n",
       "      <th>2005</th>\n",
       "      <td>15309425558</td>\n",
       "    </tr>\n",
       "    <tr>\n",
       "      <th>2006</th>\n",
       "      <td>14775042320</td>\n",
       "    </tr>\n",
       "    <tr>\n",
       "      <th>2003</th>\n",
       "      <td>14346123312</td>\n",
       "    </tr>\n",
       "    <tr>\n",
       "      <th>2002</th>\n",
       "      <td>14136361487</td>\n",
       "    </tr>\n",
       "    <tr>\n",
       "      <th>2001</th>\n",
       "      <td>13017764865</td>\n",
       "    </tr>\n",
       "    <tr>\n",
       "      <th>2000</th>\n",
       "      <td>10664099805</td>\n",
       "    </tr>\n",
       "  </tbody>\n",
       "</table>\n",
       "</div>"
      ],
      "text/plain": [
       "                  revenue\n",
       "release_year             \n",
       "2015          25449202382\n",
       "2014          23405862953\n",
       "2013          23213799791\n",
       "2012          23079001687\n",
       "2011          22676791872\n",
       "2010          21071204961\n",
       "2009          20261791024\n",
       "2008          18252781990\n",
       "2007          18162406801\n",
       "2004          15663430720\n",
       "2005          15309425558\n",
       "2006          14775042320\n",
       "2003          14346123312\n",
       "2002          14136361487\n",
       "2001          13017764865\n",
       "2000          10664099805"
      ]
     },
     "execution_count": 65,
     "metadata": {},
     "output_type": "execute_result"
    }
   ],
   "source": [
    "# Вариант 2\n",
    "data.pivot_table(values='revenue', index='release_year', aggfunc='sum').sort_values(by='revenue', ascending=False)"
   ]
  },
  {
   "cell_type": "code",
   "execution_count": 66,
   "metadata": {},
   "outputs": [
    {
     "data": {
      "text/plain": [
       "Text(0, 0.5, 'Revenue')"
      ]
     },
     "execution_count": 66,
     "metadata": {},
     "output_type": "execute_result"
    },
    {
     "data": {
      "image/png": "[encoded data removed]",
      "text/plain": [
       "<Figure size 432x288 with 1 Axes>"
      ]
     },
     "metadata": {
      "needs_background": "light"
     },
     "output_type": "display_data"
    }
   ],
   "source": [
    "# Визуализация\n",
    "data_plot = data.pivot_table(values='revenue', index='release_year', aggfunc='sum').copy()\n",
    "plot = data_plot.plot(kind='bar')\n",
    "plot.set_title('Revenue by years')\n",
    "plot.set_xlabel('Year')\n",
    "plot.set_ylabel('Revenue')"
   ]
  },
  {
   "cell_type": "markdown",
   "metadata": {
    "colab_type": "text",
    "id": "JAzJh4QAVp_z"
   },
   "source": [
    "# 20. Какой самый прибыльный год для студии Warner Bros?"
   ]
  },
  {
   "cell_type": "code",
   "execution_count": 67,
   "metadata": {},
   "outputs": [],
   "source": [
    "answers['20'] = '1. 2014'"
   ]
  },
  {
   "cell_type": "code",
   "execution_count": 68,
   "metadata": {
    "colab": {},
    "colab_type": "code",
    "id": "wgVu02DEVp_0",
    "scrolled": true
   },
   "outputs": [
    {
     "data": {
      "text/html": [
       "<div>\n",
       "<style scoped>\n",
       "    .dataframe tbody tr th:only-of-type {\n",
       "        vertical-align: middle;\n",
       "    }\n",
       "\n",
       "    .dataframe tbody tr th {\n",
       "        vertical-align: top;\n",
       "    }\n",
       "\n",
       "    .dataframe thead th {\n",
       "        text-align: right;\n",
       "    }\n",
       "</style>\n",
       "<table border=\"1\" class=\"dataframe\">\n",
       "  <thead>\n",
       "    <tr style=\"text-align: right;\">\n",
       "      <th></th>\n",
       "      <th>revenue</th>\n",
       "    </tr>\n",
       "    <tr>\n",
       "      <th>release_year</th>\n",
       "      <th></th>\n",
       "    </tr>\n",
       "  </thead>\n",
       "  <tbody>\n",
       "    <tr>\n",
       "      <th>2014</th>\n",
       "      <td>3243064519</td>\n",
       "    </tr>\n",
       "    <tr>\n",
       "      <th>2007</th>\n",
       "      <td>3183675217</td>\n",
       "    </tr>\n",
       "    <tr>\n",
       "      <th>2008</th>\n",
       "      <td>3050595031</td>\n",
       "    </tr>\n",
       "    <tr>\n",
       "      <th>2010</th>\n",
       "      <td>3008712985</td>\n",
       "    </tr>\n",
       "    <tr>\n",
       "      <th>2011</th>\n",
       "      <td>2845393682</td>\n",
       "    </tr>\n",
       "    <tr>\n",
       "      <th>2003</th>\n",
       "      <td>2745493377</td>\n",
       "    </tr>\n",
       "    <tr>\n",
       "      <th>2009</th>\n",
       "      <td>2737954136</td>\n",
       "    </tr>\n",
       "    <tr>\n",
       "      <th>2004</th>\n",
       "      <td>2731933725</td>\n",
       "    </tr>\n",
       "    <tr>\n",
       "      <th>2013</th>\n",
       "      <td>2599953400</td>\n",
       "    </tr>\n",
       "    <tr>\n",
       "      <th>2005</th>\n",
       "      <td>2412980298</td>\n",
       "    </tr>\n",
       "    <tr>\n",
       "      <th>2001</th>\n",
       "      <td>2266545668</td>\n",
       "    </tr>\n",
       "    <tr>\n",
       "      <th>2012</th>\n",
       "      <td>1869520056</td>\n",
       "    </tr>\n",
       "    <tr>\n",
       "      <th>2002</th>\n",
       "      <td>1702709901</td>\n",
       "    </tr>\n",
       "    <tr>\n",
       "      <th>2015</th>\n",
       "      <td>1691168351</td>\n",
       "    </tr>\n",
       "    <tr>\n",
       "      <th>2006</th>\n",
       "      <td>1521170743</td>\n",
       "    </tr>\n",
       "    <tr>\n",
       "      <th>2000</th>\n",
       "      <td>1025531386</td>\n",
       "    </tr>\n",
       "  </tbody>\n",
       "</table>\n",
       "</div>"
      ],
      "text/plain": [
       "                 revenue\n",
       "release_year            \n",
       "2014          3243064519\n",
       "2007          3183675217\n",
       "2008          3050595031\n",
       "2010          3008712985\n",
       "2011          2845393682\n",
       "2003          2745493377\n",
       "2009          2737954136\n",
       "2004          2731933725\n",
       "2013          2599953400\n",
       "2005          2412980298\n",
       "2001          2266545668\n",
       "2012          1869520056\n",
       "2002          1702709901\n",
       "2015          1691168351\n",
       "2006          1521170743\n",
       "2000          1025531386"
      ]
     },
     "execution_count": 68,
     "metadata": {},
     "output_type": "execute_result"
    }
   ],
   "source": [
    "data[data.production_companies.str.contains('Warner Bros')].pivot_table(\n",
    "    values='revenue', index='release_year', aggfunc='sum').sort_values(by='revenue', ascending=False)"
   ]
  },
  {
   "cell_type": "code",
   "execution_count": 69,
   "metadata": {},
   "outputs": [
    {
     "data": {
      "text/plain": [
       "Text(0, 0.5, 'Revenue')"
      ]
     },
     "execution_count": 69,
     "metadata": {},
     "output_type": "execute_result"
    },
    {
     "data": {
      "image/png": "[encoded data removed]",
      "text/plain": [
       "<Figure size 432x288 with 1 Axes>"
      ]
     },
     "metadata": {
      "needs_background": "light"
     },
     "output_type": "display_data"
    }
   ],
   "source": [
    "# Визуализация\n",
    "data_plot = data[data.production_companies.str.contains('Warner Bros')].pivot_table(\n",
    "    values='revenue', index='release_year', aggfunc='sum').copy()\n",
    "plot = data_plot.plot(kind='bar')\n",
    "plot.set_title('Warner Bros. Studio Revenue by year')\n",
    "plot.set_xlabel('Year')\n",
    "plot.set_ylabel('Revenue')"
   ]
  },
  {
   "cell_type": "markdown",
   "metadata": {
    "colab_type": "text",
    "id": "8Im1S2HRVp_4"
   },
   "source": [
    "# 21. В каком месяце за все годы суммарно вышло больше всего фильмов?"
   ]
  },
  {
   "cell_type": "code",
   "execution_count": 70,
   "metadata": {},
   "outputs": [],
   "source": [
    "answers['21'] = '4. Сентябрь'"
   ]
  },
  {
   "cell_type": "code",
   "execution_count": 71,
   "metadata": {
    "colab": {},
    "colab_type": "code",
    "id": "lev6TH7gVp_4",
    "scrolled": true
   },
   "outputs": [
    {
     "data": {
      "text/html": [
       "<div>\n",
       "<style scoped>\n",
       "    .dataframe tbody tr th:only-of-type {\n",
       "        vertical-align: middle;\n",
       "    }\n",
       "\n",
       "    .dataframe tbody tr th {\n",
       "        vertical-align: top;\n",
       "    }\n",
       "\n",
       "    .dataframe thead th {\n",
       "        text-align: right;\n",
       "    }\n",
       "</style>\n",
       "<table border=\"1\" class=\"dataframe\">\n",
       "  <thead>\n",
       "    <tr style=\"text-align: right;\">\n",
       "      <th></th>\n",
       "      <th>original_title</th>\n",
       "    </tr>\n",
       "    <tr>\n",
       "      <th>release_month</th>\n",
       "      <th></th>\n",
       "    </tr>\n",
       "  </thead>\n",
       "  <tbody>\n",
       "    <tr>\n",
       "      <th>All</th>\n",
       "      <td>1889</td>\n",
       "    </tr>\n",
       "    <tr>\n",
       "      <th>9</th>\n",
       "      <td>227</td>\n",
       "    </tr>\n",
       "    <tr>\n",
       "      <th>12</th>\n",
       "      <td>190</td>\n",
       "    </tr>\n",
       "    <tr>\n",
       "      <th>10</th>\n",
       "      <td>186</td>\n",
       "    </tr>\n",
       "    <tr>\n",
       "      <th>8</th>\n",
       "      <td>161</td>\n",
       "    </tr>\n",
       "    <tr>\n",
       "      <th>3</th>\n",
       "      <td>156</td>\n",
       "    </tr>\n",
       "    <tr>\n",
       "      <th>4</th>\n",
       "      <td>149</td>\n",
       "    </tr>\n",
       "    <tr>\n",
       "      <th>6</th>\n",
       "      <td>147</td>\n",
       "    </tr>\n",
       "    <tr>\n",
       "      <th>11</th>\n",
       "      <td>146</td>\n",
       "    </tr>\n",
       "    <tr>\n",
       "      <th>7</th>\n",
       "      <td>142</td>\n",
       "    </tr>\n",
       "    <tr>\n",
       "      <th>5</th>\n",
       "      <td>140</td>\n",
       "    </tr>\n",
       "    <tr>\n",
       "      <th>2</th>\n",
       "      <td>135</td>\n",
       "    </tr>\n",
       "    <tr>\n",
       "      <th>1</th>\n",
       "      <td>110</td>\n",
       "    </tr>\n",
       "  </tbody>\n",
       "</table>\n",
       "</div>"
      ],
      "text/plain": [
       "               original_title\n",
       "release_month                \n",
       "All                      1889\n",
       "9                         227\n",
       "12                        190\n",
       "10                        186\n",
       "8                         161\n",
       "3                         156\n",
       "4                         149\n",
       "6                         147\n",
       "11                        146\n",
       "7                         142\n",
       "5                         140\n",
       "2                         135\n",
       "1                         110"
      ]
     },
     "execution_count": 71,
     "metadata": {},
     "output_type": "execute_result"
    }
   ],
   "source": [
    "data.pivot_table(values='original_title', index='release_month', aggfunc='count',\n",
    "                 margins=True).sort_values(by='original_title', ascending=False)"
   ]
  },
  {
   "cell_type": "code",
   "execution_count": 72,
   "metadata": {},
   "outputs": [
    {
     "data": {
      "text/plain": [
       "Text(0, 0.5, 'Number of movies')"
      ]
     },
     "execution_count": 72,
     "metadata": {},
     "output_type": "execute_result"
    },
    {
     "data": {
      "image/png": "[encoded data removed]",
      "text/plain": [
       "<Figure size 432x288 with 1 Axes>"
      ]
     },
     "metadata": {
      "needs_background": "light"
     },
     "output_type": "display_data"
    }
   ],
   "source": [
    "# Визуализация\n",
    "data_plot = data.pivot_table(values='original_title', index='release_month', aggfunc='count', margins=False).copy()\n",
    "plot = data_plot.plot(kind='bar')\n",
    "plot.set_title('Amount of Movies by release month')\n",
    "plot.set_xlabel('Month')\n",
    "plot.set_ylabel('Number of movies')"
   ]
  },
  {
   "cell_type": "markdown",
   "metadata": {
    "colab_type": "text",
    "id": "uAJsZ_NeVp_7"
   },
   "source": [
    "# 22. Сколько суммарно вышло фильмов летом? (за июнь, июль, август)"
   ]
  },
  {
   "cell_type": "code",
   "execution_count": 73,
   "metadata": {},
   "outputs": [],
   "source": [
    "answers['22'] = '2. 450'"
   ]
  },
  {
   "cell_type": "code",
   "execution_count": 74,
   "metadata": {
    "colab": {},
    "colab_type": "code",
    "id": "Aa-hEREoVp_8"
   },
   "outputs": [
    {
     "data": {
      "text/html": [
       "<div>\n",
       "<style scoped>\n",
       "    .dataframe tbody tr th:only-of-type {\n",
       "        vertical-align: middle;\n",
       "    }\n",
       "\n",
       "    .dataframe tbody tr th {\n",
       "        vertical-align: top;\n",
       "    }\n",
       "\n",
       "    .dataframe thead th {\n",
       "        text-align: right;\n",
       "    }\n",
       "</style>\n",
       "<table border=\"1\" class=\"dataframe\">\n",
       "  <thead>\n",
       "    <tr style=\"text-align: right;\">\n",
       "      <th></th>\n",
       "      <th>original_title</th>\n",
       "    </tr>\n",
       "    <tr>\n",
       "      <th>release_month</th>\n",
       "      <th></th>\n",
       "    </tr>\n",
       "  </thead>\n",
       "  <tbody>\n",
       "    <tr>\n",
       "      <th>6</th>\n",
       "      <td>147</td>\n",
       "    </tr>\n",
       "    <tr>\n",
       "      <th>7</th>\n",
       "      <td>142</td>\n",
       "    </tr>\n",
       "    <tr>\n",
       "      <th>8</th>\n",
       "      <td>161</td>\n",
       "    </tr>\n",
       "    <tr>\n",
       "      <th>All</th>\n",
       "      <td>450</td>\n",
       "    </tr>\n",
       "  </tbody>\n",
       "</table>\n",
       "</div>"
      ],
      "text/plain": [
       "               original_title\n",
       "release_month                \n",
       "6                         147\n",
       "7                         142\n",
       "8                         161\n",
       "All                       450"
      ]
     },
     "execution_count": 74,
     "metadata": {},
     "output_type": "execute_result"
    }
   ],
   "source": [
    "# ВАРИАНТ 1\n",
    "summer = [6, 7, 8]\n",
    "data[data.release_month.isin(summer)].pivot_table(values='original_title', index='release_month', aggfunc='count', margins=True)"
   ]
  },
  {
   "cell_type": "code",
   "execution_count": 75,
   "metadata": {},
   "outputs": [
    {
     "data": {
      "text/plain": [
       "450"
      ]
     },
     "execution_count": 75,
     "metadata": {},
     "output_type": "execute_result"
    }
   ],
   "source": [
    "# ВАРИАНТ 2\n",
    "data[data.release_month.isin(summer)].groupby('release_month').original_title.count().sum()"
   ]
  },
  {
   "cell_type": "markdown",
   "metadata": {
    "colab_type": "text",
    "id": "G94ppOY1VqAA"
   },
   "source": [
    "# 23. Для какого режиссера зима – самое продуктивное время года? "
   ]
  },
  {
   "cell_type": "code",
   "execution_count": 76,
   "metadata": {},
   "outputs": [],
   "source": [
    "answers['23'] = '5. Peter Jackson'"
   ]
  },
  {
   "cell_type": "code",
   "execution_count": 77,
   "metadata": {
    "colab": {},
    "colab_type": "code",
    "id": "RhNTsamuVqAB"
   },
   "outputs": [
    {
     "data": {
      "text/plain": [
       "director\n",
       "Peter Jackson            7\n",
       "Steven Soderbergh        6\n",
       "Clint Eastwood           6\n",
       "Martin Scorsese          4\n",
       "Adam Shankman            4\n",
       "                        ..\n",
       "Matt Bettinelli-Olpin    1\n",
       "Matt Reeves              1\n",
       "Matthew O'Callaghan      1\n",
       "Matthew Vaughn           1\n",
       "Jon Avnet                1\n",
       "Name: original_title, Length: 358, dtype: int64"
      ]
     },
     "execution_count": 77,
     "metadata": {},
     "output_type": "execute_result"
    }
   ],
   "source": [
    "# ВАРИАНТ 1\n",
    "winter = [1, 2, 12]\n",
    "winter_movies = data[data.release_month.isin(winter)].copy()\n",
    "winter_movies.director = winter_movies.director.str.split('|')\n",
    "winter_movies.explode('director').groupby('director').original_title.count().sort_values(ascending=False)"
   ]
  },
  {
   "cell_type": "code",
   "execution_count": 78,
   "metadata": {},
   "outputs": [
    {
     "data": {
      "text/html": [
       "<div>\n",
       "<style scoped>\n",
       "    .dataframe tbody tr th:only-of-type {\n",
       "        vertical-align: middle;\n",
       "    }\n",
       "\n",
       "    .dataframe tbody tr th {\n",
       "        vertical-align: top;\n",
       "    }\n",
       "\n",
       "    .dataframe thead th {\n",
       "        text-align: right;\n",
       "    }\n",
       "</style>\n",
       "<table border=\"1\" class=\"dataframe\">\n",
       "  <thead>\n",
       "    <tr style=\"text-align: right;\">\n",
       "      <th></th>\n",
       "      <th>original_title</th>\n",
       "    </tr>\n",
       "    <tr>\n",
       "      <th>director</th>\n",
       "      <th></th>\n",
       "    </tr>\n",
       "  </thead>\n",
       "  <tbody>\n",
       "    <tr>\n",
       "      <th>Peter Jackson</th>\n",
       "      <td>7</td>\n",
       "    </tr>\n",
       "    <tr>\n",
       "      <th>Steven Soderbergh</th>\n",
       "      <td>6</td>\n",
       "    </tr>\n",
       "    <tr>\n",
       "      <th>Clint Eastwood</th>\n",
       "      <td>6</td>\n",
       "    </tr>\n",
       "    <tr>\n",
       "      <th>Shawn Levy</th>\n",
       "      <td>4</td>\n",
       "    </tr>\n",
       "    <tr>\n",
       "      <th>Adam Shankman</th>\n",
       "      <td>4</td>\n",
       "    </tr>\n",
       "    <tr>\n",
       "      <th>...</th>\n",
       "      <td>...</td>\n",
       "    </tr>\n",
       "    <tr>\n",
       "      <th>John Luessenhop</th>\n",
       "      <td>1</td>\n",
       "    </tr>\n",
       "    <tr>\n",
       "      <th>John Musker</th>\n",
       "      <td>1</td>\n",
       "    </tr>\n",
       "    <tr>\n",
       "      <th>John Polson</th>\n",
       "      <td>1</td>\n",
       "    </tr>\n",
       "    <tr>\n",
       "      <th>Callan Brunker</th>\n",
       "      <td>1</td>\n",
       "    </tr>\n",
       "    <tr>\n",
       "      <th>Xavier Palud</th>\n",
       "      <td>1</td>\n",
       "    </tr>\n",
       "  </tbody>\n",
       "</table>\n",
       "<p>358 rows × 1 columns</p>\n",
       "</div>"
      ],
      "text/plain": [
       "                   original_title\n",
       "director                         \n",
       "Peter Jackson                   7\n",
       "Steven Soderbergh               6\n",
       "Clint Eastwood                  6\n",
       "Shawn Levy                      4\n",
       "Adam Shankman                   4\n",
       "...                           ...\n",
       "John Luessenhop                 1\n",
       "John Musker                     1\n",
       "John Polson                     1\n",
       "Callan Brunker                  1\n",
       "Xavier Palud                    1\n",
       "\n",
       "[358 rows x 1 columns]"
      ]
     },
     "execution_count": 78,
     "metadata": {},
     "output_type": "execute_result"
    }
   ],
   "source": [
    "# ВАРИАНТ 2\n",
    "winter_movies.explode('director').pivot_table(values='original_title', index='director',\n",
    "                                              aggfunc='count').sort_values(by='original_title', ascending=False)"
   ]
  },
  {
   "cell_type": "markdown",
   "metadata": {
    "colab_type": "text",
    "id": "RBo0JVjVVqAF"
   },
   "source": [
    "# 24. Какая студия дает самые длинные названия своим фильмам по количеству символов?"
   ]
  },
  {
   "cell_type": "code",
   "execution_count": 79,
   "metadata": {},
   "outputs": [],
   "source": [
    "answers['24'] = '5. Four By Two Productions'"
   ]
  },
  {
   "cell_type": "code",
   "execution_count": 80,
   "metadata": {
    "colab": {},
    "colab_type": "code",
    "id": "QRGS8L0iVqAG"
   },
   "outputs": [
    {
     "data": {
      "text/html": [
       "<div>\n",
       "<style scoped>\n",
       "    .dataframe tbody tr th:only-of-type {\n",
       "        vertical-align: middle;\n",
       "    }\n",
       "\n",
       "    .dataframe tbody tr th {\n",
       "        vertical-align: top;\n",
       "    }\n",
       "\n",
       "    .dataframe thead th {\n",
       "        text-align: right;\n",
       "    }\n",
       "</style>\n",
       "<table border=\"1\" class=\"dataframe\">\n",
       "  <thead>\n",
       "    <tr style=\"text-align: right;\">\n",
       "      <th></th>\n",
       "      <th>name_length</th>\n",
       "    </tr>\n",
       "    <tr>\n",
       "      <th>production_companies</th>\n",
       "      <th></th>\n",
       "    </tr>\n",
       "  </thead>\n",
       "  <tbody>\n",
       "    <tr>\n",
       "      <th>Four By Two Productions</th>\n",
       "      <td>83.0</td>\n",
       "    </tr>\n",
       "    <tr>\n",
       "      <th>Jim Henson Company, The</th>\n",
       "      <td>59.0</td>\n",
       "    </tr>\n",
       "    <tr>\n",
       "      <th>Dos Corazones</th>\n",
       "      <td>47.0</td>\n",
       "    </tr>\n",
       "    <tr>\n",
       "      <th>Polsky Films</th>\n",
       "      <td>46.0</td>\n",
       "    </tr>\n",
       "    <tr>\n",
       "      <th>Museum Canada Productions</th>\n",
       "      <td>46.0</td>\n",
       "    </tr>\n",
       "    <tr>\n",
       "      <th>...</th>\n",
       "      <td>...</td>\n",
       "    </tr>\n",
       "    <tr>\n",
       "      <th>Everest Entertainment</th>\n",
       "      <td>3.0</td>\n",
       "    </tr>\n",
       "    <tr>\n",
       "      <th>Berlanti Productions</th>\n",
       "      <td>3.0</td>\n",
       "    </tr>\n",
       "    <tr>\n",
       "      <th>Global Entertainment Group</th>\n",
       "      <td>2.0</td>\n",
       "    </tr>\n",
       "    <tr>\n",
       "      <th>XM2 Productions</th>\n",
       "      <td>2.0</td>\n",
       "    </tr>\n",
       "    <tr>\n",
       "      <th>Ixtlan Productions</th>\n",
       "      <td>2.0</td>\n",
       "    </tr>\n",
       "  </tbody>\n",
       "</table>\n",
       "<p>1771 rows × 1 columns</p>\n",
       "</div>"
      ],
      "text/plain": [
       "                            name_length\n",
       "production_companies                   \n",
       "Four By Two Productions            83.0\n",
       "Jim Henson Company, The            59.0\n",
       "Dos Corazones                      47.0\n",
       "Polsky Films                       46.0\n",
       "Museum Canada Productions          46.0\n",
       "...                                 ...\n",
       "Everest Entertainment               3.0\n",
       "Berlanti Productions                3.0\n",
       "Global Entertainment Group          2.0\n",
       "XM2 Productions                     2.0\n",
       "Ixtlan Productions                  2.0\n",
       "\n",
       "[1771 rows x 1 columns]"
      ]
     },
     "execution_count": 80,
     "metadata": {},
     "output_type": "execute_result"
    }
   ],
   "source": [
    "# Будем работать в отдельном датасете\n",
    "data_copy = data.copy()\n",
    "data_copy.production_companies = data_copy.production_companies.str.split('|')\n",
    "\n",
    "# Создадим столбец с длиной названия фильма\n",
    "data_copy['name_length'] = data_copy.original_title.str.len()\n",
    "\n",
    "# Соберем сводную таблицу с аггрегирующей функцией - средняя длина названия фильма, отсортируем по убыванию\n",
    "data_copy.explode('production_companies').pivot_table(values='name_length',\n",
    "                                                      index='production_companies', aggfunc='mean').sort_values(by='name_length', ascending=False)"
   ]
  },
  {
   "cell_type": "markdown",
   "metadata": {
    "colab_type": "text",
    "id": "9G0hbvR7VqAK"
   },
   "source": [
    "# 25. Описание фильмов какой студии в среднем самые длинные по количеству слов?"
   ]
  },
  {
   "cell_type": "code",
   "execution_count": 81,
   "metadata": {},
   "outputs": [],
   "source": [
    "answers['25'] = '3. Midnight Picture Show'"
   ]
  },
  {
   "cell_type": "code",
   "execution_count": 82,
   "metadata": {
    "colab": {},
    "colab_type": "code",
    "id": "Ge2GsLNxVqAK"
   },
   "outputs": [
    {
     "data": {
      "text/html": [
       "<div>\n",
       "<style scoped>\n",
       "    .dataframe tbody tr th:only-of-type {\n",
       "        vertical-align: middle;\n",
       "    }\n",
       "\n",
       "    .dataframe tbody tr th {\n",
       "        vertical-align: top;\n",
       "    }\n",
       "\n",
       "    .dataframe thead th {\n",
       "        text-align: right;\n",
       "    }\n",
       "</style>\n",
       "<table border=\"1\" class=\"dataframe\">\n",
       "  <thead>\n",
       "    <tr style=\"text-align: right;\">\n",
       "      <th></th>\n",
       "      <th>overview_length</th>\n",
       "    </tr>\n",
       "    <tr>\n",
       "      <th>production_companies</th>\n",
       "      <th></th>\n",
       "    </tr>\n",
       "  </thead>\n",
       "  <tbody>\n",
       "    <tr>\n",
       "      <th>Midnight Picture Show</th>\n",
       "      <td>1000.0</td>\n",
       "    </tr>\n",
       "    <tr>\n",
       "      <th>Room 9 Entertainment</th>\n",
       "      <td>964.0</td>\n",
       "    </tr>\n",
       "    <tr>\n",
       "      <th>Brookwell-McNamara Entertainment</th>\n",
       "      <td>936.0</td>\n",
       "    </tr>\n",
       "    <tr>\n",
       "      <th>Lions Gate Family Entertainment</th>\n",
       "      <td>909.0</td>\n",
       "    </tr>\n",
       "    <tr>\n",
       "      <th>Crest Animation Productions</th>\n",
       "      <td>909.0</td>\n",
       "    </tr>\n",
       "    <tr>\n",
       "      <th>...</th>\n",
       "      <td>...</td>\n",
       "    </tr>\n",
       "    <tr>\n",
       "      <th>London Boulevard</th>\n",
       "      <td>74.0</td>\n",
       "    </tr>\n",
       "    <tr>\n",
       "      <th>Henceforth</th>\n",
       "      <td>74.0</td>\n",
       "    </tr>\n",
       "    <tr>\n",
       "      <th>Phantom Four</th>\n",
       "      <td>72.0</td>\n",
       "    </tr>\n",
       "    <tr>\n",
       "      <th>Empire Pictures</th>\n",
       "      <td>62.0</td>\n",
       "    </tr>\n",
       "    <tr>\n",
       "      <th>Motion Picture Corporation of America</th>\n",
       "      <td>59.0</td>\n",
       "    </tr>\n",
       "  </tbody>\n",
       "</table>\n",
       "<p>1771 rows × 1 columns</p>\n",
       "</div>"
      ],
      "text/plain": [
       "                                       overview_length\n",
       "production_companies                                  \n",
       "Midnight Picture Show                           1000.0\n",
       "Room 9 Entertainment                             964.0\n",
       "Brookwell-McNamara Entertainment                 936.0\n",
       "Lions Gate Family Entertainment                  909.0\n",
       "Crest Animation Productions                      909.0\n",
       "...                                                ...\n",
       "London Boulevard                                  74.0\n",
       "Henceforth                                        74.0\n",
       "Phantom Four                                      72.0\n",
       "Empire Pictures                                   62.0\n",
       "Motion Picture Corporation of America             59.0\n",
       "\n",
       "[1771 rows x 1 columns]"
      ]
     },
     "execution_count": 82,
     "metadata": {},
     "output_type": "execute_result"
    }
   ],
   "source": [
    "data_copy['overview_length'] = data_copy.overview.str.len()\n",
    "data_copy.explode('production_companies').pivot_table(values='overview_length',\n",
    "                                                      index='production_companies', aggfunc='mean').sort_values(by='overview_length', ascending=False)"
   ]
  },
  {
   "cell_type": "markdown",
   "metadata": {
    "colab_type": "text",
    "id": "FJ1AFt90VqAP"
   },
   "source": [
    "# 26. Какие фильмы входят в 1 процент лучших по рейтингу? \n",
    "по vote_average"
   ]
  },
  {
   "cell_type": "code",
   "execution_count": 83,
   "metadata": {},
   "outputs": [],
   "source": [
    "answers['26'] = '1. Inside Out, The Dark Knight, 12 Years a Slave'"
   ]
  },
  {
   "cell_type": "code",
   "execution_count": 84,
   "metadata": {
    "colab": {},
    "colab_type": "code",
    "id": "8qmJVq4CVqAQ"
   },
   "outputs": [
    {
     "data": {
      "text/html": [
       "<div>\n",
       "<style scoped>\n",
       "    .dataframe tbody tr th:only-of-type {\n",
       "        vertical-align: middle;\n",
       "    }\n",
       "\n",
       "    .dataframe tbody tr th {\n",
       "        vertical-align: top;\n",
       "    }\n",
       "\n",
       "    .dataframe thead th {\n",
       "        text-align: right;\n",
       "    }\n",
       "</style>\n",
       "<table border=\"1\" class=\"dataframe\">\n",
       "  <thead>\n",
       "    <tr style=\"text-align: right;\">\n",
       "      <th></th>\n",
       "      <th>imdb_id</th>\n",
       "      <th>budget</th>\n",
       "      <th>revenue</th>\n",
       "      <th>profit</th>\n",
       "      <th>original_title</th>\n",
       "      <th>cast</th>\n",
       "      <th>director</th>\n",
       "      <th>tagline</th>\n",
       "      <th>overview</th>\n",
       "      <th>runtime</th>\n",
       "      <th>genres</th>\n",
       "      <th>production_companies</th>\n",
       "      <th>release_date</th>\n",
       "      <th>vote_average</th>\n",
       "      <th>release_year</th>\n",
       "      <th>release_month</th>\n",
       "    </tr>\n",
       "  </thead>\n",
       "  <tbody>\n",
       "    <tr>\n",
       "      <th>599</th>\n",
       "      <td>tt0468569</td>\n",
       "      <td>185000000</td>\n",
       "      <td>1001921825</td>\n",
       "      <td>816921825</td>\n",
       "      <td>The Dark Knight</td>\n",
       "      <td>Christian Bale|Michael Caine|Heath Ledger|Aaro...</td>\n",
       "      <td>Christopher Nolan</td>\n",
       "      <td>Why So Serious?</td>\n",
       "      <td>Batman raises the stakes in his war on crime. ...</td>\n",
       "      <td>152</td>\n",
       "      <td>Drama|Action|Crime|Thriller</td>\n",
       "      <td>DC Comics|Legendary Pictures|Warner Bros.|Syncopy</td>\n",
       "      <td>2008-07-16</td>\n",
       "      <td>8.1</td>\n",
       "      <td>2008</td>\n",
       "      <td>7</td>\n",
       "    </tr>\n",
       "    <tr>\n",
       "      <th>9</th>\n",
       "      <td>tt2096673</td>\n",
       "      <td>175000000</td>\n",
       "      <td>853708609</td>\n",
       "      <td>678708609</td>\n",
       "      <td>Inside Out</td>\n",
       "      <td>Amy Poehler|Phyllis Smith|Richard Kind|Bill Ha...</td>\n",
       "      <td>Pete Docter</td>\n",
       "      <td>Meet the little voices inside your head.</td>\n",
       "      <td>Growing up can be a bumpy road, and it's no ex...</td>\n",
       "      <td>94</td>\n",
       "      <td>Comedy|Animation|Family</td>\n",
       "      <td>Walt Disney Pictures|Pixar Animation Studios|W...</td>\n",
       "      <td>2015-06-09</td>\n",
       "      <td>8.0</td>\n",
       "      <td>2015</td>\n",
       "      <td>6</td>\n",
       "    </tr>\n",
       "    <tr>\n",
       "      <th>34</th>\n",
       "      <td>tt3170832</td>\n",
       "      <td>6000000</td>\n",
       "      <td>35401758</td>\n",
       "      <td>29401758</td>\n",
       "      <td>Room</td>\n",
       "      <td>Brie Larson|Jacob Tremblay|Joan Allen|Sean Bri...</td>\n",
       "      <td>Lenny Abrahamson</td>\n",
       "      <td>Love knows no boundaries</td>\n",
       "      <td>Jack is a young boy of 5 years old who has liv...</td>\n",
       "      <td>117</td>\n",
       "      <td>Drama|Thriller</td>\n",
       "      <td>Element Pictures|No Trace Camping|A24|Duperele...</td>\n",
       "      <td>2015-10-16</td>\n",
       "      <td>8.0</td>\n",
       "      <td>2015</td>\n",
       "      <td>10</td>\n",
       "    </tr>\n",
       "    <tr>\n",
       "      <th>118</th>\n",
       "      <td>tt0816692</td>\n",
       "      <td>165000000</td>\n",
       "      <td>621752480</td>\n",
       "      <td>456752480</td>\n",
       "      <td>Interstellar</td>\n",
       "      <td>Matthew McConaughey|Jessica Chastain|Anne Hath...</td>\n",
       "      <td>Christopher Nolan</td>\n",
       "      <td>Mankind was born on Earth. It was never meant ...</td>\n",
       "      <td>Interstellar chronicles the adventures of a gr...</td>\n",
       "      <td>169</td>\n",
       "      <td>Adventure|Drama|Science Fiction</td>\n",
       "      <td>Paramount Pictures|Legendary Pictures|Warner B...</td>\n",
       "      <td>2014-11-05</td>\n",
       "      <td>8.0</td>\n",
       "      <td>2014</td>\n",
       "      <td>11</td>\n",
       "    </tr>\n",
       "    <tr>\n",
       "      <th>125</th>\n",
       "      <td>tt2084970</td>\n",
       "      <td>14000000</td>\n",
       "      <td>233555708</td>\n",
       "      <td>219555708</td>\n",
       "      <td>The Imitation Game</td>\n",
       "      <td>Benedict Cumberbatch|Keira Knightley|Matthew G...</td>\n",
       "      <td>Morten Tyldum</td>\n",
       "      <td>The true enigma was the man who cracked the code.</td>\n",
       "      <td>Based on the real life story of legendary cryp...</td>\n",
       "      <td>113</td>\n",
       "      <td>History|Drama|Thriller|War</td>\n",
       "      <td>Black Bear Pictures|Bristol Automotive</td>\n",
       "      <td>2014-11-14</td>\n",
       "      <td>8.0</td>\n",
       "      <td>2014</td>\n",
       "      <td>11</td>\n",
       "    </tr>\n",
       "    <tr>\n",
       "      <th>119</th>\n",
       "      <td>tt2015381</td>\n",
       "      <td>170000000</td>\n",
       "      <td>773312399</td>\n",
       "      <td>603312399</td>\n",
       "      <td>Guardians of the Galaxy</td>\n",
       "      <td>Chris Pratt|Zoe Saldana|Dave Bautista|Vin Dies...</td>\n",
       "      <td>James Gunn</td>\n",
       "      <td>All heroes start somewhere.</td>\n",
       "      <td>Light years from Earth, 26 years after being a...</td>\n",
       "      <td>121</td>\n",
       "      <td>Action|Science Fiction|Adventure</td>\n",
       "      <td>Marvel Studios|Moving Picture Company (MPC)|Bu...</td>\n",
       "      <td>2014-07-30</td>\n",
       "      <td>7.9</td>\n",
       "      <td>2014</td>\n",
       "      <td>7</td>\n",
       "    </tr>\n",
       "    <tr>\n",
       "      <th>128</th>\n",
       "      <td>tt2267998</td>\n",
       "      <td>61000000</td>\n",
       "      <td>369330363</td>\n",
       "      <td>308330363</td>\n",
       "      <td>Gone Girl</td>\n",
       "      <td>Ben Affleck|Rosamund Pike|Carrie Coon|Neil Pat...</td>\n",
       "      <td>David Fincher</td>\n",
       "      <td>You don't know what you've got 'til it's...</td>\n",
       "      <td>With his wife's disappearance having become th...</td>\n",
       "      <td>145</td>\n",
       "      <td>Mystery|Thriller|Drama</td>\n",
       "      <td>Twentieth Century Fox Film Corporation|Regency...</td>\n",
       "      <td>2014-10-01</td>\n",
       "      <td>7.9</td>\n",
       "      <td>2014</td>\n",
       "      <td>10</td>\n",
       "    </tr>\n",
       "    <tr>\n",
       "      <th>138</th>\n",
       "      <td>tt2278388</td>\n",
       "      <td>30000000</td>\n",
       "      <td>174600318</td>\n",
       "      <td>144600318</td>\n",
       "      <td>The Grand Budapest Hotel</td>\n",
       "      <td>Ralph Fiennes|Tony Revolori|F. Murray Abraham|...</td>\n",
       "      <td>Wes Anderson</td>\n",
       "      <td>A perfect holiday without leaving home.</td>\n",
       "      <td>The Grand Budapest Hotel tells of a legendary ...</td>\n",
       "      <td>99</td>\n",
       "      <td>Comedy|Drama</td>\n",
       "      <td>Fox Searchlight Pictures|Scott Rudin Productio...</td>\n",
       "      <td>2014-02-26</td>\n",
       "      <td>7.9</td>\n",
       "      <td>2014</td>\n",
       "      <td>2</td>\n",
       "    </tr>\n",
       "    <tr>\n",
       "      <th>370</th>\n",
       "      <td>tt1375666</td>\n",
       "      <td>160000000</td>\n",
       "      <td>825500000</td>\n",
       "      <td>665500000</td>\n",
       "      <td>Inception</td>\n",
       "      <td>Leonardo DiCaprio|Joseph Gordon-Levitt|Ellen P...</td>\n",
       "      <td>Christopher Nolan</td>\n",
       "      <td>Your mind is the scene of the crime.</td>\n",
       "      <td>Cobb, a skilled thief who commits corporate es...</td>\n",
       "      <td>148</td>\n",
       "      <td>Action|Thriller|Science Fiction|Mystery|Adventure</td>\n",
       "      <td>Legendary Pictures|Warner Bros.|Syncopy</td>\n",
       "      <td>2010-07-14</td>\n",
       "      <td>7.9</td>\n",
       "      <td>2010</td>\n",
       "      <td>7</td>\n",
       "    </tr>\n",
       "    <tr>\n",
       "      <th>872</th>\n",
       "      <td>tt0253474</td>\n",
       "      <td>35000000</td>\n",
       "      <td>120072577</td>\n",
       "      <td>85072577</td>\n",
       "      <td>The Pianist</td>\n",
       "      <td>Adrien Brody|Thomas Kretschmann|Frank Finlay|M...</td>\n",
       "      <td>Roman Polanski</td>\n",
       "      <td>Music was his passion. Survival was his master...</td>\n",
       "      <td>The Pianist is a film adapted from the biograp...</td>\n",
       "      <td>150</td>\n",
       "      <td>Drama|War</td>\n",
       "      <td>Bac Films|Canal+Polska|Heritage Films|Studio B...</td>\n",
       "      <td>2002-09-24</td>\n",
       "      <td>7.9</td>\n",
       "      <td>2002</td>\n",
       "      <td>9</td>\n",
       "    </tr>\n",
       "    <tr>\n",
       "      <th>1081</th>\n",
       "      <td>tt0167260</td>\n",
       "      <td>94000000</td>\n",
       "      <td>1118888979</td>\n",
       "      <td>1024888979</td>\n",
       "      <td>The Lord of the Rings: The Return of the King</td>\n",
       "      <td>Elijah Wood|Ian McKellen|Viggo Mortensen|Liv T...</td>\n",
       "      <td>Peter Jackson</td>\n",
       "      <td>The eye of the enemy is moving.</td>\n",
       "      <td>Aragorn is revealed as the heir to the ancient...</td>\n",
       "      <td>201</td>\n",
       "      <td>Adventure|Fantasy|Action</td>\n",
       "      <td>WingNut Films|New Line Cinema</td>\n",
       "      <td>2003-12-01</td>\n",
       "      <td>7.9</td>\n",
       "      <td>2003</td>\n",
       "      <td>12</td>\n",
       "    </tr>\n",
       "    <tr>\n",
       "      <th>1183</th>\n",
       "      <td>tt0993846</td>\n",
       "      <td>100000000</td>\n",
       "      <td>392000694</td>\n",
       "      <td>292000694</td>\n",
       "      <td>The Wolf of Wall Street</td>\n",
       "      <td>Leonardo DiCaprio|Jonah Hill|Margot Robbie|Kyl...</td>\n",
       "      <td>Martin Scorsese</td>\n",
       "      <td>EARN. SPEND. PARTY.</td>\n",
       "      <td>A New York stockbroker refuses to cooperate in...</td>\n",
       "      <td>180</td>\n",
       "      <td>Crime|Drama|Comedy</td>\n",
       "      <td>Paramount Pictures|Appian Way|EMJAG Production...</td>\n",
       "      <td>2013-12-25</td>\n",
       "      <td>7.9</td>\n",
       "      <td>2013</td>\n",
       "      <td>12</td>\n",
       "    </tr>\n",
       "    <tr>\n",
       "      <th>1191</th>\n",
       "      <td>tt2024544</td>\n",
       "      <td>20000000</td>\n",
       "      <td>187000000</td>\n",
       "      <td>167000000</td>\n",
       "      <td>12 Years a Slave</td>\n",
       "      <td>Chiwetel Ejiofor|Michael Fassbender|Lupita Nyo...</td>\n",
       "      <td>Steve McQueen</td>\n",
       "      <td>The extraordinary true story of Solomon Northup</td>\n",
       "      <td>In the pre-Civil War United States, Solomon No...</td>\n",
       "      <td>134</td>\n",
       "      <td>Drama|History</td>\n",
       "      <td>Plan B Entertainment|Regency Enterprises|River...</td>\n",
       "      <td>2013-10-18</td>\n",
       "      <td>7.9</td>\n",
       "      <td>2013</td>\n",
       "      <td>10</td>\n",
       "    </tr>\n",
       "    <tr>\n",
       "      <th>1800</th>\n",
       "      <td>tt0209144</td>\n",
       "      <td>9000000</td>\n",
       "      <td>39723096</td>\n",
       "      <td>30723096</td>\n",
       "      <td>Memento</td>\n",
       "      <td>Guy Pearce|Carrie-Anne Moss|Joe Pantoliano|Mar...</td>\n",
       "      <td>Christopher Nolan</td>\n",
       "      <td>Some memories are best forgotten.</td>\n",
       "      <td>Suffering short-term memory loss after a head ...</td>\n",
       "      <td>113</td>\n",
       "      <td>Mystery|Thriller</td>\n",
       "      <td>Summit Entertainment|Newmarket Capital Group|T...</td>\n",
       "      <td>2000-10-11</td>\n",
       "      <td>7.9</td>\n",
       "      <td>2000</td>\n",
       "      <td>10</td>\n",
       "    </tr>\n",
       "  </tbody>\n",
       "</table>\n",
       "</div>"
      ],
      "text/plain": [
       "        imdb_id     budget     revenue      profit  \\\n",
       "599   tt0468569  185000000  1001921825   816921825   \n",
       "9     tt2096673  175000000   853708609   678708609   \n",
       "34    tt3170832    6000000    35401758    29401758   \n",
       "118   tt0816692  165000000   621752480   456752480   \n",
       "125   tt2084970   14000000   233555708   219555708   \n",
       "119   tt2015381  170000000   773312399   603312399   \n",
       "128   tt2267998   61000000   369330363   308330363   \n",
       "138   tt2278388   30000000   174600318   144600318   \n",
       "370   tt1375666  160000000   825500000   665500000   \n",
       "872   tt0253474   35000000   120072577    85072577   \n",
       "1081  tt0167260   94000000  1118888979  1024888979   \n",
       "1183  tt0993846  100000000   392000694   292000694   \n",
       "1191  tt2024544   20000000   187000000   167000000   \n",
       "1800  tt0209144    9000000    39723096    30723096   \n",
       "\n",
       "                                     original_title  \\\n",
       "599                                 The Dark Knight   \n",
       "9                                        Inside Out   \n",
       "34                                             Room   \n",
       "118                                    Interstellar   \n",
       "125                              The Imitation Game   \n",
       "119                         Guardians of the Galaxy   \n",
       "128                                       Gone Girl   \n",
       "138                        The Grand Budapest Hotel   \n",
       "370                                       Inception   \n",
       "872                                     The Pianist   \n",
       "1081  The Lord of the Rings: The Return of the King   \n",
       "1183                        The Wolf of Wall Street   \n",
       "1191                               12 Years a Slave   \n",
       "1800                                        Memento   \n",
       "\n",
       "                                                   cast           director  \\\n",
       "599   Christian Bale|Michael Caine|Heath Ledger|Aaro...  Christopher Nolan   \n",
       "9     Amy Poehler|Phyllis Smith|Richard Kind|Bill Ha...        Pete Docter   \n",
       "34    Brie Larson|Jacob Tremblay|Joan Allen|Sean Bri...   Lenny Abrahamson   \n",
       "118   Matthew McConaughey|Jessica Chastain|Anne Hath...  Christopher Nolan   \n",
       "125   Benedict Cumberbatch|Keira Knightley|Matthew G...      Morten Tyldum   \n",
       "119   Chris Pratt|Zoe Saldana|Dave Bautista|Vin Dies...         James Gunn   \n",
       "128   Ben Affleck|Rosamund Pike|Carrie Coon|Neil Pat...      David Fincher   \n",
       "138   Ralph Fiennes|Tony Revolori|F. Murray Abraham|...       Wes Anderson   \n",
       "370   Leonardo DiCaprio|Joseph Gordon-Levitt|Ellen P...  Christopher Nolan   \n",
       "872   Adrien Brody|Thomas Kretschmann|Frank Finlay|M...     Roman Polanski   \n",
       "1081  Elijah Wood|Ian McKellen|Viggo Mortensen|Liv T...      Peter Jackson   \n",
       "1183  Leonardo DiCaprio|Jonah Hill|Margot Robbie|Kyl...    Martin Scorsese   \n",
       "1191  Chiwetel Ejiofor|Michael Fassbender|Lupita Nyo...      Steve McQueen   \n",
       "1800  Guy Pearce|Carrie-Anne Moss|Joe Pantoliano|Mar...  Christopher Nolan   \n",
       "\n",
       "                                                tagline  \\\n",
       "599                                     Why So Serious?   \n",
       "9              Meet the little voices inside your head.   \n",
       "34                             Love knows no boundaries   \n",
       "118   Mankind was born on Earth. It was never meant ...   \n",
       "125   The true enigma was the man who cracked the code.   \n",
       "119                         All heroes start somewhere.   \n",
       "128         You don't know what you've got 'til it's...   \n",
       "138             A perfect holiday without leaving home.   \n",
       "370                Your mind is the scene of the crime.   \n",
       "872   Music was his passion. Survival was his master...   \n",
       "1081                    The eye of the enemy is moving.   \n",
       "1183                                EARN. SPEND. PARTY.   \n",
       "1191    The extraordinary true story of Solomon Northup   \n",
       "1800                  Some memories are best forgotten.   \n",
       "\n",
       "                                               overview  runtime  \\\n",
       "599   Batman raises the stakes in his war on crime. ...      152   \n",
       "9     Growing up can be a bumpy road, and it's no ex...       94   \n",
       "34    Jack is a young boy of 5 years old who has liv...      117   \n",
       "118   Interstellar chronicles the adventures of a gr...      169   \n",
       "125   Based on the real life story of legendary cryp...      113   \n",
       "119   Light years from Earth, 26 years after being a...      121   \n",
       "128   With his wife's disappearance having become th...      145   \n",
       "138   The Grand Budapest Hotel tells of a legendary ...       99   \n",
       "370   Cobb, a skilled thief who commits corporate es...      148   \n",
       "872   The Pianist is a film adapted from the biograp...      150   \n",
       "1081  Aragorn is revealed as the heir to the ancient...      201   \n",
       "1183  A New York stockbroker refuses to cooperate in...      180   \n",
       "1191  In the pre-Civil War United States, Solomon No...      134   \n",
       "1800  Suffering short-term memory loss after a head ...      113   \n",
       "\n",
       "                                                 genres  \\\n",
       "599                         Drama|Action|Crime|Thriller   \n",
       "9                               Comedy|Animation|Family   \n",
       "34                                       Drama|Thriller   \n",
       "118                     Adventure|Drama|Science Fiction   \n",
       "125                          History|Drama|Thriller|War   \n",
       "119                    Action|Science Fiction|Adventure   \n",
       "128                              Mystery|Thriller|Drama   \n",
       "138                                        Comedy|Drama   \n",
       "370   Action|Thriller|Science Fiction|Mystery|Adventure   \n",
       "872                                           Drama|War   \n",
       "1081                           Adventure|Fantasy|Action   \n",
       "1183                                 Crime|Drama|Comedy   \n",
       "1191                                      Drama|History   \n",
       "1800                                   Mystery|Thriller   \n",
       "\n",
       "                                   production_companies release_date  \\\n",
       "599   DC Comics|Legendary Pictures|Warner Bros.|Syncopy   2008-07-16   \n",
       "9     Walt Disney Pictures|Pixar Animation Studios|W...   2015-06-09   \n",
       "34    Element Pictures|No Trace Camping|A24|Duperele...   2015-10-16   \n",
       "118   Paramount Pictures|Legendary Pictures|Warner B...   2014-11-05   \n",
       "125              Black Bear Pictures|Bristol Automotive   2014-11-14   \n",
       "119   Marvel Studios|Moving Picture Company (MPC)|Bu...   2014-07-30   \n",
       "128   Twentieth Century Fox Film Corporation|Regency...   2014-10-01   \n",
       "138   Fox Searchlight Pictures|Scott Rudin Productio...   2014-02-26   \n",
       "370             Legendary Pictures|Warner Bros.|Syncopy   2010-07-14   \n",
       "872   Bac Films|Canal+Polska|Heritage Films|Studio B...   2002-09-24   \n",
       "1081                      WingNut Films|New Line Cinema   2003-12-01   \n",
       "1183  Paramount Pictures|Appian Way|EMJAG Production...   2013-12-25   \n",
       "1191  Plan B Entertainment|Regency Enterprises|River...   2013-10-18   \n",
       "1800  Summit Entertainment|Newmarket Capital Group|T...   2000-10-11   \n",
       "\n",
       "      vote_average  release_year  release_month  \n",
       "599            8.1          2008              7  \n",
       "9              8.0          2015              6  \n",
       "34             8.0          2015             10  \n",
       "118            8.0          2014             11  \n",
       "125            8.0          2014             11  \n",
       "119            7.9          2014              7  \n",
       "128            7.9          2014             10  \n",
       "138            7.9          2014              2  \n",
       "370            7.9          2010              7  \n",
       "872            7.9          2002              9  \n",
       "1081           7.9          2003             12  \n",
       "1183           7.9          2013             12  \n",
       "1191           7.9          2013             10  \n",
       "1800           7.9          2000             10  "
      ]
     },
     "metadata": {},
     "output_type": "display_data"
    }
   ],
   "source": [
    "top1_movies = data[data.vote_average > [np.percentile(data.vote_average, 99)][0]].sort_values('vote_average', ascending=False)\n",
    "display(top1_movies)"
   ]
  },
  {
   "cell_type": "markdown",
   "metadata": {
    "colab_type": "text",
    "id": "MdXsUXbCVqAV"
   },
   "source": [
    "# 27. Какие актеры чаще всего снимаются в одном фильме вместе?\n"
   ]
  },
  {
   "cell_type": "code",
   "execution_count": 85,
   "metadata": {},
   "outputs": [],
   "source": [
    "answers['27'] = '5. Daniel Radcliffe & Rupert Grint'"
   ]
  },
  {
   "cell_type": "code",
   "execution_count": 86,
   "metadata": {},
   "outputs": [
    {
     "data": {
      "text/plain": [
       "(('Daniel Radcliffe', 'Rupert Grint'), 8)"
      ]
     },
     "execution_count": 86,
     "metadata": {},
     "output_type": "execute_result"
    }
   ],
   "source": [
    "# Будем работать в отдельном датасете\n",
    "data_copy1 = data.copy()\n",
    "\n",
    "# Разобъем записи с актерским составом на списки\n",
    "data_copy1.cast = data_copy1.cast.str.split('|')\n",
    "\n",
    "# Сформируем список актерских двоек (tuples), применив комбинаторный итератор combinations\n",
    "pairs_list = data_copy1.cast.apply(lambda x: list(combinations(x, 2))).to_list()\n",
    "\n",
    "# Превратим получившийся список списков в простой список двоек\n",
    "pairs_list = list(chain.from_iterable(pairs_list))\n",
    "\n",
    "# Применим Counter для подсчета наиболее упоминаемых пар\n",
    "Counter(pairs_list).most_common()[0]"
   ]
  },
  {
   "cell_type": "markdown",
   "metadata": {
    "colab_type": "text",
    "id": "U0nONFnGVqAX"
   },
   "source": [
    "# Submission"
   ]
  },
  {
   "cell_type": "code",
   "execution_count": 87,
   "metadata": {
    "colab": {},
    "colab_type": "code",
    "id": "IfcaRO9-VqAX",
    "outputId": "0f132912-32bb-4196-c98c-abfbc4ad5a5f"
   },
   "outputs": [
    {
     "data": {
      "text/plain": [
       "{'1': '5. Pirates of the Caribbean: On Stranger Tides (tt1298650)',\n",
       " '2': '2. Gods and Generals (tt0279111)',\n",
       " '3': '3. Winnie the Pooh (tt1449283)',\n",
       " '4': '2. 110',\n",
       " '5': '1. 107',\n",
       " '6': '5. Avatar (tt0499549)',\n",
       " '7': '5. The Lone Ranger (tt1210819)',\n",
       " '8': '1. 1478',\n",
       " '9': '4. The Dark Knight (tt0468569)',\n",
       " '10': '5. The Lone Ranger (tt1210819)',\n",
       " '11': '3. Drama',\n",
       " '12': '1. Drama',\n",
       " '13': '5. Peter Jackson',\n",
       " '14': '3. Robert Rodriguez',\n",
       " '15': '3. Chris Hemsworth',\n",
       " '16': '3. Matt Damon',\n",
       " '17': '2. Action',\n",
       " '18': '1. K-19: The Widowmaker (tt0267626)',\n",
       " '19': '5. 2015',\n",
       " '20': '1. 2014',\n",
       " '21': '4. Сентябрь',\n",
       " '22': '2. 450',\n",
       " '23': '5. Peter Jackson',\n",
       " '24': '5. Four By Two Productions',\n",
       " '25': '3. Midnight Picture Show',\n",
       " '26': '1. Inside Out, The Dark Knight, 12 Years a Slave',\n",
       " '27': '5. Daniel Radcliffe & Rupert Grint'}"
      ]
     },
     "execution_count": 87,
     "metadata": {},
     "output_type": "execute_result"
    }
   ],
   "source": [
    "# в конце можно посмотреть свои ответы к каждому вопросу\n",
    "answers"
   ]
  },
  {
   "cell_type": "code",
   "execution_count": 88,
   "metadata": {
    "colab": {},
    "colab_type": "code",
    "id": "SiRmHPl8VqAd"
   },
   "outputs": [
    {
     "data": {
      "text/plain": [
       "27"
      ]
     },
     "execution_count": 88,
     "metadata": {},
     "output_type": "execute_result"
    }
   ],
   "source": [
    "# и убедиться что ни чего не пропустил)\n",
    "len(answers)"
   ]
  }
 ],
 "metadata": {
  "colab": {
   "name": "Copy of [SF-DST] Movies IMBD v4.1 TEMPLATE.ipynb",
   "provenance": []
  },
  "kernelspec": {
   "display_name": "Python 3",
   "language": "python",
   "name": "python3"
  },
  "language_info": {
   "codemirror_mode": {
    "name": "ipython",
    "version": 3
   },
   "file_extension": ".py",
   "mimetype": "text/x-python",
   "name": "python",
   "nbconvert_exporter": "python",
   "pygments_lexer": "ipython3",
   "version": "3.7.6"
  }
 },
 "nbformat": 4,
 "nbformat_minor": 1
}
